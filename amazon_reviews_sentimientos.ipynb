{
 "cells": [
  {
   "cell_type": "markdown",
   "metadata": {},
   "source": [
    "Importar librerias necesarias:"
   ]
  },
  {
   "cell_type": "code",
   "execution_count": 1,
   "metadata": {
    "colab": {},
    "colab_type": "code",
    "executionInfo": {
     "elapsed": 405,
     "status": "ok",
     "timestamp": 1595885512188,
     "user": {
      "displayName": "Pablo Clemente",
      "photoUrl": "https://lh3.googleusercontent.com/a-/AOh14GiclvfEWnqrlrKufEuyZS6rUEs7IJMYC3GL1ammZA=s64",
      "userId": "11632010352476865907"
     },
     "user_tz": 300
    },
    "id": "zgIICvZ2ZEzo"
   },
   "outputs": [],
   "source": [
    "import fastai.basics as fai\n",
    "import pandas as pd\n",
    "import numpy as np\n",
    "from pathlib import Path\n",
    "\n",
    "import warnings\n",
    "warnings.simplefilter(\"ignore\")"
   ]
  },
  {
   "cell_type": "markdown",
   "metadata": {},
   "source": [
    "# Modelo Básico para Análisis de Sentimiento de Amazon Reviews"
   ]
  },
  {
   "cell_type": "markdown",
   "metadata": {},
   "source": [
    "En el presente proyecto se busca mostrar el desempeño de un modelo básico para el análisis de sentimientos. Desarrollado en el lenguaje de programación Python con ayuda del kit de herramientas del lenguaje natural o NLTK, sobre un subconjunto del dataset Amazon Reviews disponible en la API de fastai, librería orientada a Deep Learning."
   ]
  },
  {
   "cell_type": "markdown",
   "metadata": {},
   "source": [
    "## Introducción"
   ]
  },
  {
   "cell_type": "markdown",
   "metadata": {},
   "source": [
    "El _análisis de sentimiento_ es la herramienta de clasificación de texto más común que analiza un corpus y nos dice si el sentimiento de ese corpus es positivo, negativo o neutral. Analizar conversaciones de redes sociales, reseñas de productos, artículos de noticias o investigación puede ser útil para darnos una idea de la percepción general de la población hacia cierta marca, aplicación, temática, etc."
   ]
  },
  {
   "cell_type": "markdown",
   "metadata": {},
   "source": [
    "Con el API de la librería fastai podemos descargar los datos:"
   ]
  },
  {
   "cell_type": "code",
   "execution_count": 2,
   "metadata": {
    "colab": {},
    "colab_type": "code",
    "id": "Rod_aqh4ZEzw"
   },
   "outputs": [],
   "source": [
    "amazon = fai.untar_data(fai.URLs.AMAZON_REVIEWS)"
   ]
  },
  {
   "cell_type": "code",
   "execution_count": 3,
   "metadata": {
    "colab": {},
    "colab_type": "code",
    "id": "Xydl57jPZEzy",
    "outputId": "ba83ffbc-0887-4094-d613-68061efde3aa"
   },
   "outputs": [
    {
     "name": "stdout",
     "output_type": "stream",
     "text": [
      "readme.txt  test.csv  train.csv\n"
     ]
    }
   ],
   "source": [
    "!ls {amazon}"
   ]
  },
  {
   "cell_type": "markdown",
   "metadata": {},
   "source": [
    "## Descripción de los datos"
   ]
  },
  {
   "cell_type": "code",
   "execution_count": 4,
   "metadata": {
    "colab": {},
    "colab_type": "code",
    "id": "Y-a0uiXJZEz0",
    "outputId": "df9f5524-05ea-42d4-d29b-924bbed2f0ad"
   },
   "outputs": [
    {
     "name": "stdout",
     "output_type": "stream",
     "text": [
      "Amazon Review Full Score Dataset\n",
      "\n",
      "Version 3, Updated 09/09/2015\n",
      "\n",
      "ORIGIN\n",
      "\n",
      "The Amazon reviews dataset consists of reviews from amazon. The data span a period of 18 years, including ~35 million reviews up to March 2013. Reviews include product and user information, ratings, and a plaintext review. For more information, please refer to the following paper: J. McAuley and J. Leskovec. Hidden factors and hidden topics: understanding rating dimensions with review text. RecSys, 2013.\n",
      "\n",
      "The Amazon reviews full score dataset is constructed by Xiang Zhang (xiang.zhang@nyu.edu) from the above dataset. It is used as a text classification benchmark in the following paper: Xiang Zhang, Junbo Zhao, Yann LeCun. Character-level Convolutional Networks for Text Classification. Advances in Neural Information Processing Systems 28 (NIPS 2015).\n",
      "\n",
      "\n",
      "DESCRIPTION\n",
      "\n",
      "The Amazon reviews full score dataset is constructed by randomly taking 600,000 training samples and 130,000 testing samples for each review score from 1 to 5. In total there are 3,000,000 trainig samples and 650,000 testing samples.\n",
      "\n",
      "The files train.csv and test.csv contain all the training samples as comma-sparated values. There are 3 columns in them, corresponding to class index (1 to 5), review title and review text. The review title and text are escaped using double quotes (\"), and any internal double quote is escaped by 2 double quotes (\"\"). New lines are escaped by a backslash followed with an \"n\" character, that is \"\\n\".\n"
     ]
    }
   ],
   "source": [
    "!cat {amazon/\"readme.txt\"}"
   ]
  },
  {
   "cell_type": "markdown",
   "metadata": {},
   "source": [
    "El conjunto de datos de reseñas de Amazon consta de reseñas de amazon. Los datos abarcan un período de 18 años, incluidas aproximadamente 35 millones de reseñas hasta marzo de 2013. Las reseñas incluyen información sobre productos y usuarios, calificaciones y una reseña en texto sin formato. Para más información del conjunto de datos visitar el siguinete enlace: https://s3.amazonaws.com/amazon-reviews-pds/readme.html"
   ]
  },
  {
   "cell_type": "code",
   "execution_count": 5,
   "metadata": {
    "colab": {},
    "colab_type": "code",
    "id": "iJx9L9kpZEz5",
    "outputId": "735208dd-9f2e-4126-d3b7-fdcc632ef29b"
   },
   "outputs": [
    {
     "data": {
      "text/html": [
       "<div>\n",
       "<style scoped>\n",
       "    .dataframe tbody tr th:only-of-type {\n",
       "        vertical-align: middle;\n",
       "    }\n",
       "\n",
       "    .dataframe tbody tr th {\n",
       "        vertical-align: top;\n",
       "    }\n",
       "\n",
       "    .dataframe thead th {\n",
       "        text-align: right;\n",
       "    }\n",
       "</style>\n",
       "<table border=\"1\" class=\"dataframe\">\n",
       "  <thead>\n",
       "    <tr style=\"text-align: right;\">\n",
       "      <th></th>\n",
       "      <th>class index</th>\n",
       "      <th>title</th>\n",
       "      <th>text</th>\n",
       "    </tr>\n",
       "  </thead>\n",
       "  <tbody>\n",
       "    <tr>\n",
       "      <th>0</th>\n",
       "      <td>3</td>\n",
       "      <td>more like funchuck</td>\n",
       "      <td>Gave this to my dad for a gag gift after directing \"Nunsense,\" he got a reall kick out of it!</td>\n",
       "    </tr>\n",
       "    <tr>\n",
       "      <th>1</th>\n",
       "      <td>5</td>\n",
       "      <td>Inspiring</td>\n",
       "      <td>I hope a lot of people hear this cd. We need more strong and positive vibes like this. Great vocals, fresh tunes, cross-cultural happiness. Her blues is from the gut. The pop sounds are catchy and mature.</td>\n",
       "    </tr>\n",
       "    <tr>\n",
       "      <th>2</th>\n",
       "      <td>5</td>\n",
       "      <td>The best soundtrack ever to anything.</td>\n",
       "      <td>I'm reading a lot of reviews saying that this is the best 'game soundtrack' and I figured that I'd write a review to disagree a bit. This in my opinino is Yasunori Mitsuda's ultimate masterpiece. The music is timeless and I'm been listening to it for years now and its beauty simply refuses to fade.The price tag on this is pretty staggering I must say, but if you are going to buy any cd for this much money, this is the only one that I feel would be worth every penny.</td>\n",
       "    </tr>\n",
       "    <tr>\n",
       "      <th>3</th>\n",
       "      <td>4</td>\n",
       "      <td>Chrono Cross OST</td>\n",
       "      <td>The music of Yasunori Misuda is without question my close second below the great Nobuo Uematsu.Chrono Cross OST is a wonderful creation filled with rich orchestra and synthesized sounds. While ambiance is one of the music's major factors, yet at times it's very uplifting and vigorous. Some of my favourite tracks include; \"Scars Left by Time, The Girl who Stole the Stars, and Another World\".</td>\n",
       "    </tr>\n",
       "    <tr>\n",
       "      <th>4</th>\n",
       "      <td>5</td>\n",
       "      <td>Too good to be true</td>\n",
       "      <td>Probably the greatest soundtrack in history! Usually it's better to have played the game first but this is so enjoyable anyway! I worked so hard getting this soundtrack and after spending [money] to get it it was really worth every penny!! Get this OST! it's amazing! The first few tracks will have you dancing around with delight (especially Scars Left by Time)!! BUY IT NOW!!</td>\n",
       "    </tr>\n",
       "    <tr>\n",
       "      <th>5</th>\n",
       "      <td>5</td>\n",
       "      <td>There's a reason for the price</td>\n",
       "      <td>There's a reason this CD is so expensive, even the version that's not an import.Some of the best music ever. I could listen to every track every minute of every day. That's about all i can say.</td>\n",
       "    </tr>\n",
       "    <tr>\n",
       "      <th>6</th>\n",
       "      <td>1</td>\n",
       "      <td>Buyer beware</td>\n",
       "      <td>This is a self-published book, and if you want to know why--read a few paragraphs! Those 5 star reviews must have been written by Ms. Haddon's family and friends--or perhaps, by herself! I can't imagine anyone reading the whole thing--I spent an evening with the book and a friend and we were in hysterics reading bits and pieces of it to one another. It is most definitely bad enough to be entered into some kind of a \"worst book\" contest. I can't believe Amazon even sells this kind of thing. Maybe I can offer them my 8th grade term paper on \"To Kill a Mockingbird\"--a book I am quite sure Ms....</td>\n",
       "    </tr>\n",
       "    <tr>\n",
       "      <th>7</th>\n",
       "      <td>4</td>\n",
       "      <td>Errors, but great story</td>\n",
       "      <td>I was a dissapointed to see errors on the back cover, but since I paid for the book I read it anyway. I have to say I love it. I couldn't put it down. I read the whole book in two hours. I say buy it. I say read it. It is sad, but it gives an interesting point of view on church today. We spend too much time looking at the faults of others. I also enjoyed beloved.Sincerly,Jaylynn R</td>\n",
       "    </tr>\n",
       "    <tr>\n",
       "      <th>8</th>\n",
       "      <td>1</td>\n",
       "      <td>The Worst!</td>\n",
       "      <td>A complete waste of time. Typographical errors, poor grammar, and a totally pathetic plot add up to absolutely nothing. I'm embarrassed for this author and very disappointed I actually paid for this book.</td>\n",
       "    </tr>\n",
       "    <tr>\n",
       "      <th>9</th>\n",
       "      <td>1</td>\n",
       "      <td>Oh please</td>\n",
       "      <td>I guess you have to be a romance novel lover for this one, and not a very discerning one. All others beware! It is absolute drivel. I figured I was in trouble when a typo is prominently featured on the back cover, but the first page of the book removed all doubt. Wait - maybe I'm missing the point. A quick re-read of the beginning now makes it clear. This has to be an intentional churning of over-heated prose for satiric purposes. Phew, so glad I didn't waste $10.95 after all.</td>\n",
       "    </tr>\n",
       "    <tr>\n",
       "      <th>10</th>\n",
       "      <td>1</td>\n",
       "      <td>Awful beyond belief!</td>\n",
       "      <td>I feel I have to write to keep others from wasting their money. This book seems to have been written by a 7th grader with poor grammatical skills for her age! As another reviewer points out, there is a misspelling on the cover, and I believe there is at least one per chapter. For example, it was mentioned twice that she had a \"lean\" on her house. I was so distracted by the poor writing and weak plot, that I decided to read with a pencil in hand to mark all of the horrible grammar and spelling. Please don't waste your money. I too, believe that the good reviews must have been written by the...</td>\n",
       "    </tr>\n",
       "    <tr>\n",
       "      <th>11</th>\n",
       "      <td>4</td>\n",
       "      <td>A romantic zen baseball comedy</td>\n",
       "      <td>When you hear folks say that they don't make 'em like that anymore, they might be talking about \"BY THE SEA\". This is a very cool story about a young Cuban girl searching for idenity who stumbles into a coastal resort kitchen gig with a zen motorcycle maintenance man, three hysterical Italian chefs and a Latino fireballing right handed pitcher who plays on the team sponsored by the resort's owner. As is often the case she 'finds' herself through honest, often comical but always emotional, interaction with this sizzling roster of players. With the perfect mix of special effects, that salsa ...</td>\n",
       "    </tr>\n",
       "    <tr>\n",
       "      <th>12</th>\n",
       "      <td>5</td>\n",
       "      <td>Lower leg comfort for 12 hours +</td>\n",
       "      <td>Excellent stockings for long shifts on your feet - not too tight, not too loose...garment integrity is longer than package states (with proper care).</td>\n",
       "    </tr>\n",
       "    <tr>\n",
       "      <th>13</th>\n",
       "      <td>3</td>\n",
       "      <td>Delivery was very long wait.....</td>\n",
       "      <td>It took almost 3 weeks to recieve the two pairs of stockings I ordered and when they arrived they were not in a box nor did they have any tags on them so I am not certain they are actually Jobst brand stockings. The Sun Bronze pair fits okay but quality is less than the pair I bought at an actual compression store.</td>\n",
       "    </tr>\n",
       "    <tr>\n",
       "      <th>14</th>\n",
       "      <td>2</td>\n",
       "      <td>sizes recomended in the size chart are not real</td>\n",
       "      <td>sizes are much smaller than what is recomended in the chart. I tried to put it and sheer it!. I guess you should not buy this item in the internet..it is better to go to the store and check it</td>\n",
       "    </tr>\n",
       "    <tr>\n",
       "      <th>15</th>\n",
       "      <td>3</td>\n",
       "      <td>Overbury</td>\n",
       "      <td>Full of intrigue and a good overview of the court of James 1 and the key players. Provides a good general history of all the facts of the case.</td>\n",
       "    </tr>\n",
       "    <tr>\n",
       "      <th>16</th>\n",
       "      <td>1</td>\n",
       "      <td>Another Abysmal Digital Copy</td>\n",
       "      <td>Rather than scratches and insect droppings, this one has random pixelations combined with muddy light and vague image resolution. Probably the cue should have been the packaging is straight out of your street corner bootleg dealer.If you've ever seen a reasonably good condition film copy, you know the defining visuals of his film are the crystal clear lighting contrasts in black and white. The surrounding countryside and 'old home' scenes are set with early morning ground mists or the haze of memory while the events on the bridge and in the water are bright, clear, and immediate.Here every...</td>\n",
       "    </tr>\n",
       "    <tr>\n",
       "      <th>17</th>\n",
       "      <td>4</td>\n",
       "      <td>Wardell's book is a pure delight.</td>\n",
       "      <td>Steven Wardell's book is a pure delight and I've recommended itto friends of all ages. In Rising Sons and Daughters, we learn thatJapanese young people are preserving their country's tradition of respect for their elders while also creating their own identity as Japan's \"Generation X\". Like our own young people, they are bombarded with some of the excesses of \"Western culture\" - Clothing fads, rock groups, a culture of shopping, etc. What they seem to be developing, however, is a healthy hybrid of old and new that retains a firm foundation in good values. The Ando family members are wonder...</td>\n",
       "    </tr>\n",
       "    <tr>\n",
       "      <th>18</th>\n",
       "      <td>4</td>\n",
       "      <td>i liked this album more then i thought i would</td>\n",
       "      <td>I heard a song or two and thought same o same o,but when i listened to songs like \"blue angel\",\"lanna\" and 'mama\" the hair just rose off my neck.Roy is trully an amazing singer with a talent you don't find much now days.</td>\n",
       "    </tr>\n",
       "    <tr>\n",
       "      <th>19</th>\n",
       "      <td>3</td>\n",
       "      <td>Better than I thought.</td>\n",
       "      <td>I wrote a harsh review based on hearing a couple of tracks from one album,but after hearing tracks from the other 3 albums,I have to say that I take it back and in fact I bought it.The other albums are very good value for money with good liner notes and some very good music.Well worth the money for Roy Orbison fans.</td>\n",
       "    </tr>\n",
       "    <tr>\n",
       "      <th>20</th>\n",
       "      <td>3</td>\n",
       "      <td>The great Roy Orbison deserves a better quality recording .</td>\n",
       "      <td>When I saw the term 'bootleg' on the title of this recording,I can see what they mean because one cd does have a slightly disappointing sound,but the others do sound much better.Having seen the great Roy Orbison twice live in concert,I know that he sounded better,but overall it is a good value for money 4cd set with good liner notes.</td>\n",
       "    </tr>\n",
       "    <tr>\n",
       "      <th>21</th>\n",
       "      <td>2</td>\n",
       "      <td>Problem with charging smaller AAAs</td>\n",
       "      <td>I have had the charger for more than two years. It charges AA batteries just fine, but has a huge problem securing smaller AAA batteries. To charge the smaller batteries you need to flip down the little button at the positive end. In the beginning one of the four AAA batteries would pop up, and now three out of the four won't hold. The problem is the flip mechanism became loose, and any horizontal pressure would push the buttons back up. What I have to do now is using duct tape and a segment of crayon, apply the crayon on the buttons, and wrap the tape around. You know how painful that is.</td>\n",
       "    </tr>\n",
       "    <tr>\n",
       "      <th>22</th>\n",
       "      <td>5</td>\n",
       "      <td>CHECK OUT THE K6000 CHARGER!</td>\n",
       "      <td>Greetings. Kodak also has a K6000 charger which comes with 4 NiMH 2100 mAh batteries. Two batteries charge is 64 minutes and 4 batteries charge in 140 minutes. The problem is that Amazon doesn't carry them YET. Good bye.</td>\n",
       "    </tr>\n",
       "    <tr>\n",
       "      <th>23</th>\n",
       "      <td>5</td>\n",
       "      <td>ahhh</td>\n",
       "      <td>These will more than pay for themselves, they are perfect for my GPS which will drain a cheap battery in less than an hour.btw the charger did come with 1850 batteries.</td>\n",
       "    </tr>\n",
       "    <tr>\n",
       "      <th>24</th>\n",
       "      <td>5</td>\n",
       "      <td>Excellent Product</td>\n",
       "      <td>This is an excellent product. I bought this for my digital camera. It has a great battery life per charge. Charger is handy to carry.</td>\n",
       "    </tr>\n",
       "    <tr>\n",
       "      <th>25</th>\n",
       "      <td>1</td>\n",
       "      <td>Batteries died within a year ...</td>\n",
       "      <td>I bought this charger in Jul 2003 and it worked OK for a while. The design is nice and convenient. However, after about a year, the batteries would not hold a charge. Might as well just get alkaline disposables, or look elsewhere for a charger that comes with batteries that have better staying power.</td>\n",
       "    </tr>\n",
       "    <tr>\n",
       "      <th>26</th>\n",
       "      <td>5</td>\n",
       "      <td>To \"Disappointed\" in Miami</td>\n",
       "      <td>You said \"...but the charge only lasts a very short time.\"Did you know that new Ni-MH batteries must be cycled 3 to 5 times before they hold a full charge? This does not mean that they should be charged 3 to 5 times in a row but rather that for the first 3 to 5 charge/discharge cycles, the batteries reach a higher charge level each time until they are recharged until they finally reach their rated capacity. This may be your problem. Try doing this and you might be pleasantly surprised.</td>\n",
       "    </tr>\n",
       "    <tr>\n",
       "      <th>27</th>\n",
       "      <td>5</td>\n",
       "      <td>Awesome - wanna use dramatica? You definitely need this book</td>\n",
       "      <td>It's just awesome, even better than what you can read online about using dramatica of Armando. If you want to use Dramatica - and don't want to get lost eventually - you really, really, really need this guide to get to some point you can call your plot really a plot. This book just makes you very, very happy. For it will boost your efforts to really WORK with dramatica. I only wish we had had that book ten years before. So I do highly recommend it. Even if you aren't a native speaker like me, having german as my mother tongue. I would never have made it with the DRAMATICA SOFTWARE if I hav...</td>\n",
       "    </tr>\n",
       "    <tr>\n",
       "      <th>28</th>\n",
       "      <td>4</td>\n",
       "      <td>Excellent choice for combination</td>\n",
       "      <td>After reading several reviews on this item, I purchased it as a Christmas gift. My brother liked it a lot, so I decided to get one for my wife and me. I'm really glad I did. It's pretty easy to set up and use, and the playback is excellent in both the VCR and DVD modes. The remote also operates my JVC TV. This is a great choice if you're looking for a quality combination player from a trusted name in electronics.</td>\n",
       "    </tr>\n",
       "    <tr>\n",
       "      <th>29</th>\n",
       "      <td>4</td>\n",
       "      <td>Based on the reviews here I bought one and I'm glad I did!</td>\n",
       "      <td>This VCR/DVD was an early Christmas present to myself after deciding to join the rest of the world in DVD-land but not wanting to let go of my VHS movies quite yet. Based on the reviews and price, and because I own a JVC TV, this was my choice. I agree with the easy set-up. It's a bit awkward to work the whole TV/VHS/DVD selection options but I think I've gotten the hang of it.Two comments: it's not intuitive and actually is pretty complicated (too many buttons on the remote but that might please others who are more technically-minded than me) so I've had to rely heavily on the how-to manu...</td>\n",
       "    </tr>\n",
       "    <tr>\n",
       "      <th>...</th>\n",
       "      <td>...</td>\n",
       "      <td>...</td>\n",
       "      <td>...</td>\n",
       "    </tr>\n",
       "    <tr>\n",
       "      <th>2999970</th>\n",
       "      <td>4</td>\n",
       "      <td>Excellent Read</td>\n",
       "      <td>Hawkins provides an excellent framework from which to carefully think about leadership as a lifestyle. He effectively argues against compartmentalizing the different areas of influence (e.g., family, work) in our lives, but instead, encourages the reader to balance the conflicts that are sure to arise. He also provides useful insights into managing our lives in each area of influence so that we prove ourselves faithful in each.The book is written in a concise and very readable manner. I highly recommend it, and have even purchased additional copies to give to friends and family!!!</td>\n",
       "    </tr>\n",
       "    <tr>\n",
       "      <th>2999971</th>\n",
       "      <td>3</td>\n",
       "      <td>God and Leadership</td>\n",
       "      <td>I liked the authors approach of NOT breaking up our lives into separate components of work, personal, and spiritual. His definition of spiritual, however, may be a little different than mine or yours. While I have nothing against the authors spiritual beliefs I found certain chapters lacking in substance and felt he was relying on God as an excuse for his inability to give clear direction. If it was spiritual direction I was lacking I would be reading a religious text, not a book on leadership.</td>\n",
       "    </tr>\n",
       "    <tr>\n",
       "      <th>2999972</th>\n",
       "      <td>3</td>\n",
       "      <td>Ein...stein.</td>\n",
       "      <td>Although the soundtrack series for \"Cowboy Bebop\" is nothing short of an awesome listening experience, I have to wonder about this one. It's an EP length album with only six songs, only three of which are exclusive to this CD. You do get the original version of the closing theme (\"The Real Folk Blues\"), as well as the cute drum-laden clap-along tune, \"Doggy Dog\", and the short James-Bond-esque \"The Spy\" by Seat Belts (Yoko Kanno's bebop band), but the other songs are also on the other soundtracks. It's a good listen, but I'd only recommend it if you feel you must own every Cowboy Bebop OST.</td>\n",
       "    </tr>\n",
       "    <tr>\n",
       "      <th>2999973</th>\n",
       "      <td>3</td>\n",
       "      <td>Some noises when it is on</td>\n",
       "      <td>Arrived on time, before Christmas day and it was very great! My daughter was very happy to have her female locomotive! the only problem is that there is a strange noise when it is on, the wheels sound a noise when turn and it is no so strong as Percy or James that we already took in past.</td>\n",
       "    </tr>\n",
       "    <tr>\n",
       "      <th>2999974</th>\n",
       "      <td>1</td>\n",
       "      <td>Breaks right away.</td>\n",
       "      <td>We have had bad luck with this lovely toy. I think it is poorly manufactured because it broke, we got a new one and it broke right away. Our battery powered thomas runs fine. Skip this lady.</td>\n",
       "    </tr>\n",
       "    <tr>\n",
       "      <th>2999975</th>\n",
       "      <td>3</td>\n",
       "      <td>6 wheeled trains work better</td>\n",
       "      <td>If you don't have a battery operated train yet, then don't make Lady or Piercy your first purchase. You will be disappointed. THe 6 wheeled trains (James and Thomas) handle just about any track with no problems, while Lady derails probably 5 times as often. She particularly has trouble with tight corners (3\" radius curves).Make battery powered James or Thomas your first purchase, then buy Lady or Piercy after that.</td>\n",
       "    </tr>\n",
       "    <tr>\n",
       "      <th>2999976</th>\n",
       "      <td>4</td>\n",
       "      <td>Powerful little Lady</td>\n",
       "      <td>Purchased Lady for one of our b/g 3 y/o twins this Christmas. Our kids are into playing with the Thomas train scenes so we bought them 'Down by the Docks' (got it just in time, guess it is being discontinued). We got our son battery powered Thomas and our daughter received battery powered Lady. All things Thomas were a hit. I will echo what another reviewer wrote. Thomas is pokey! Lady has him beat for pulling power and overall speed. She laps him on the track and ends up pushing him and his load while pullin' her own. The button on top of the BP ones are easy for little hands to work. The...</td>\n",
       "    </tr>\n",
       "    <tr>\n",
       "      <th>2999977</th>\n",
       "      <td>5</td>\n",
       "      <td>Batter powdered Lady</td>\n",
       "      <td>Lady was a gift for my grandchildren to go with their Thomas &amp; Friends Wooden Railway set. They spend hours playing with the trains and enjoy them immensely. They especially like the battery powdered engines. They have most of them.</td>\n",
       "    </tr>\n",
       "    <tr>\n",
       "      <th>2999978</th>\n",
       "      <td>5</td>\n",
       "      <td>Equisite train!</td>\n",
       "      <td>My son has this train, which he obtained at the flea market and he loves it. I bought this one to act as a back up just in case something was to happen to his. It is very well made and has the power to pull quite a few cars. Learning Curve has taken the time to make this product exceptionally well and I would recommend this to any Thomas Train collectors and children that want a strong pulling engine. Thank you Learning Curve and Amazon.</td>\n",
       "    </tr>\n",
       "    <tr>\n",
       "      <th>2999979</th>\n",
       "      <td>4</td>\n",
       "      <td>So very happily!</td>\n",
       "      <td>John Prater's illustrations are wonderful! (Similar to Barbara Firth's illustrations in the Little Bear books). My 21 month old daughter requests to hear the book over and over.</td>\n",
       "    </tr>\n",
       "    <tr>\n",
       "      <th>2999980</th>\n",
       "      <td>4</td>\n",
       "      <td>Although it is documentary....not a comedy stand up, it's informative, insightful.</td>\n",
       "      <td>For those specifically interested in the birth of comedy clubs throughout the Boston area, this will be of interest. And, for those who wish to learn the nuts and bolts &amp; nitty gritty of that area where standup clubs dominated, this, too, will be of interest.The premise of the DVD is the rise of young comedians primarily of the Boston area during the late 70's early 80's. They have stories to tell, the big breaks, stardom, influx of comedians claiming to be from Boston, the many clubs, intense competition, etc., etc.,Some names you will recognize, Denis Leary, Colin Quinn, Lenny Clark, Kev...</td>\n",
       "    </tr>\n",
       "    <tr>\n",
       "      <th>2999981</th>\n",
       "      <td>2</td>\n",
       "      <td>Comedy Scene, and Not Heard</td>\n",
       "      <td>This DVD will be a disappointment if you get it hoping to see some substantial portion of the acts of the various comics listed on the cover. All you get here are snippets of performance, at best. The rest is just loose-leaf reminiscence about the good old days in Boston, in the early 80's, when a lot of comics were hanging out together and getting their start.It's like a frat house reunion. There's a lot of lame nostalgia. There are quite a few guffaws recalling jokes (practical and otherwise)perpetrated - back then. But you had to have been there to appreciate all the basically good ol' ...</td>\n",
       "    </tr>\n",
       "    <tr>\n",
       "      <th>2999982</th>\n",
       "      <td>5</td>\n",
       "      <td>Had me laughing</td>\n",
       "      <td>This is a very funny book, with dialogue that cracks me up. Great vacation reading or gift for someone with an irreverent sense of humor.</td>\n",
       "    </tr>\n",
       "    <tr>\n",
       "      <th>2999983</th>\n",
       "      <td>3</td>\n",
       "      <td>Does the job</td>\n",
       "      <td>The workbook correlates well with the assignments that my son has received at school. The drawback is there is no answer key. That would be a great help.</td>\n",
       "    </tr>\n",
       "    <tr>\n",
       "      <th>2999984</th>\n",
       "      <td>5</td>\n",
       "      <td>Biology</td>\n",
       "      <td>We have not been able to use this for our homeschooling biology yet. We did not realize we needed to purchase the text book in order to even be able to answer the questions, but flipping through the book it looks like a very through program &amp; we are excited to get started!</td>\n",
       "    </tr>\n",
       "    <tr>\n",
       "      <th>2999985</th>\n",
       "      <td>2</td>\n",
       "      <td>Cute, but very thin</td>\n",
       "      <td>I buy many stockings and pantyhose from ILOVESEXY, however, many of the leg avenue pantyhose are so thin, that they rip,just by putting them on. I only weigh 125lbs, so they should fit perfectly. I reccomend wearing 2 pairs at a time.</td>\n",
       "    </tr>\n",
       "    <tr>\n",
       "      <th>2999986</th>\n",
       "      <td>3</td>\n",
       "      <td>Incomplete</td>\n",
       "      <td>The three films in this set are excellent, absolute classics of the genre. But because this set is incomplete, what is the point? They should be watched in order to really understand the story, and to see Nami's experiences in the order in which they played out. However \"Jailhouse 41,\" the second film is missing. So when you watch the first film, and then skip to the third, (Beast Stable) it makes no sense, because it starts out with \"The Scorpion\" outside of jail. Part 1 ended with Nami being returned to prison after dispatching the men who raped her, and the cop who used her. Not to ment...</td>\n",
       "    </tr>\n",
       "    <tr>\n",
       "      <th>2999987</th>\n",
       "      <td>2</td>\n",
       "      <td>Not the Best...</td>\n",
       "      <td>I bought this CD expecting it to be the same type of music as the hit (When it Comes)... but when I finally got it, I listened, and kept trying to accept it and appreciate the music... But I still can't bring myself to do so. I will admit that I do, in fact, like \"When it Comes\". Its got a good guitar line and chord progressions - even good vocals. In the rest of the CD, Tyler's voice is husky and \"wannabe\" country. Another okay song is \"The Letter Song\"... although I will admit that I cringe every time he says, \"I can be romantic, I just gotsta try to be.\" To sum it up, I guess I'll say t...</td>\n",
       "    </tr>\n",
       "    <tr>\n",
       "      <th>2999988</th>\n",
       "      <td>5</td>\n",
       "      <td>Tyler is amazing</td>\n",
       "      <td>I've just become familiar with Tyler's music and its really incredible. Hes a young, very good looking guy who writes a lot of his own music and plays his instruments. He's very talented and plays alot of music that anyone can relate to. His style of music is very unique but very catchy. If you like to feel for music...get up and dance... or just relax...he's def got it all! His style can be related to Hanson, Gavin Degraw, Johhny Lang, and Ryan Cabera. Nice mix huh? He's defenetly worth the money!!!! :) he's too cute too!!!! &lt;3</td>\n",
       "    </tr>\n",
       "    <tr>\n",
       "      <th>2999989</th>\n",
       "      <td>5</td>\n",
       "      <td>Tyler rocks!!!</td>\n",
       "      <td>This music is awsome!!!!! I first heard Tyler when I was at a Hanson concert he was the opening act. Before that I had never heard of him. His performance was amazing and so when he was done we went out to get his autograph. He was so sweet he signed the date and my name as well and was gracious enough to do it on my Hanson tour book becuase I had not been able to get anything of his yet. Anyway he is a great person and his music is absolutely awsome. I highly recomend this cd!!!!!Melinda</td>\n",
       "    </tr>\n",
       "    <tr>\n",
       "      <th>2999990</th>\n",
       "      <td>5</td>\n",
       "      <td>Tyler Hilton is the best!</td>\n",
       "      <td>Tyler Hilton's EP may only have a couple songs, but all of them are sooo amazing and good. All of them are my favorites. Tyler Hilton has a really good voice. His music is pop. Def. buy this CD....i promice you wont regret it!!!!</td>\n",
       "    </tr>\n",
       "    <tr>\n",
       "      <th>2999991</th>\n",
       "      <td>1</td>\n",
       "      <td>What A Slap In The Face To Masami Ueda</td>\n",
       "      <td>Do NOT buy this cd. Ever. This was probably just released as a test to see if REfans would buy anything that had \"Resident Evil/Biohazard\" on it.How dare this metamorphis guy ruin such perfect scores.Masami Ueda probably had a heart attack when he heard these awful remixes of his songs.Trance....bah.</td>\n",
       "    </tr>\n",
       "    <tr>\n",
       "      <th>2999992</th>\n",
       "      <td>2</td>\n",
       "      <td>Too simplistic</td>\n",
       "      <td>While Mr. Harrison makes some extremely valid arguments in this book , I wish he had also explored why the Anglo-protestant culture , which he holds up as\"best in class\" went about enslaving the world and what impact this has had on various countries , whom they enslaved.Perhaps some of the progress those Anglo-protestant societies have made, is due to the fact that they exploited other countries and other peoples and not so much their work ethic as Mr. Harrison seems to suggest</td>\n",
       "    </tr>\n",
       "    <tr>\n",
       "      <th>2999993</th>\n",
       "      <td>5</td>\n",
       "      <td>My favorite for 30 years</td>\n",
       "      <td>I had the amazing good fortune to be acquainted with Bob, and Gary, and Doug, when they were playing lounges in Des Moines. Many a night I sat and nursed a beer, and laughed and cried to their music. He writes some of his songs, but when he does Lightfoot or Guy Clark, or whoever, I almost always like his version better. I wore out the album, and the first CD, and still listen to him almost every day. And he still makes me laugh and cry. He's gone now, but he lives on in mellow tones, and silly giggles. Sometimes I can even hear myself in the background singing along, or laughing. He's bee...</td>\n",
       "    </tr>\n",
       "    <tr>\n",
       "      <th>2999994</th>\n",
       "      <td>3</td>\n",
       "      <td>great features but beware of difficulty cleaning</td>\n",
       "      <td>This high chair has some great features - storage space for bibs and washcloths, removable fabric liner for easy machine washing, removable tray for easy cleaning.But it is very difficult to clean the seat. My son always wear a bib with a pocket to catch what doesn't make it to his mouth. Even so, a fair amount of little stuff ends up in the cracks on the side of the chair. And though they look great, the wooden slats are way too close to clean effectively. We wipe down everything else after each meal but there is usually still dried food stuck there until we get out a spray bottle and som...</td>\n",
       "    </tr>\n",
       "    <tr>\n",
       "      <th>2999995</th>\n",
       "      <td>1</td>\n",
       "      <td>Don't do it!!</td>\n",
       "      <td>The high chair looks great when it first comes out of the box but it is all down hill after that. It is impossible to keep clean. The finish is flaking off, after less than 6 months of use. It is not worth the struggle to keep up. If you already have it, call the customer service number and order a second chair pad. It is only $12 and does help to be able to switch out when one is in the wash.</td>\n",
       "    </tr>\n",
       "    <tr>\n",
       "      <th>2999996</th>\n",
       "      <td>2</td>\n",
       "      <td>Looks nice, low functionality</td>\n",
       "      <td>I have used this highchair for 2 kids now and finally decided to sell it because I did not like it. It's a beautiful chair and looks great in the kitchen. It's much nicer looking than the 'plastic' ones you see. What I don't like about this chair is the day-to-day functionality of it. It does not adjust, at all. As the baby gets older, I want a chair that tilts, adjusts, etc-- and this does not do that. Also, it is very heavy and hard to move; it does not slide on the floor well at all. The seatbelt is clumsy and a pain to put through the fabric cover when you take the cover on or off for ...</td>\n",
       "    </tr>\n",
       "    <tr>\n",
       "      <th>2999997</th>\n",
       "      <td>2</td>\n",
       "      <td>compact, but hard to clean</td>\n",
       "      <td>We have a small house, and really wanted two of these high chairs for our twins. Space-wize, they are great; they have a small footprint and look nice along side the rest of our furniture.The 2nd tray and the slide-out cup holders are a great addition to this high chair. The shelf under the seat is a great place to store bibs.The downside of the Eddie Bauer high chair is that its difficult to clean. I have toddler twins, I don't have a lot of time to spend cleaning their high chairs with a toothbrush! The slats on the side of the seat are close together and food gets slopped in between the...</td>\n",
       "    </tr>\n",
       "    <tr>\n",
       "      <th>2999998</th>\n",
       "      <td>3</td>\n",
       "      <td>Hard to clean!</td>\n",
       "      <td>I agree with everyone else who says this chair is hard to clean. I bought the lighter colored wood chair, which really makes the grime build up noticeable, especially on the foot rest. We clean the high chair all the time, but the wood almost has an absorbency about it and there's just so much you're able to get clean. And I'm not sure why some areas that have been cleaned have a sticky feeling to them except that maybe it's a reaction of the wood to the chemicals in disinfectant wipes. It looks nice, but I wish I had gone with a plastic, easier to clean high chair.</td>\n",
       "    </tr>\n",
       "    <tr>\n",
       "      <th>2999999</th>\n",
       "      <td>1</td>\n",
       "      <td>what is it saying?</td>\n",
       "      <td>not sure what this book is supposed to be. It is really just a rehash of very old ideas about Carroll with some pop culture uncomfortably tacked on. The 'myth' has been dealt with far better by people who really seem to understand it (it's too deep I think for Brooker's milieu), and the pop culture is presented without any kind of analysis or penetration.I think you are better off with Leach's 'In the Shadow of the Dreamchild' or Sigler's 'Alternative Alices'.</td>\n",
       "    </tr>\n",
       "  </tbody>\n",
       "</table>\n",
       "<p>3000000 rows × 3 columns</p>\n",
       "</div>"
      ],
      "text/plain": [
       "         class index  \\\n",
       "0                  3   \n",
       "1                  5   \n",
       "2                  5   \n",
       "3                  4   \n",
       "4                  5   \n",
       "5                  5   \n",
       "6                  1   \n",
       "7                  4   \n",
       "8                  1   \n",
       "9                  1   \n",
       "10                 1   \n",
       "11                 4   \n",
       "12                 5   \n",
       "13                 3   \n",
       "14                 2   \n",
       "15                 3   \n",
       "16                 1   \n",
       "17                 4   \n",
       "18                 4   \n",
       "19                 3   \n",
       "20                 3   \n",
       "21                 2   \n",
       "22                 5   \n",
       "23                 5   \n",
       "24                 5   \n",
       "25                 1   \n",
       "26                 5   \n",
       "27                 5   \n",
       "28                 4   \n",
       "29                 4   \n",
       "...              ...   \n",
       "2999970            4   \n",
       "2999971            3   \n",
       "2999972            3   \n",
       "2999973            3   \n",
       "2999974            1   \n",
       "2999975            3   \n",
       "2999976            4   \n",
       "2999977            5   \n",
       "2999978            5   \n",
       "2999979            4   \n",
       "2999980            4   \n",
       "2999981            2   \n",
       "2999982            5   \n",
       "2999983            3   \n",
       "2999984            5   \n",
       "2999985            2   \n",
       "2999986            3   \n",
       "2999987            2   \n",
       "2999988            5   \n",
       "2999989            5   \n",
       "2999990            5   \n",
       "2999991            1   \n",
       "2999992            2   \n",
       "2999993            5   \n",
       "2999994            3   \n",
       "2999995            1   \n",
       "2999996            2   \n",
       "2999997            2   \n",
       "2999998            3   \n",
       "2999999            1   \n",
       "\n",
       "                                                                                      title  \\\n",
       "0                                                                        more like funchuck   \n",
       "1                                                                                 Inspiring   \n",
       "2                                                     The best soundtrack ever to anything.   \n",
       "3                                                                          Chrono Cross OST   \n",
       "4                                                                       Too good to be true   \n",
       "5                                                            There's a reason for the price   \n",
       "6                                                                              Buyer beware   \n",
       "7                                                                   Errors, but great story   \n",
       "8                                                                                The Worst!   \n",
       "9                                                                                 Oh please   \n",
       "10                                                                     Awful beyond belief!   \n",
       "11                                                           A romantic zen baseball comedy   \n",
       "12                                                         Lower leg comfort for 12 hours +   \n",
       "13                                                         Delivery was very long wait.....   \n",
       "14                                          sizes recomended in the size chart are not real   \n",
       "15                                                                                 Overbury   \n",
       "16                                                             Another Abysmal Digital Copy   \n",
       "17                                                        Wardell's book is a pure delight.   \n",
       "18                                           i liked this album more then i thought i would   \n",
       "19                                                                   Better than I thought.   \n",
       "20                              The great Roy Orbison deserves a better quality recording .   \n",
       "21                                                       Problem with charging smaller AAAs   \n",
       "22                                                             CHECK OUT THE K6000 CHARGER!   \n",
       "23                                                                                     ahhh   \n",
       "24                                                                        Excellent Product   \n",
       "25                                                         Batteries died within a year ...   \n",
       "26                                                               To \"Disappointed\" in Miami   \n",
       "27                             Awesome - wanna use dramatica? You definitely need this book   \n",
       "28                                                         Excellent choice for combination   \n",
       "29                               Based on the reviews here I bought one and I'm glad I did!   \n",
       "...                                                                                     ...   \n",
       "2999970                                                                      Excellent Read   \n",
       "2999971                                                                  God and Leadership   \n",
       "2999972                                                                        Ein...stein.   \n",
       "2999973                                                           Some noises when it is on   \n",
       "2999974                                                                  Breaks right away.   \n",
       "2999975                                                        6 wheeled trains work better   \n",
       "2999976                                                                Powerful little Lady   \n",
       "2999977                                                                Batter powdered Lady   \n",
       "2999978                                                                     Equisite train!   \n",
       "2999979                                                                    So very happily!   \n",
       "2999980  Although it is documentary....not a comedy stand up, it's informative, insightful.   \n",
       "2999981                                                         Comedy Scene, and Not Heard   \n",
       "2999982                                                                     Had me laughing   \n",
       "2999983                                                                        Does the job   \n",
       "2999984                                                                             Biology   \n",
       "2999985                                                                 Cute, but very thin   \n",
       "2999986                                                                          Incomplete   \n",
       "2999987                                                                     Not the Best...   \n",
       "2999988                                                                    Tyler is amazing   \n",
       "2999989                                                                      Tyler rocks!!!   \n",
       "2999990                                                           Tyler Hilton is the best!   \n",
       "2999991                                              What A Slap In The Face To Masami Ueda   \n",
       "2999992                                                                      Too simplistic   \n",
       "2999993                                                            My favorite for 30 years   \n",
       "2999994                                    great features but beware of difficulty cleaning   \n",
       "2999995                                                                       Don't do it!!   \n",
       "2999996                                                       Looks nice, low functionality   \n",
       "2999997                                                          compact, but hard to clean   \n",
       "2999998                                                                      Hard to clean!   \n",
       "2999999                                                                  what is it saying?   \n",
       "\n",
       "                                                                                                                                                                                                                                                                                                                                                                                                                                                                                                                                                                                                                            text  \n",
       "0                                                                                                                                                                                                                                                                                                                                                                                                                                                                                                                                  Gave this to my dad for a gag gift after directing \"Nunsense,\" he got a reall kick out of it!  \n",
       "1                                                                                                                                                                                                                                                                                                                                                                                                                   I hope a lot of people hear this cd. We need more strong and positive vibes like this. Great vocals, fresh tunes, cross-cultural happiness. Her blues is from the gut. The pop sounds are catchy and mature.  \n",
       "2                                                                                                                                         I'm reading a lot of reviews saying that this is the best 'game soundtrack' and I figured that I'd write a review to disagree a bit. This in my opinino is Yasunori Mitsuda's ultimate masterpiece. The music is timeless and I'm been listening to it for years now and its beauty simply refuses to fade.The price tag on this is pretty staggering I must say, but if you are going to buy any cd for this much money, this is the only one that I feel would be worth every penny.  \n",
       "3                                                                                                                                                                                                                      The music of Yasunori Misuda is without question my close second below the great Nobuo Uematsu.Chrono Cross OST is a wonderful creation filled with rich orchestra and synthesized sounds. While ambiance is one of the music's major factors, yet at times it's very uplifting and vigorous. Some of my favourite tracks include; \"Scars Left by Time, The Girl who Stole the Stars, and Another World\".  \n",
       "4                                                                                                                                                                                                                                      Probably the greatest soundtrack in history! Usually it's better to have played the game first but this is so enjoyable anyway! I worked so hard getting this soundtrack and after spending [money] to get it it was really worth every penny!! Get this OST! it's amazing! The first few tracks will have you dancing around with delight (especially Scars Left by Time)!! BUY IT NOW!!  \n",
       "5                                                                                                                                                                                                                                                                                                                                                                                                                              There's a reason this CD is so expensive, even the version that's not an import.Some of the best music ever. I could listen to every track every minute of every day. That's about all i can say.  \n",
       "6        This is a self-published book, and if you want to know why--read a few paragraphs! Those 5 star reviews must have been written by Ms. Haddon's family and friends--or perhaps, by herself! I can't imagine anyone reading the whole thing--I spent an evening with the book and a friend and we were in hysterics reading bits and pieces of it to one another. It is most definitely bad enough to be entered into some kind of a \"worst book\" contest. I can't believe Amazon even sells this kind of thing. Maybe I can offer them my 8th grade term paper on \"To Kill a Mockingbird\"--a book I am quite sure Ms....  \n",
       "7                                                                                                                                                                                                                                I was a dissapointed to see errors on the back cover, but since I paid for the book I read it anyway. I have to say I love it. I couldn't put it down. I read the whole book in two hours. I say buy it. I say read it. It is sad, but it gives an interesting point of view on church today. We spend too much time looking at the faults of others. I also enjoyed beloved.Sincerly,Jaylynn R  \n",
       "8                                                                                                                                                                                                                                                                                                                                                                                                                   A complete waste of time. Typographical errors, poor grammar, and a totally pathetic plot add up to absolutely nothing. I'm embarrassed for this author and very disappointed I actually paid for this book.  \n",
       "9                                                                                                                              I guess you have to be a romance novel lover for this one, and not a very discerning one. All others beware! It is absolute drivel. I figured I was in trouble when a typo is prominently featured on the back cover, but the first page of the book removed all doubt. Wait - maybe I'm missing the point. A quick re-read of the beginning now makes it clear. This has to be an intentional churning of over-heated prose for satiric purposes. Phew, so glad I didn't waste $10.95 after all.  \n",
       "10       I feel I have to write to keep others from wasting their money. This book seems to have been written by a 7th grader with poor grammatical skills for her age! As another reviewer points out, there is a misspelling on the cover, and I believe there is at least one per chapter. For example, it was mentioned twice that she had a \"lean\" on her house. I was so distracted by the poor writing and weak plot, that I decided to read with a pencil in hand to mark all of the horrible grammar and spelling. Please don't waste your money. I too, believe that the good reviews must have been written by the...  \n",
       "11       When you hear folks say that they don't make 'em like that anymore, they might be talking about \"BY THE SEA\". This is a very cool story about a young Cuban girl searching for idenity who stumbles into a coastal resort kitchen gig with a zen motorcycle maintenance man, three hysterical Italian chefs and a Latino fireballing right handed pitcher who plays on the team sponsored by the resort's owner. As is often the case she 'finds' herself through honest, often comical but always emotional, interaction with this sizzling roster of players. With the perfect mix of special effects, that salsa ...  \n",
       "12                                                                                                                                                                                                                                                                                                                                                                                                                                                                         Excellent stockings for long shifts on your feet - not too tight, not too loose...garment integrity is longer than package states (with proper care).  \n",
       "13                                                                                                                                                                                                                                                                                                  It took almost 3 weeks to recieve the two pairs of stockings I ordered and when they arrived they were not in a box nor did they have any tags on them so I am not certain they are actually Jobst brand stockings. The Sun Bronze pair fits okay but quality is less than the pair I bought at an actual compression store.  \n",
       "14                                                                                                                                                                                                                                                                                                                                                                                                                              sizes are much smaller than what is recomended in the chart. I tried to put it and sheer it!. I guess you should not buy this item in the internet..it is better to go to the store and check it  \n",
       "15                                                                                                                                                                                                                                                                                                                                                                                                                                                                               Full of intrigue and a good overview of the court of James 1 and the key players. Provides a good general history of all the facts of the case.  \n",
       "16       Rather than scratches and insect droppings, this one has random pixelations combined with muddy light and vague image resolution. Probably the cue should have been the packaging is straight out of your street corner bootleg dealer.If you've ever seen a reasonably good condition film copy, you know the defining visuals of his film are the crystal clear lighting contrasts in black and white. The surrounding countryside and 'old home' scenes are set with early morning ground mists or the haze of memory while the events on the bridge and in the water are bright, clear, and immediate.Here every...  \n",
       "17       Steven Wardell's book is a pure delight and I've recommended itto friends of all ages. In Rising Sons and Daughters, we learn thatJapanese young people are preserving their country's tradition of respect for their elders while also creating their own identity as Japan's \"Generation X\". Like our own young people, they are bombarded with some of the excesses of \"Western culture\" - Clothing fads, rock groups, a culture of shopping, etc. What they seem to be developing, however, is a healthy hybrid of old and new that retains a firm foundation in good values. The Ando family members are wonder...  \n",
       "18                                                                                                                                                                                                                                                                                                                                                                                                  I heard a song or two and thought same o same o,but when i listened to songs like \"blue angel\",\"lanna\" and 'mama\" the hair just rose off my neck.Roy is trully an amazing singer with a talent you don't find much now days.  \n",
       "19                                                                                                                                                                                                                                                                                                 I wrote a harsh review based on hearing a couple of tracks from one album,but after hearing tracks from the other 3 albums,I have to say that I take it back and in fact I bought it.The other albums are very good value for money with good liner notes and some very good music.Well worth the money for Roy Orbison fans.  \n",
       "20                                                                                                                                                                                                                                                                               When I saw the term 'bootleg' on the title of this recording,I can see what they mean because one cd does have a slightly disappointing sound,but the others do sound much better.Having seen the great Roy Orbison twice live in concert,I know that he sounded better,but overall it is a good value for money 4cd set with good liner notes.  \n",
       "21          I have had the charger for more than two years. It charges AA batteries just fine, but has a huge problem securing smaller AAA batteries. To charge the smaller batteries you need to flip down the little button at the positive end. In the beginning one of the four AAA batteries would pop up, and now three out of the four won't hold. The problem is the flip mechanism became loose, and any horizontal pressure would push the buttons back up. What I have to do now is using duct tape and a segment of crayon, apply the crayon on the buttons, and wrap the tape around. You know how painful that is.  \n",
       "22                                                                                                                                                                                                                                                                                                                                                                                                  Greetings. Kodak also has a K6000 charger which comes with 4 NiMH 2100 mAh batteries. Two batteries charge is 64 minutes and 4 batteries charge in 140 minutes. The problem is that Amazon doesn't carry them YET. Good bye.  \n",
       "23                                                                                                                                                                                                                                                                                                                                                                                                                                                      These will more than pay for themselves, they are perfect for my GPS which will drain a cheap battery in less than an hour.btw the charger did come with 1850 batteries.  \n",
       "24                                                                                                                                                                                                                                                                                                                                                                                                                                                                                         This is an excellent product. I bought this for my digital camera. It has a great battery life per charge. Charger is handy to carry.  \n",
       "25                                                                                                                                                                                                                                                                                                                 I bought this charger in Jul 2003 and it worked OK for a while. The design is nice and convenient. However, after about a year, the batteries would not hold a charge. Might as well just get alkaline disposables, or look elsewhere for a charger that comes with batteries that have better staying power.  \n",
       "26                                                                                                                    You said \"...but the charge only lasts a very short time.\"Did you know that new Ni-MH batteries must be cycled 3 to 5 times before they hold a full charge? This does not mean that they should be charged 3 to 5 times in a row but rather that for the first 3 to 5 charge/discharge cycles, the batteries reach a higher charge level each time until they are recharged until they finally reach their rated capacity. This may be your problem. Try doing this and you might be pleasantly surprised.  \n",
       "27       It's just awesome, even better than what you can read online about using dramatica of Armando. If you want to use Dramatica - and don't want to get lost eventually - you really, really, really need this guide to get to some point you can call your plot really a plot. This book just makes you very, very happy. For it will boost your efforts to really WORK with dramatica. I only wish we had had that book ten years before. So I do highly recommend it. Even if you aren't a native speaker like me, having german as my mother tongue. I would never have made it with the DRAMATICA SOFTWARE if I hav...  \n",
       "28                                                                                                                                                                                              After reading several reviews on this item, I purchased it as a Christmas gift. My brother liked it a lot, so I decided to get one for my wife and me. I'm really glad I did. It's pretty easy to set up and use, and the playback is excellent in both the VCR and DVD modes. The remote also operates my JVC TV. This is a great choice if you're looking for a quality combination player from a trusted name in electronics.  \n",
       "29       This VCR/DVD was an early Christmas present to myself after deciding to join the rest of the world in DVD-land but not wanting to let go of my VHS movies quite yet. Based on the reviews and price, and because I own a JVC TV, this was my choice. I agree with the easy set-up. It's a bit awkward to work the whole TV/VHS/DVD selection options but I think I've gotten the hang of it.Two comments: it's not intuitive and actually is pretty complicated (too many buttons on the remote but that might please others who are more technically-minded than me) so I've had to rely heavily on the how-to manu...  \n",
       "...                                                                                                                                                                                                                                                                                                                                                                                                                                                                                                                                                                                                                          ...  \n",
       "2999970              Hawkins provides an excellent framework from which to carefully think about leadership as a lifestyle. He effectively argues against compartmentalizing the different areas of influence (e.g., family, work) in our lives, but instead, encourages the reader to balance the conflicts that are sure to arise. He also provides useful insights into managing our lives in each area of influence so that we prove ourselves faithful in each.The book is written in a concise and very readable manner. I highly recommend it, and have even purchased additional copies to give to friends and family!!!  \n",
       "2999971                                                                                                      I liked the authors approach of NOT breaking up our lives into separate components of work, personal, and spiritual. His definition of spiritual, however, may be a little different than mine or yours. While I have nothing against the authors spiritual beliefs I found certain chapters lacking in substance and felt he was relying on God as an excuse for his inability to give clear direction. If it was spiritual direction I was lacking I would be reading a religious text, not a book on leadership.  \n",
       "2999972    Although the soundtrack series for \"Cowboy Bebop\" is nothing short of an awesome listening experience, I have to wonder about this one. It's an EP length album with only six songs, only three of which are exclusive to this CD. You do get the original version of the closing theme (\"The Real Folk Blues\"), as well as the cute drum-laden clap-along tune, \"Doggy Dog\", and the short James-Bond-esque \"The Spy\" by Seat Belts (Yoko Kanno's bebop band), but the other songs are also on the other soundtracks. It's a good listen, but I'd only recommend it if you feel you must own every Cowboy Bebop OST.  \n",
       "2999973                                                                                                                                                                                                                                                                                                                        Arrived on time, before Christmas day and it was very great! My daughter was very happy to have her female locomotive! the only problem is that there is a strange noise when it is on, the wheels sound a noise when turn and it is no so strong as Percy or James that we already took in past.  \n",
       "2999974                                                                                                                                                                                                                                                                                                                                                                                                                           We have had bad luck with this lovely toy. I think it is poorly manufactured because it broke, we got a new one and it broke right away. Our battery powered thomas runs fine. Skip this lady.  \n",
       "2999975                                                                                                                                                                                       If you don't have a battery operated train yet, then don't make Lady or Piercy your first purchase. You will be disappointed. THe 6 wheeled trains (James and Thomas) handle just about any track with no problems, while Lady derails probably 5 times as often. She particularly has trouble with tight corners (3\" radius curves).Make battery powered James or Thomas your first purchase, then buy Lady or Piercy after that.  \n",
       "2999976  Purchased Lady for one of our b/g 3 y/o twins this Christmas. Our kids are into playing with the Thomas train scenes so we bought them 'Down by the Docks' (got it just in time, guess it is being discontinued). We got our son battery powered Thomas and our daughter received battery powered Lady. All things Thomas were a hit. I will echo what another reviewer wrote. Thomas is pokey! Lady has him beat for pulling power and overall speed. She laps him on the track and ends up pushing him and his load while pullin' her own. The button on top of the BP ones are easy for little hands to work. The...  \n",
       "2999977                                                                                                                                                                                                                                                                                                                                                                                 Lady was a gift for my grandchildren to go with their Thomas & Friends Wooden Railway set. They spend hours playing with the trains and enjoy them immensely. They especially like the battery powdered engines. They have most of them.  \n",
       "2999978                                                                                                                                                                My son has this train, which he obtained at the flea market and he loves it. I bought this one to act as a back up just in case something was to happen to his. It is very well made and has the power to pull quite a few cars. Learning Curve has taken the time to make this product exceptionally well and I would recommend this to any Thomas Train collectors and children that want a strong pulling engine. Thank you Learning Curve and Amazon.  \n",
       "2999979                                                                                                                                                                                                                                                                                                                                                                                                                                        John Prater's illustrations are wonderful! (Similar to Barbara Firth's illustrations in the Little Bear books). My 21 month old daughter requests to hear the book over and over.  \n",
       "2999980  For those specifically interested in the birth of comedy clubs throughout the Boston area, this will be of interest. And, for those who wish to learn the nuts and bolts & nitty gritty of that area where standup clubs dominated, this, too, will be of interest.The premise of the DVD is the rise of young comedians primarily of the Boston area during the late 70's early 80's. They have stories to tell, the big breaks, stardom, influx of comedians claiming to be from Boston, the many clubs, intense competition, etc., etc.,Some names you will recognize, Denis Leary, Colin Quinn, Lenny Clark, Kev...  \n",
       "2999981  This DVD will be a disappointment if you get it hoping to see some substantial portion of the acts of the various comics listed on the cover. All you get here are snippets of performance, at best. The rest is just loose-leaf reminiscence about the good old days in Boston, in the early 80's, when a lot of comics were hanging out together and getting their start.It's like a frat house reunion. There's a lot of lame nostalgia. There are quite a few guffaws recalling jokes (practical and otherwise)perpetrated - back then. But you had to have been there to appreciate all the basically good ol' ...  \n",
       "2999982                                                                                                                                                                                                                                                                                                                                                                                                                                                                                This is a very funny book, with dialogue that cracks me up. Great vacation reading or gift for someone with an irreverent sense of humor.  \n",
       "2999983                                                                                                                                                                                                                                                                                                                                                                                                                                                                The workbook correlates well with the assignments that my son has received at school. The drawback is there is no answer key. That would be a great help.  \n",
       "2999984                                                                                                                                                                                                                                                                                                                                        We have not been able to use this for our homeschooling biology yet. We did not realize we needed to purchase the text book in order to even be able to answer the questions, but flipping through the book it looks like a very through program & we are excited to get started!  \n",
       "2999985                                                                                                                                                                                                                                                                                                                                                                               I buy many stockings and pantyhose from ILOVESEXY, however, many of the leg avenue pantyhose are so thin, that they rip,just by putting them on. I only weigh 125lbs, so they should fit perfectly. I reccomend wearing 2 pairs at a time.  \n",
       "2999986  The three films in this set are excellent, absolute classics of the genre. But because this set is incomplete, what is the point? They should be watched in order to really understand the story, and to see Nami's experiences in the order in which they played out. However \"Jailhouse 41,\" the second film is missing. So when you watch the first film, and then skip to the third, (Beast Stable) it makes no sense, because it starts out with \"The Scorpion\" outside of jail. Part 1 ended with Nami being returned to prison after dispatching the men who raped her, and the cop who used her. Not to ment...  \n",
       "2999987  I bought this CD expecting it to be the same type of music as the hit (When it Comes)... but when I finally got it, I listened, and kept trying to accept it and appreciate the music... But I still can't bring myself to do so. I will admit that I do, in fact, like \"When it Comes\". Its got a good guitar line and chord progressions - even good vocals. In the rest of the CD, Tyler's voice is husky and \"wannabe\" country. Another okay song is \"The Letter Song\"... although I will admit that I cringe every time he says, \"I can be romantic, I just gotsta try to be.\" To sum it up, I guess I'll say t...  \n",
       "2999988                                                                   I've just become familiar with Tyler's music and its really incredible. Hes a young, very good looking guy who writes a lot of his own music and plays his instruments. He's very talented and plays alot of music that anyone can relate to. His style of music is very unique but very catchy. If you like to feel for music...get up and dance... or just relax...he's def got it all! His style can be related to Hanson, Gavin Degraw, Johhny Lang, and Ryan Cabera. Nice mix huh? He's defenetly worth the money!!!! :) he's too cute too!!!! <3  \n",
       "2999989                                                                                                            This music is awsome!!!!! I first heard Tyler when I was at a Hanson concert he was the opening act. Before that I had never heard of him. His performance was amazing and so when he was done we went out to get his autograph. He was so sweet he signed the date and my name as well and was gracious enough to do it on my Hanson tour book becuase I had not been able to get anything of his yet. Anyway he is a great person and his music is absolutely awsome. I highly recomend this cd!!!!!Melinda  \n",
       "2999990                                                                                                                                                                                                                                                                                                                                                                                    Tyler Hilton's EP may only have a couple songs, but all of them are sooo amazing and good. All of them are my favorites. Tyler Hilton has a really good voice. His music is pop. Def. buy this CD....i promice you wont regret it!!!!  \n",
       "2999991                                                                                                                                                                                                                                                                                                            Do NOT buy this cd. Ever. This was probably just released as a test to see if REfans would buy anything that had \"Resident Evil/Biohazard\" on it.How dare this metamorphis guy ruin such perfect scores.Masami Ueda probably had a heart attack when he heard these awful remixes of his songs.Trance....bah.  \n",
       "2999992                                                                                                                      While Mr. Harrison makes some extremely valid arguments in this book , I wish he had also explored why the Anglo-protestant culture , which he holds up as\"best in class\" went about enslaving the world and what impact this has had on various countries , whom they enslaved.Perhaps some of the progress those Anglo-protestant societies have made, is due to the fact that they exploited other countries and other peoples and not so much their work ethic as Mr. Harrison seems to suggest  \n",
       "2999993  I had the amazing good fortune to be acquainted with Bob, and Gary, and Doug, when they were playing lounges in Des Moines. Many a night I sat and nursed a beer, and laughed and cried to their music. He writes some of his songs, but when he does Lightfoot or Guy Clark, or whoever, I almost always like his version better. I wore out the album, and the first CD, and still listen to him almost every day. And he still makes me laugh and cry. He's gone now, but he lives on in mellow tones, and silly giggles. Sometimes I can even hear myself in the background singing along, or laughing. He's bee...  \n",
       "2999994  This high chair has some great features - storage space for bibs and washcloths, removable fabric liner for easy machine washing, removable tray for easy cleaning.But it is very difficult to clean the seat. My son always wear a bib with a pocket to catch what doesn't make it to his mouth. Even so, a fair amount of little stuff ends up in the cracks on the side of the chair. And though they look great, the wooden slats are way too close to clean effectively. We wipe down everything else after each meal but there is usually still dried food stuck there until we get out a spray bottle and som...  \n",
       "2999995                                                                                                                                                                                                             The high chair looks great when it first comes out of the box but it is all down hill after that. It is impossible to keep clean. The finish is flaking off, after less than 6 months of use. It is not worth the struggle to keep up. If you already have it, call the customer service number and order a second chair pad. It is only $12 and does help to be able to switch out when one is in the wash.  \n",
       "2999996  I have used this highchair for 2 kids now and finally decided to sell it because I did not like it. It's a beautiful chair and looks great in the kitchen. It's much nicer looking than the 'plastic' ones you see. What I don't like about this chair is the day-to-day functionality of it. It does not adjust, at all. As the baby gets older, I want a chair that tilts, adjusts, etc-- and this does not do that. Also, it is very heavy and hard to move; it does not slide on the floor well at all. The seatbelt is clumsy and a pain to put through the fabric cover when you take the cover on or off for ...  \n",
       "2999997  We have a small house, and really wanted two of these high chairs for our twins. Space-wize, they are great; they have a small footprint and look nice along side the rest of our furniture.The 2nd tray and the slide-out cup holders are a great addition to this high chair. The shelf under the seat is a great place to store bibs.The downside of the Eddie Bauer high chair is that its difficult to clean. I have toddler twins, I don't have a lot of time to spend cleaning their high chairs with a toothbrush! The slats on the side of the seat are close together and food gets slopped in between the...  \n",
       "2999998                             I agree with everyone else who says this chair is hard to clean. I bought the lighter colored wood chair, which really makes the grime build up noticeable, especially on the foot rest. We clean the high chair all the time, but the wood almost has an absorbency about it and there's just so much you're able to get clean. And I'm not sure why some areas that have been cleaned have a sticky feeling to them except that maybe it's a reaction of the wood to the chemicals in disinfectant wipes. It looks nice, but I wish I had gone with a plastic, easier to clean high chair.  \n",
       "2999999                                                                                                                                         not sure what this book is supposed to be. It is really just a rehash of very old ideas about Carroll with some pop culture uncomfortably tacked on. The 'myth' has been dealt with far better by people who really seem to understand it (it's too deep I think for Brooker's milieu), and the pop culture is presented without any kind of analysis or penetration.I think you are better off with Leach's 'In the Shadow of the Dreamchild' or Sigler's 'Alternative Alices'.  \n",
       "\n",
       "[3000000 rows x 3 columns]"
      ]
     },
     "execution_count": 5,
     "metadata": {},
     "output_type": "execute_result"
    }
   ],
   "source": [
    "df = pd.read_csv(amazon/\"train.csv\", names=['class index','title','text'])\n",
    "df"
   ]
  },
  {
   "cell_type": "markdown",
   "metadata": {},
   "source": [
    "## 3 millones de registros!"
   ]
  },
  {
   "cell_type": "markdown",
   "metadata": {},
   "source": [
    "Usando la instrucción _pandas.DataFrame.sample_ podemos obtener una muestra de nuestros datos.\n",
    "Para fines practicos nos quedaremos con una muestra de 3000 registros:"
   ]
  },
  {
   "cell_type": "code",
   "execution_count": 6,
   "metadata": {},
   "outputs": [],
   "source": [
    "#df_sample = df.sample(frac=0.001, replace=True, random_state=42)\n",
    "#df_sample.reset_index(inplace=True, drop=True)\n",
    "#df_sample.to_csv('amazon_sample_3000.csv',index=False)"
   ]
  },
  {
   "cell_type": "markdown",
   "metadata": {},
   "source": [
    "## Confirmación de lectura de nuestro nuevo conjunto de datos"
   ]
  },
  {
   "cell_type": "code",
   "execution_count": 7,
   "metadata": {
    "colab": {},
    "colab_type": "code",
    "executionInfo": {
     "elapsed": 670,
     "status": "ok",
     "timestamp": 1595885524180,
     "user": {
      "displayName": "Pablo Clemente",
      "photoUrl": "https://lh3.googleusercontent.com/a-/AOh14GiclvfEWnqrlrKufEuyZS6rUEs7IJMYC3GL1ammZA=s64",
      "userId": "11632010352476865907"
     },
     "user_tz": 300
    },
    "id": "NbeECw6eZE0D"
   },
   "outputs": [],
   "source": [
    "amazon_sample_3000 = pd.read_csv('amazon_sample_3000.csv')"
   ]
  },
  {
   "cell_type": "code",
   "execution_count": 8,
   "metadata": {},
   "outputs": [
    {
     "data": {
      "text/html": [
       "<div>\n",
       "<style scoped>\n",
       "    .dataframe tbody tr th:only-of-type {\n",
       "        vertical-align: middle;\n",
       "    }\n",
       "\n",
       "    .dataframe tbody tr th {\n",
       "        vertical-align: top;\n",
       "    }\n",
       "\n",
       "    .dataframe thead th {\n",
       "        text-align: right;\n",
       "    }\n",
       "</style>\n",
       "<table border=\"1\" class=\"dataframe\">\n",
       "  <thead>\n",
       "    <tr style=\"text-align: right;\">\n",
       "      <th></th>\n",
       "      <th>class index</th>\n",
       "      <th>title</th>\n",
       "      <th>text</th>\n",
       "    </tr>\n",
       "  </thead>\n",
       "  <tbody>\n",
       "    <tr>\n",
       "      <th>0</th>\n",
       "      <td>2</td>\n",
       "      <td>Promises to Keep</td>\n",
       "      <td>I was disappointed in the condition of this book. It has mildew on the pages and has been wet at some point.</td>\n",
       "    </tr>\n",
       "    <tr>\n",
       "      <th>1</th>\n",
       "      <td>3</td>\n",
       "      <td>limp software</td>\n",
       "      <td>Conveniences:Exporting maps to PDA.It's there when the internet goes down.Inconveniences:Major roads are often only listed at SR-23423 or some other technical name. While this might be cartologically indisputable, the rest of the world, including businesses, street signs, and locals use something called \"street names\", like \"Lawrenceville Hwy\" or \"Apple Avenue\" or whatever. This renders the program unusable in certain circumstances. Thus, I find myself constantly using yahoo and google to find addresses in Atlanta.I don't know if the 2007 ver has updated anything about New York City, but e...</td>\n",
       "    </tr>\n",
       "    <tr>\n",
       "      <th>2</th>\n",
       "      <td>5</td>\n",
       "      <td>Love it</td>\n",
       "      <td>For the price, its unbelievable. I usually have it on low so its not too noisy, but high isn't that noisy either. Kinda wish it had a medium setting but all in all VERY satisfied.</td>\n",
       "    </tr>\n",
       "    <tr>\n",
       "      <th>3</th>\n",
       "      <td>1</td>\n",
       "      <td>Walk the halls?</td>\n",
       "      <td>I was very disappointed when I read this book. I was hoping to read cutting-edge research on leadership supported by personal experiences. However, what I got was a book full of personal anecdotes. Do I really need to pay someone $25 to tell me to build a rapport with my teachers and students? Walk the halls? Isn't that just common sense? Waste of time and money</td>\n",
       "    </tr>\n",
       "    <tr>\n",
       "      <th>4</th>\n",
       "      <td>3</td>\n",
       "      <td>beware</td>\n",
       "      <td>This album is OK if you like jazzy, 60's, very perky lounge group-vocals like Lambert, Hendricks and Ross and the groups one used to hear on 60's TV variety shows, but it is very definately not like the Salvador of \"Chambre avec Vue.\"</td>\n",
       "    </tr>\n",
       "    <tr>\n",
       "      <th>5</th>\n",
       "      <td>5</td>\n",
       "      <td>Lock, stock, and great</td>\n",
       "      <td>\"Lock, Stock, and Two Smoking Barrels\" is a British crime-fiction film and is a breakout offering by Director Guy Ritchie.The narrative is cleverly constructed and whilst groups of protagonists at first appear to standalone their interaction creates a fantastic series of events.The film contains a terrific cast and many of whom have become very well known since this work such as: Jason Flemyng (as Tom), Dexter Fletcher (plays Soap), Nick Moran (is Eddy), and Jason Statham (plays Bacon).It is quite a treat for viewers as the diversity of the story with its many turns and twists is absorbing...</td>\n",
       "    </tr>\n",
       "    <tr>\n",
       "      <th>6</th>\n",
       "      <td>5</td>\n",
       "      <td>The King and the Corpse</td>\n",
       "      <td>I usually don't read mythology books straight through, rather use them as reference. As such this book is easy to use. With Joseph Campbell as the editor I feel assured that it is a good rendition of the myths. I found it relevant to specific images I wanted to learn about. Excellent addition to my \"images\" library.</td>\n",
       "    </tr>\n",
       "    <tr>\n",
       "      <th>7</th>\n",
       "      <td>2</td>\n",
       "      <td>blitz jewelry cleaner</td>\n",
       "      <td>the cleaner works fine but the jar it comes in is not well made and it is difficult to open and close. It makes a mess every time I use it. The last jar I had was made from better material, but this is just junk!!! I will not purchase this item again.</td>\n",
       "    </tr>\n",
       "    <tr>\n",
       "      <th>8</th>\n",
       "      <td>1</td>\n",
       "      <td>???</td>\n",
       "      <td>The book was great but the movie was quite disappointing. Really glad I read the book first. Maybe I just expected too much. Really tired of good books being made into poor movies. Another example is Eragon. Highly recommend the book but not the movie.</td>\n",
       "    </tr>\n",
       "    <tr>\n",
       "      <th>9</th>\n",
       "      <td>2</td>\n",
       "      <td>I was suprised that the songs from key moments were gone.</td>\n",
       "      <td>I really was suprised that my favorite songs from the key moments of the show were missing. Like \"Kiss the rain\" by Billie Myers when Dawson and Joey make up, and \"Say goodnight\" by Beth Neilsen Chapman at the end of season 1 when Dawson and Joey kiss. Overall I had not heard of 80% of the songs on the cd. Even though I am a hardcore show fanatic, I opted not to buy the so-called \"soundtrack\" Scott Engle, 14 Belleville, KS</td>\n",
       "    </tr>\n",
       "  </tbody>\n",
       "</table>\n",
       "</div>"
      ],
      "text/plain": [
       "   class index                                                      title  \\\n",
       "0            2                                           Promises to Keep   \n",
       "1            3                                              limp software   \n",
       "2            5                                                    Love it   \n",
       "3            1                                            Walk the halls?   \n",
       "4            3                                                     beware   \n",
       "5            5                                     Lock, stock, and great   \n",
       "6            5                                    The King and the Corpse   \n",
       "7            2                                      blitz jewelry cleaner   \n",
       "8            1                                                        ???   \n",
       "9            2  I was suprised that the songs from key moments were gone.   \n",
       "\n",
       "                                                                                                                                                                                                                                                                                                                                                                                                                                                                                                                                                                                                                      text  \n",
       "0                                                                                                                                                                                                                                                                                                                                                                                                                                                                                                             I was disappointed in the condition of this book. It has mildew on the pages and has been wet at some point.  \n",
       "1  Conveniences:Exporting maps to PDA.It's there when the internet goes down.Inconveniences:Major roads are often only listed at SR-23423 or some other technical name. While this might be cartologically indisputable, the rest of the world, including businesses, street signs, and locals use something called \"street names\", like \"Lawrenceville Hwy\" or \"Apple Avenue\" or whatever. This renders the program unusable in certain circumstances. Thus, I find myself constantly using yahoo and google to find addresses in Atlanta.I don't know if the 2007 ver has updated anything about New York City, but e...  \n",
       "2                                                                                                                                                                                                                                                                                                                                                                                                                                      For the price, its unbelievable. I usually have it on low so its not too noisy, but high isn't that noisy either. Kinda wish it had a medium setting but all in all VERY satisfied.  \n",
       "3                                                                                                                                                                                                                                             I was very disappointed when I read this book. I was hoping to read cutting-edge research on leadership supported by personal experiences. However, what I got was a book full of personal anecdotes. Do I really need to pay someone $25 to tell me to build a rapport with my teachers and students? Walk the halls? Isn't that just common sense? Waste of time and money  \n",
       "4                                                                                                                                                                                                                                                                                                                                                                               This album is OK if you like jazzy, 60's, very perky lounge group-vocals like Lambert, Hendricks and Ross and the groups one used to hear on 60's TV variety shows, but it is very definately not like the Salvador of \"Chambre avec Vue.\"  \n",
       "5  \"Lock, Stock, and Two Smoking Barrels\" is a British crime-fiction film and is a breakout offering by Director Guy Ritchie.The narrative is cleverly constructed and whilst groups of protagonists at first appear to standalone their interaction creates a fantastic series of events.The film contains a terrific cast and many of whom have become very well known since this work such as: Jason Flemyng (as Tom), Dexter Fletcher (plays Soap), Nick Moran (is Eddy), and Jason Statham (plays Bacon).It is quite a treat for viewers as the diversity of the story with its many turns and twists is absorbing...  \n",
       "6                                                                                                                                                                                                                                                                                            I usually don't read mythology books straight through, rather use them as reference. As such this book is easy to use. With Joseph Campbell as the editor I feel assured that it is a good rendition of the myths. I found it relevant to specific images I wanted to learn about. Excellent addition to my \"images\" library.  \n",
       "7                                                                                                                                                                                                                                                                                                                                                              the cleaner works fine but the jar it comes in is not well made and it is difficult to open and close. It makes a mess every time I use it. The last jar I had was made from better material, but this is just junk!!! I will not purchase this item again.  \n",
       "8                                                                                                                                                                                                                                                                                                                                                             The book was great but the movie was quite disappointing. Really glad I read the book first. Maybe I just expected too much. Really tired of good books being made into poor movies. Another example is Eragon. Highly recommend the book but not the movie.  \n",
       "9                                                                                                                                                                               I really was suprised that my favorite songs from the key moments of the show were missing. Like \"Kiss the rain\" by Billie Myers when Dawson and Joey make up, and \"Say goodnight\" by Beth Neilsen Chapman at the end of season 1 when Dawson and Joey kiss. Overall I had not heard of 80% of the songs on the cd. Even though I am a hardcore show fanatic, I opted not to buy the so-called \"soundtrack\" Scott Engle, 14 Belleville, KS  "
      ]
     },
     "execution_count": 8,
     "metadata": {},
     "output_type": "execute_result"
    }
   ],
   "source": [
    "amazon_sample_3000.head(10)"
   ]
  },
  {
   "cell_type": "markdown",
   "metadata": {},
   "source": [
    "# Un modelo básico de análisis de sentimientos\n",
    "\n",
    "Procedimientos:\n",
    "1. Tokenizar y etiquetar las palabras en el review. \n",
    "2. Filtrar la información de manera que nos quedemos sólo con los adjetivos\n",
    "3. Usar VADER para establecer la valencia de cada adjetivo.\n",
    "4. Sumar la valencia de adjetivos en el review y con eso decidir si el review es positivo o negativo."
   ]
  },
  {
   "cell_type": "markdown",
   "metadata": {},
   "source": [
    "## 1 Tokenizar y etiquetar (Taggear) palabras de los reviews"
   ]
  },
  {
   "cell_type": "markdown",
   "metadata": {},
   "source": [
    "Esta opción me deja usar expresiones regulares! dado un texto, este tokenizador me va a devolver tokens SIN signos de puntuación, sólo palabras."
   ]
  },
  {
   "cell_type": "code",
   "execution_count": 9,
   "metadata": {},
   "outputs": [],
   "source": [
    "import nltk\n",
    "from nltk.tokenize import RegexpTokenizer\n",
    "tokenizador = RegexpTokenizer(r'\\w+') \n",
    "#nltk.download('averaged_perceptron_tagger')"
   ]
  },
  {
   "cell_type": "markdown",
   "metadata": {},
   "source": [
    "El etiquetado gramatical o POS (de part-of-speech tagging) es un método para etiquetar las palabras en un texto basándonos en su definición y en su contexto. Cada palabra es identificada de acuerdo a su categoría gramatical, de manera que podemos distinguir entre sustantivos, adjetivos, verbos.<br>\n",
    "\n",
    "Cada software diseñado para esta tarea tiene su propio etiquetado y es importante revisar la documentación de la biblioteca en turno al momento de empezar un proyecto. Por ejemplo, la biblioteca NLTK de Python considera las siguientes categorías:"
   ]
  },
  {
   "cell_type": "markdown",
   "metadata": {},
   "source": [
    "<img src=\"nltk-speech-codes.png\" width=\"850\" height=\"800\" />"
   ]
  },
  {
   "cell_type": "markdown",
   "metadata": {},
   "source": [
    "El etiquetado POS se hace sobre palabras, así que tenemos que tokenizar ahora cada review y asignarle etiquetas."
   ]
  },
  {
   "cell_type": "code",
   "execution_count": 10,
   "metadata": {},
   "outputs": [],
   "source": [
    "def TokenTag(texto):\n",
    "    \"\"\"\n",
    "    Parameters\n",
    "    ----------\n",
    "    texto : str\n",
    "        cadena de texto a tokenizar y taggear\n",
    "    \"\"\"\n",
    "    tokens = nltk.sent_tokenize(texto)\n",
    "    aux = []\n",
    "    for i in range(len(tokens)):\n",
    "        datosPOS = nltk.pos_tag(tokenizador.tokenize(tokens[i]))\n",
    "        for j in datosPOS:\n",
    "            aux.append(j)\n",
    "    return aux"
   ]
  },
  {
   "cell_type": "code",
   "execution_count": 11,
   "metadata": {},
   "outputs": [],
   "source": [
    "amazon_sample_3000['text TokenTag'] = amazon_sample_3000['text'].apply (lambda row: TokenTag(row))"
   ]
  },
  {
   "cell_type": "code",
   "execution_count": 12,
   "metadata": {},
   "outputs": [
    {
     "data": {
      "text/html": [
       "<div>\n",
       "<style scoped>\n",
       "    .dataframe tbody tr th:only-of-type {\n",
       "        vertical-align: middle;\n",
       "    }\n",
       "\n",
       "    .dataframe tbody tr th {\n",
       "        vertical-align: top;\n",
       "    }\n",
       "\n",
       "    .dataframe thead th {\n",
       "        text-align: right;\n",
       "    }\n",
       "</style>\n",
       "<table border=\"1\" class=\"dataframe\">\n",
       "  <thead>\n",
       "    <tr style=\"text-align: right;\">\n",
       "      <th></th>\n",
       "      <th>class index</th>\n",
       "      <th>title</th>\n",
       "      <th>text</th>\n",
       "      <th>text TokenTag</th>\n",
       "    </tr>\n",
       "  </thead>\n",
       "  <tbody>\n",
       "    <tr>\n",
       "      <th>0</th>\n",
       "      <td>2</td>\n",
       "      <td>Promises to Keep</td>\n",
       "      <td>I was disappointed in the condition of this book. It has mildew on the pages and has been wet at some point.</td>\n",
       "      <td>[(I, PRP), (was, VBD), (disappointed, VBN), (in, IN), (the, DT), (condition, NN), (of, IN), (this, DT), (book, NN), (It, PRP), (has, VBZ), (mildew, VBN), (on, IN), (the, DT), (pages, NNS), (and, CC), (has, VBZ), (been, VBN), (wet, VBN), (at, IN), (some, DT), (point, NN)]</td>\n",
       "    </tr>\n",
       "    <tr>\n",
       "      <th>1</th>\n",
       "      <td>3</td>\n",
       "      <td>limp software</td>\n",
       "      <td>Conveniences:Exporting maps to PDA.It's there when the internet goes down.Inconveniences:Major roads are often only listed at SR-23423 or some other technical name. While this might be cartologically indisputable, the rest of the world, including businesses, street signs, and locals use something called \"street names\", like \"Lawrenceville Hwy\" or \"Apple Avenue\" or whatever. This renders the program unusable in certain circumstances. Thus, I find myself constantly using yahoo and google to find addresses in Atlanta.I don't know if the 2007 ver has updated anything about New York City, but e...</td>\n",
       "      <td>[(Conveniences, NNS), (Exporting, VBG), (maps, NNS), (to, TO), (PDA, VB), (It, PRP), (s, PRP), (there, RB), (when, WRB), (the, DT), (internet, NN), (goes, VBZ), (down, RB), (Inconveniences, NNP), (Major, NNP), (roads, NNS), (are, VBP), (often, RB), (only, RB), (listed, VBN), (at, IN), (SR, NNP), (23423, CD), (or, CC), (some, DT), (other, JJ), (technical, JJ), (name, NN), (While, IN), (this, DT), (might, MD), (be, VB), (cartologically, RB), (indisputable, JJ), (the, DT), (rest, NN), (of, IN), (the, DT), (world, NN), (including, VBG), (businesses, NNS), (street, NN), (signs, NNS), (and, CC),...</td>\n",
       "    </tr>\n",
       "    <tr>\n",
       "      <th>2</th>\n",
       "      <td>5</td>\n",
       "      <td>Love it</td>\n",
       "      <td>For the price, its unbelievable. I usually have it on low so its not too noisy, but high isn't that noisy either. Kinda wish it had a medium setting but all in all VERY satisfied.</td>\n",
       "      <td>[(For, IN), (the, DT), (price, NN), (its, PRP$), (unbelievable, JJ), (I, PRP), (usually, RB), (have, VBP), (it, PRP), (on, IN), (low, JJ), (so, RB), (its, PRP$), (not, RB), (too, RB), (noisy, JJ), (but, CC), (high, JJ), (isn, NN), (t, NN), (that, WDT), (noisy, VBZ), (either, CC), (Kinda, NNP), (wish, VB), (it, PRP), (had, VBD), (a, DT), (medium, NN), (setting, VBG), (but, CC), (all, DT), (in, IN), (all, DT), (VERY, NNP), (satisfied, VBD)]</td>\n",
       "    </tr>\n",
       "    <tr>\n",
       "      <th>3</th>\n",
       "      <td>1</td>\n",
       "      <td>Walk the halls?</td>\n",
       "      <td>I was very disappointed when I read this book. I was hoping to read cutting-edge research on leadership supported by personal experiences. However, what I got was a book full of personal anecdotes. Do I really need to pay someone $25 to tell me to build a rapport with my teachers and students? Walk the halls? Isn't that just common sense? Waste of time and money</td>\n",
       "      <td>[(I, PRP), (was, VBD), (very, RB), (disappointed, JJ), (when, WRB), (I, PRP), (read, VBP), (this, DT), (book, NN), (I, PRP), (was, VBD), (hoping, VBG), (to, TO), (read, VB), (cutting, VBG), (edge, JJ), (research, NN), (on, IN), (leadership, NN), (supported, VBN), (by, IN), (personal, JJ), (experiences, NNS), (However, RB), (what, WP), (I, PRP), (got, VBD), (was, VBD), (a, DT), (book, NN), (full, JJ), (of, IN), (personal, JJ), (anecdotes, NNS), (Do, VBP), (I, PRP), (really, RB), (need, VBP), (to, TO), (pay, VB), (someone, NN), (25, CD), (to, TO), (tell, VB), (me, PRP), (to, TO), (build, VB)...</td>\n",
       "    </tr>\n",
       "    <tr>\n",
       "      <th>4</th>\n",
       "      <td>3</td>\n",
       "      <td>beware</td>\n",
       "      <td>This album is OK if you like jazzy, 60's, very perky lounge group-vocals like Lambert, Hendricks and Ross and the groups one used to hear on 60's TV variety shows, but it is very definately not like the Salvador of \"Chambre avec Vue.\"</td>\n",
       "      <td>[(This, DT), (album, NN), (is, VBZ), (OK, JJ), (if, IN), (you, PRP), (like, VBP), (jazzy, JJ), (60, CD), (s, JJ), (very, RB), (perky, JJ), (lounge, NN), (group, NN), (vocals, NNS), (like, IN), (Lambert, NNP), (Hendricks, NNP), (and, CC), (Ross, NNP), (and, CC), (the, DT), (groups, NNS), (one, CD), (used, VBN), (to, TO), (hear, VB), (on, IN), (60, CD), (s, JJ), (TV, NN), (variety, NN), (shows, NNS), (but, CC), (it, PRP), (is, VBZ), (very, RB), (definately, RB), (not, RB), (like, IN), (the, DT), (Salvador, NNP), (of, IN), (Chambre, NNP), (avec, FW), (Vue, NNP)]</td>\n",
       "    </tr>\n",
       "  </tbody>\n",
       "</table>\n",
       "</div>"
      ],
      "text/plain": [
       "   class index             title  \\\n",
       "0            2  Promises to Keep   \n",
       "1            3     limp software   \n",
       "2            5           Love it   \n",
       "3            1   Walk the halls?   \n",
       "4            3            beware   \n",
       "\n",
       "                                                                                                                                                                                                                                                                                                                                                                                                                                                                                                                                                                                                                      text  \\\n",
       "0                                                                                                                                                                                                                                                                                                                                                                                                                                                                                                             I was disappointed in the condition of this book. It has mildew on the pages and has been wet at some point.   \n",
       "1  Conveniences:Exporting maps to PDA.It's there when the internet goes down.Inconveniences:Major roads are often only listed at SR-23423 or some other technical name. While this might be cartologically indisputable, the rest of the world, including businesses, street signs, and locals use something called \"street names\", like \"Lawrenceville Hwy\" or \"Apple Avenue\" or whatever. This renders the program unusable in certain circumstances. Thus, I find myself constantly using yahoo and google to find addresses in Atlanta.I don't know if the 2007 ver has updated anything about New York City, but e...   \n",
       "2                                                                                                                                                                                                                                                                                                                                                                                                                                      For the price, its unbelievable. I usually have it on low so its not too noisy, but high isn't that noisy either. Kinda wish it had a medium setting but all in all VERY satisfied.   \n",
       "3                                                                                                                                                                                                                                             I was very disappointed when I read this book. I was hoping to read cutting-edge research on leadership supported by personal experiences. However, what I got was a book full of personal anecdotes. Do I really need to pay someone $25 to tell me to build a rapport with my teachers and students? Walk the halls? Isn't that just common sense? Waste of time and money   \n",
       "4                                                                                                                                                                                                                                                                                                                                                                               This album is OK if you like jazzy, 60's, very perky lounge group-vocals like Lambert, Hendricks and Ross and the groups one used to hear on 60's TV variety shows, but it is very definately not like the Salvador of \"Chambre avec Vue.\"   \n",
       "\n",
       "                                                                                                                                                                                                                                                                                                                                                                                                                                                                                                                                                                                                             text TokenTag  \n",
       "0                                                                                                                                                                                                                                                                                                                                          [(I, PRP), (was, VBD), (disappointed, VBN), (in, IN), (the, DT), (condition, NN), (of, IN), (this, DT), (book, NN), (It, PRP), (has, VBZ), (mildew, VBN), (on, IN), (the, DT), (pages, NNS), (and, CC), (has, VBZ), (been, VBN), (wet, VBN), (at, IN), (some, DT), (point, NN)]  \n",
       "1  [(Conveniences, NNS), (Exporting, VBG), (maps, NNS), (to, TO), (PDA, VB), (It, PRP), (s, PRP), (there, RB), (when, WRB), (the, DT), (internet, NN), (goes, VBZ), (down, RB), (Inconveniences, NNP), (Major, NNP), (roads, NNS), (are, VBP), (often, RB), (only, RB), (listed, VBN), (at, IN), (SR, NNP), (23423, CD), (or, CC), (some, DT), (other, JJ), (technical, JJ), (name, NN), (While, IN), (this, DT), (might, MD), (be, VB), (cartologically, RB), (indisputable, JJ), (the, DT), (rest, NN), (of, IN), (the, DT), (world, NN), (including, VBG), (businesses, NNS), (street, NN), (signs, NNS), (and, CC),...  \n",
       "2                                                                                                                                                               [(For, IN), (the, DT), (price, NN), (its, PRP$), (unbelievable, JJ), (I, PRP), (usually, RB), (have, VBP), (it, PRP), (on, IN), (low, JJ), (so, RB), (its, PRP$), (not, RB), (too, RB), (noisy, JJ), (but, CC), (high, JJ), (isn, NN), (t, NN), (that, WDT), (noisy, VBZ), (either, CC), (Kinda, NNP), (wish, VB), (it, PRP), (had, VBD), (a, DT), (medium, NN), (setting, VBG), (but, CC), (all, DT), (in, IN), (all, DT), (VERY, NNP), (satisfied, VBD)]  \n",
       "3  [(I, PRP), (was, VBD), (very, RB), (disappointed, JJ), (when, WRB), (I, PRP), (read, VBP), (this, DT), (book, NN), (I, PRP), (was, VBD), (hoping, VBG), (to, TO), (read, VB), (cutting, VBG), (edge, JJ), (research, NN), (on, IN), (leadership, NN), (supported, VBN), (by, IN), (personal, JJ), (experiences, NNS), (However, RB), (what, WP), (I, PRP), (got, VBD), (was, VBD), (a, DT), (book, NN), (full, JJ), (of, IN), (personal, JJ), (anecdotes, NNS), (Do, VBP), (I, PRP), (really, RB), (need, VBP), (to, TO), (pay, VB), (someone, NN), (25, CD), (to, TO), (tell, VB), (me, PRP), (to, TO), (build, VB)...  \n",
       "4                                    [(This, DT), (album, NN), (is, VBZ), (OK, JJ), (if, IN), (you, PRP), (like, VBP), (jazzy, JJ), (60, CD), (s, JJ), (very, RB), (perky, JJ), (lounge, NN), (group, NN), (vocals, NNS), (like, IN), (Lambert, NNP), (Hendricks, NNP), (and, CC), (Ross, NNP), (and, CC), (the, DT), (groups, NNS), (one, CD), (used, VBN), (to, TO), (hear, VB), (on, IN), (60, CD), (s, JJ), (TV, NN), (variety, NN), (shows, NNS), (but, CC), (it, PRP), (is, VBZ), (very, RB), (definately, RB), (not, RB), (like, IN), (the, DT), (Salvador, NNP), (of, IN), (Chambre, NNP), (avec, FW), (Vue, NNP)]  "
      ]
     },
     "execution_count": 12,
     "metadata": {},
     "output_type": "execute_result"
    }
   ],
   "source": [
    "amazon_sample_3000.head(5)"
   ]
  },
  {
   "cell_type": "markdown",
   "metadata": {},
   "source": [
    "## 2. Filtrar la información de manera que nos quedemos sólo con los adjetivos"
   ]
  },
  {
   "cell_type": "code",
   "execution_count": 13,
   "metadata": {},
   "outputs": [],
   "source": [
    "def FiltrarJJ(texto):\n",
    "    \"\"\"\n",
    "    Parameters\n",
    "    ----------\n",
    "    texto : str\n",
    "        Cadena de texto para filtrar\n",
    "    \"\"\"\n",
    "    aux = []\n",
    "    for tupla in texto:\n",
    "        if tupla[1] == 'JJ':\n",
    "            aux.append(tupla)\n",
    "        else:\n",
    "            pass\n",
    "    if not aux:\n",
    "        aux.append(\"Review no tiene adjetivos\")\n",
    "    return aux"
   ]
  },
  {
   "cell_type": "code",
   "execution_count": 14,
   "metadata": {},
   "outputs": [],
   "source": [
    "amazon_sample_3000['adjetives'] = amazon_sample_3000['text TokenTag'].apply(lambda row: FiltrarJJ(row))"
   ]
  },
  {
   "cell_type": "code",
   "execution_count": 15,
   "metadata": {},
   "outputs": [
    {
     "data": {
      "text/html": [
       "<div>\n",
       "<style scoped>\n",
       "    .dataframe tbody tr th:only-of-type {\n",
       "        vertical-align: middle;\n",
       "    }\n",
       "\n",
       "    .dataframe tbody tr th {\n",
       "        vertical-align: top;\n",
       "    }\n",
       "\n",
       "    .dataframe thead th {\n",
       "        text-align: right;\n",
       "    }\n",
       "</style>\n",
       "<table border=\"1\" class=\"dataframe\">\n",
       "  <thead>\n",
       "    <tr style=\"text-align: right;\">\n",
       "      <th></th>\n",
       "      <th>class index</th>\n",
       "      <th>title</th>\n",
       "      <th>text</th>\n",
       "      <th>text TokenTag</th>\n",
       "      <th>adjetives</th>\n",
       "    </tr>\n",
       "  </thead>\n",
       "  <tbody>\n",
       "    <tr>\n",
       "      <th>0</th>\n",
       "      <td>2</td>\n",
       "      <td>Promises to Keep</td>\n",
       "      <td>I was disappointed in the condition of this book. It has mildew on the pages and has been wet at some point.</td>\n",
       "      <td>[(I, PRP), (was, VBD), (disappointed, VBN), (in, IN), (the, DT), (condition, NN), (of, IN), (this, DT), (book, NN), (It, PRP), (has, VBZ), (mildew, VBN), (on, IN), (the, DT), (pages, NNS), (and, CC), (has, VBZ), (been, VBN), (wet, VBN), (at, IN), (some, DT), (point, NN)]</td>\n",
       "      <td>[Review no tiene adjetivos]</td>\n",
       "    </tr>\n",
       "    <tr>\n",
       "      <th>1</th>\n",
       "      <td>3</td>\n",
       "      <td>limp software</td>\n",
       "      <td>Conveniences:Exporting maps to PDA.It's there when the internet goes down.Inconveniences:Major roads are often only listed at SR-23423 or some other technical name. While this might be cartologically indisputable, the rest of the world, including businesses, street signs, and locals use something called \"street names\", like \"Lawrenceville Hwy\" or \"Apple Avenue\" or whatever. This renders the program unusable in certain circumstances. Thus, I find myself constantly using yahoo and google to find addresses in Atlanta.I don't know if the 2007 ver has updated anything about New York City, but e...</td>\n",
       "      <td>[(Conveniences, NNS), (Exporting, VBG), (maps, NNS), (to, TO), (PDA, VB), (It, PRP), (s, PRP), (there, RB), (when, WRB), (the, DT), (internet, NN), (goes, VBZ), (down, RB), (Inconveniences, NNP), (Major, NNP), (roads, NNS), (are, VBP), (often, RB), (only, RB), (listed, VBN), (at, IN), (SR, NNP), (23423, CD), (or, CC), (some, DT), (other, JJ), (technical, JJ), (name, NN), (While, IN), (this, DT), (might, MD), (be, VB), (cartologically, RB), (indisputable, JJ), (the, DT), (rest, NN), (of, IN), (the, DT), (world, NN), (including, VBG), (businesses, NNS), (street, NN), (signs, NNS), (and, CC),...</td>\n",
       "      <td>[(other, JJ), (technical, JJ), (indisputable, JJ), (unusable, JJ), (certain, JJ), (downright, JJ), (useless, JJ), (reasonable, JJ), (local, JJ)]</td>\n",
       "    </tr>\n",
       "    <tr>\n",
       "      <th>2</th>\n",
       "      <td>5</td>\n",
       "      <td>Love it</td>\n",
       "      <td>For the price, its unbelievable. I usually have it on low so its not too noisy, but high isn't that noisy either. Kinda wish it had a medium setting but all in all VERY satisfied.</td>\n",
       "      <td>[(For, IN), (the, DT), (price, NN), (its, PRP$), (unbelievable, JJ), (I, PRP), (usually, RB), (have, VBP), (it, PRP), (on, IN), (low, JJ), (so, RB), (its, PRP$), (not, RB), (too, RB), (noisy, JJ), (but, CC), (high, JJ), (isn, NN), (t, NN), (that, WDT), (noisy, VBZ), (either, CC), (Kinda, NNP), (wish, VB), (it, PRP), (had, VBD), (a, DT), (medium, NN), (setting, VBG), (but, CC), (all, DT), (in, IN), (all, DT), (VERY, NNP), (satisfied, VBD)]</td>\n",
       "      <td>[(unbelievable, JJ), (low, JJ), (noisy, JJ), (high, JJ)]</td>\n",
       "    </tr>\n",
       "    <tr>\n",
       "      <th>3</th>\n",
       "      <td>1</td>\n",
       "      <td>Walk the halls?</td>\n",
       "      <td>I was very disappointed when I read this book. I was hoping to read cutting-edge research on leadership supported by personal experiences. However, what I got was a book full of personal anecdotes. Do I really need to pay someone $25 to tell me to build a rapport with my teachers and students? Walk the halls? Isn't that just common sense? Waste of time and money</td>\n",
       "      <td>[(I, PRP), (was, VBD), (very, RB), (disappointed, JJ), (when, WRB), (I, PRP), (read, VBP), (this, DT), (book, NN), (I, PRP), (was, VBD), (hoping, VBG), (to, TO), (read, VB), (cutting, VBG), (edge, JJ), (research, NN), (on, IN), (leadership, NN), (supported, VBN), (by, IN), (personal, JJ), (experiences, NNS), (However, RB), (what, WP), (I, PRP), (got, VBD), (was, VBD), (a, DT), (book, NN), (full, JJ), (of, IN), (personal, JJ), (anecdotes, NNS), (Do, VBP), (I, PRP), (really, RB), (need, VBP), (to, TO), (pay, VB), (someone, NN), (25, CD), (to, TO), (tell, VB), (me, PRP), (to, TO), (build, VB)...</td>\n",
       "      <td>[(disappointed, JJ), (edge, JJ), (personal, JJ), (full, JJ), (personal, JJ), (common, JJ)]</td>\n",
       "    </tr>\n",
       "    <tr>\n",
       "      <th>4</th>\n",
       "      <td>3</td>\n",
       "      <td>beware</td>\n",
       "      <td>This album is OK if you like jazzy, 60's, very perky lounge group-vocals like Lambert, Hendricks and Ross and the groups one used to hear on 60's TV variety shows, but it is very definately not like the Salvador of \"Chambre avec Vue.\"</td>\n",
       "      <td>[(This, DT), (album, NN), (is, VBZ), (OK, JJ), (if, IN), (you, PRP), (like, VBP), (jazzy, JJ), (60, CD), (s, JJ), (very, RB), (perky, JJ), (lounge, NN), (group, NN), (vocals, NNS), (like, IN), (Lambert, NNP), (Hendricks, NNP), (and, CC), (Ross, NNP), (and, CC), (the, DT), (groups, NNS), (one, CD), (used, VBN), (to, TO), (hear, VB), (on, IN), (60, CD), (s, JJ), (TV, NN), (variety, NN), (shows, NNS), (but, CC), (it, PRP), (is, VBZ), (very, RB), (definately, RB), (not, RB), (like, IN), (the, DT), (Salvador, NNP), (of, IN), (Chambre, NNP), (avec, FW), (Vue, NNP)]</td>\n",
       "      <td>[(OK, JJ), (jazzy, JJ), (s, JJ), (perky, JJ), (s, JJ)]</td>\n",
       "    </tr>\n",
       "  </tbody>\n",
       "</table>\n",
       "</div>"
      ],
      "text/plain": [
       "   class index             title  \\\n",
       "0            2  Promises to Keep   \n",
       "1            3     limp software   \n",
       "2            5           Love it   \n",
       "3            1   Walk the halls?   \n",
       "4            3            beware   \n",
       "\n",
       "                                                                                                                                                                                                                                                                                                                                                                                                                                                                                                                                                                                                                      text  \\\n",
       "0                                                                                                                                                                                                                                                                                                                                                                                                                                                                                                             I was disappointed in the condition of this book. It has mildew on the pages and has been wet at some point.   \n",
       "1  Conveniences:Exporting maps to PDA.It's there when the internet goes down.Inconveniences:Major roads are often only listed at SR-23423 or some other technical name. While this might be cartologically indisputable, the rest of the world, including businesses, street signs, and locals use something called \"street names\", like \"Lawrenceville Hwy\" or \"Apple Avenue\" or whatever. This renders the program unusable in certain circumstances. Thus, I find myself constantly using yahoo and google to find addresses in Atlanta.I don't know if the 2007 ver has updated anything about New York City, but e...   \n",
       "2                                                                                                                                                                                                                                                                                                                                                                                                                                      For the price, its unbelievable. I usually have it on low so its not too noisy, but high isn't that noisy either. Kinda wish it had a medium setting but all in all VERY satisfied.   \n",
       "3                                                                                                                                                                                                                                             I was very disappointed when I read this book. I was hoping to read cutting-edge research on leadership supported by personal experiences. However, what I got was a book full of personal anecdotes. Do I really need to pay someone $25 to tell me to build a rapport with my teachers and students? Walk the halls? Isn't that just common sense? Waste of time and money   \n",
       "4                                                                                                                                                                                                                                                                                                                                                                               This album is OK if you like jazzy, 60's, very perky lounge group-vocals like Lambert, Hendricks and Ross and the groups one used to hear on 60's TV variety shows, but it is very definately not like the Salvador of \"Chambre avec Vue.\"   \n",
       "\n",
       "                                                                                                                                                                                                                                                                                                                                                                                                                                                                                                                                                                                                             text TokenTag  \\\n",
       "0                                                                                                                                                                                                                                                                                                                                          [(I, PRP), (was, VBD), (disappointed, VBN), (in, IN), (the, DT), (condition, NN), (of, IN), (this, DT), (book, NN), (It, PRP), (has, VBZ), (mildew, VBN), (on, IN), (the, DT), (pages, NNS), (and, CC), (has, VBZ), (been, VBN), (wet, VBN), (at, IN), (some, DT), (point, NN)]   \n",
       "1  [(Conveniences, NNS), (Exporting, VBG), (maps, NNS), (to, TO), (PDA, VB), (It, PRP), (s, PRP), (there, RB), (when, WRB), (the, DT), (internet, NN), (goes, VBZ), (down, RB), (Inconveniences, NNP), (Major, NNP), (roads, NNS), (are, VBP), (often, RB), (only, RB), (listed, VBN), (at, IN), (SR, NNP), (23423, CD), (or, CC), (some, DT), (other, JJ), (technical, JJ), (name, NN), (While, IN), (this, DT), (might, MD), (be, VB), (cartologically, RB), (indisputable, JJ), (the, DT), (rest, NN), (of, IN), (the, DT), (world, NN), (including, VBG), (businesses, NNS), (street, NN), (signs, NNS), (and, CC),...   \n",
       "2                                                                                                                                                               [(For, IN), (the, DT), (price, NN), (its, PRP$), (unbelievable, JJ), (I, PRP), (usually, RB), (have, VBP), (it, PRP), (on, IN), (low, JJ), (so, RB), (its, PRP$), (not, RB), (too, RB), (noisy, JJ), (but, CC), (high, JJ), (isn, NN), (t, NN), (that, WDT), (noisy, VBZ), (either, CC), (Kinda, NNP), (wish, VB), (it, PRP), (had, VBD), (a, DT), (medium, NN), (setting, VBG), (but, CC), (all, DT), (in, IN), (all, DT), (VERY, NNP), (satisfied, VBD)]   \n",
       "3  [(I, PRP), (was, VBD), (very, RB), (disappointed, JJ), (when, WRB), (I, PRP), (read, VBP), (this, DT), (book, NN), (I, PRP), (was, VBD), (hoping, VBG), (to, TO), (read, VB), (cutting, VBG), (edge, JJ), (research, NN), (on, IN), (leadership, NN), (supported, VBN), (by, IN), (personal, JJ), (experiences, NNS), (However, RB), (what, WP), (I, PRP), (got, VBD), (was, VBD), (a, DT), (book, NN), (full, JJ), (of, IN), (personal, JJ), (anecdotes, NNS), (Do, VBP), (I, PRP), (really, RB), (need, VBP), (to, TO), (pay, VB), (someone, NN), (25, CD), (to, TO), (tell, VB), (me, PRP), (to, TO), (build, VB)...   \n",
       "4                                    [(This, DT), (album, NN), (is, VBZ), (OK, JJ), (if, IN), (you, PRP), (like, VBP), (jazzy, JJ), (60, CD), (s, JJ), (very, RB), (perky, JJ), (lounge, NN), (group, NN), (vocals, NNS), (like, IN), (Lambert, NNP), (Hendricks, NNP), (and, CC), (Ross, NNP), (and, CC), (the, DT), (groups, NNS), (one, CD), (used, VBN), (to, TO), (hear, VB), (on, IN), (60, CD), (s, JJ), (TV, NN), (variety, NN), (shows, NNS), (but, CC), (it, PRP), (is, VBZ), (very, RB), (definately, RB), (not, RB), (like, IN), (the, DT), (Salvador, NNP), (of, IN), (Chambre, NNP), (avec, FW), (Vue, NNP)]   \n",
       "\n",
       "                                                                                                                                          adjetives  \n",
       "0                                                                                                                       [Review no tiene adjetivos]  \n",
       "1  [(other, JJ), (technical, JJ), (indisputable, JJ), (unusable, JJ), (certain, JJ), (downright, JJ), (useless, JJ), (reasonable, JJ), (local, JJ)]  \n",
       "2                                                                                          [(unbelievable, JJ), (low, JJ), (noisy, JJ), (high, JJ)]  \n",
       "3                                                        [(disappointed, JJ), (edge, JJ), (personal, JJ), (full, JJ), (personal, JJ), (common, JJ)]  \n",
       "4                                                                                            [(OK, JJ), (jazzy, JJ), (s, JJ), (perky, JJ), (s, JJ)]  "
      ]
     },
     "execution_count": 15,
     "metadata": {},
     "output_type": "execute_result"
    }
   ],
   "source": [
    "amazon_sample_3000.head(5)"
   ]
  },
  {
   "cell_type": "markdown",
   "metadata": {},
   "source": [
    "## 3. Usar VADER para establecer la valencia de cada adjetivo"
   ]
  },
  {
   "cell_type": "code",
   "execution_count": 16,
   "metadata": {},
   "outputs": [],
   "source": [
    "from nltk.sentiment.vader import SentimentIntensityAnalyzer\n",
    "#nltk.download('vader_lexicon')\n",
    "\n",
    "analizador = SentimentIntensityAnalyzer()"
   ]
  },
  {
   "cell_type": "markdown",
   "metadata": {},
   "source": [
    "Este analizador se llama desde _strings_, pues utiliza el lexicon combinado con las reglas gramaticales integradas. Lo que devuelve es puntuación de la valencia *de la frase completa* que hayamos usado. VADER reconoce emoticons y algunos acrónimos populares (LOL, ROFL, WTF).  \n",
    "\n",
    "Para cada _string_, VADER devuelve una puntuación correspondiente a la valencia positiva, la negativa, la neutral (las tres suman 1, así que podemos interpretarlos como el porcentaje de ese contenido en la frase) y un cuarto índice llamado _compound_. \n",
    "\n",
    "El valor de _compound_ suma las valencias de todas las palabras en la frase, incluyendo ajustes de acuerdo a reglas gramaticales, y normaliza la puntuación para obtener un índice entre -1 (extremo negativo) y 1 (extremo positivo). Si vamos a asignar una sola valencia a toda la frase, este sería el valor.\n",
    "\n",
    "Las reglas gramaticales que utiliza VADER se pueden ver directamente en el artículo en el que está basado: _VADER: A Parsimonious Rule-based Model for Sentiment Analysis of Social Media Text_ de C.J. Hutto y E. Gilbert."
   ]
  },
  {
   "cell_type": "markdown",
   "metadata": {},
   "source": [
    "Ejemplo de output de VADER:"
   ]
  },
  {
   "cell_type": "code",
   "execution_count": 17,
   "metadata": {},
   "outputs": [
    {
     "data": {
      "text/plain": [
       "{'neg': 0.0, 'neu': 0.0, 'pos': 1.0, 'compound': 0.6369}"
      ]
     },
     "execution_count": 17,
     "metadata": {},
     "output_type": "execute_result"
    }
   ],
   "source": [
    "analizador.polarity_scores('love')"
   ]
  },
  {
   "cell_type": "code",
   "execution_count": 18,
   "metadata": {},
   "outputs": [
    {
     "data": {
      "text/plain": [
       "{'neg': 1.0, 'neu': 0.0, 'pos': 0.0, 'compound': -0.5719}"
      ]
     },
     "execution_count": 18,
     "metadata": {},
     "output_type": "execute_result"
    }
   ],
   "source": [
    "analizador.polarity_scores('hate')"
   ]
  },
  {
   "cell_type": "code",
   "execution_count": 19,
   "metadata": {},
   "outputs": [],
   "source": [
    "def Valencia(texto):\n",
    "    \"\"\"\n",
    "    Parameters\n",
    "    ----------\n",
    "    texto : str\n",
    "        Cadena de texto con adjetivos\n",
    "        para calcular su valencia\n",
    "    \"\"\"\n",
    "    aux = []\n",
    "    for tupla in texto:\n",
    "        try:\n",
    "            val= analizador.polarity_scores(tupla[0])\n",
    "        except:\n",
    "            pass\n",
    "        aux.append(val)\n",
    "    return aux"
   ]
  },
  {
   "cell_type": "code",
   "execution_count": 20,
   "metadata": {},
   "outputs": [],
   "source": [
    "amazon_sample_3000['valencias'] = amazon_sample_3000['adjetives'].apply(lambda row: Valencia(row))"
   ]
  },
  {
   "cell_type": "code",
   "execution_count": 21,
   "metadata": {},
   "outputs": [
    {
     "data": {
      "text/html": [
       "<div>\n",
       "<style scoped>\n",
       "    .dataframe tbody tr th:only-of-type {\n",
       "        vertical-align: middle;\n",
       "    }\n",
       "\n",
       "    .dataframe tbody tr th {\n",
       "        vertical-align: top;\n",
       "    }\n",
       "\n",
       "    .dataframe thead th {\n",
       "        text-align: right;\n",
       "    }\n",
       "</style>\n",
       "<table border=\"1\" class=\"dataframe\">\n",
       "  <thead>\n",
       "    <tr style=\"text-align: right;\">\n",
       "      <th></th>\n",
       "      <th>class index</th>\n",
       "      <th>title</th>\n",
       "      <th>text</th>\n",
       "      <th>text TokenTag</th>\n",
       "      <th>adjetives</th>\n",
       "      <th>valencias</th>\n",
       "    </tr>\n",
       "  </thead>\n",
       "  <tbody>\n",
       "    <tr>\n",
       "      <th>0</th>\n",
       "      <td>2</td>\n",
       "      <td>Promises to Keep</td>\n",
       "      <td>I was disappointed in the condition of this book. It has mildew on the pages and has been wet at some point.</td>\n",
       "      <td>[(I, PRP), (was, VBD), (disappointed, VBN), (in, IN), (the, DT), (condition, NN), (of, IN), (this, DT), (book, NN), (It, PRP), (has, VBZ), (mildew, VBN), (on, IN), (the, DT), (pages, NNS), (and, CC), (has, VBZ), (been, VBN), (wet, VBN), (at, IN), (some, DT), (point, NN)]</td>\n",
       "      <td>[Review no tiene adjetivos]</td>\n",
       "      <td>[{'neg': 0.0, 'neu': 0.0, 'pos': 0.0, 'compound': 0.0}]</td>\n",
       "    </tr>\n",
       "    <tr>\n",
       "      <th>1</th>\n",
       "      <td>3</td>\n",
       "      <td>limp software</td>\n",
       "      <td>Conveniences:Exporting maps to PDA.It's there when the internet goes down.Inconveniences:Major roads are often only listed at SR-23423 or some other technical name. While this might be cartologically indisputable, the rest of the world, including businesses, street signs, and locals use something called \"street names\", like \"Lawrenceville Hwy\" or \"Apple Avenue\" or whatever. This renders the program unusable in certain circumstances. Thus, I find myself constantly using yahoo and google to find addresses in Atlanta.I don't know if the 2007 ver has updated anything about New York City, but e...</td>\n",
       "      <td>[(Conveniences, NNS), (Exporting, VBG), (maps, NNS), (to, TO), (PDA, VB), (It, PRP), (s, PRP), (there, RB), (when, WRB), (the, DT), (internet, NN), (goes, VBZ), (down, RB), (Inconveniences, NNP), (Major, NNP), (roads, NNS), (are, VBP), (often, RB), (only, RB), (listed, VBN), (at, IN), (SR, NNP), (23423, CD), (or, CC), (some, DT), (other, JJ), (technical, JJ), (name, NN), (While, IN), (this, DT), (might, MD), (be, VB), (cartologically, RB), (indisputable, JJ), (the, DT), (rest, NN), (of, IN), (the, DT), (world, NN), (including, VBG), (businesses, NNS), (street, NN), (signs, NNS), (and, CC),...</td>\n",
       "      <td>[(other, JJ), (technical, JJ), (indisputable, JJ), (unusable, JJ), (certain, JJ), (downright, JJ), (useless, JJ), (reasonable, JJ), (local, JJ)]</td>\n",
       "      <td>[{'neg': 0.0, 'neu': 1.0, 'pos': 0.0, 'compound': 0.0}, {'neg': 0.0, 'neu': 1.0, 'pos': 0.0, 'compound': 0.0}, {'neg': 0.0, 'neu': 1.0, 'pos': 0.0, 'compound': 0.0}, {'neg': 0.0, 'neu': 1.0, 'pos': 0.0, 'compound': 0.0}, {'neg': 0.0, 'neu': 0.0, 'pos': 1.0, 'compound': 0.2732}, {'neg': 0.0, 'neu': 1.0, 'pos': 0.0, 'compound': 0.0}, {'neg': 1.0, 'neu': 0.0, 'pos': 0.0, 'compound': -0.4215}, {'neg': 0.0, 'neu': 1.0, 'pos': 0.0, 'compound': 0.0}, {'neg': 0.0, 'neu': 1.0, 'pos': 0.0, 'compound': 0.0}]</td>\n",
       "    </tr>\n",
       "    <tr>\n",
       "      <th>2</th>\n",
       "      <td>5</td>\n",
       "      <td>Love it</td>\n",
       "      <td>For the price, its unbelievable. I usually have it on low so its not too noisy, but high isn't that noisy either. Kinda wish it had a medium setting but all in all VERY satisfied.</td>\n",
       "      <td>[(For, IN), (the, DT), (price, NN), (its, PRP$), (unbelievable, JJ), (I, PRP), (usually, RB), (have, VBP), (it, PRP), (on, IN), (low, JJ), (so, RB), (its, PRP$), (not, RB), (too, RB), (noisy, JJ), (but, CC), (high, JJ), (isn, NN), (t, NN), (that, WDT), (noisy, VBZ), (either, CC), (Kinda, NNP), (wish, VB), (it, PRP), (had, VBD), (a, DT), (medium, NN), (setting, VBG), (but, CC), (all, DT), (in, IN), (all, DT), (VERY, NNP), (satisfied, VBD)]</td>\n",
       "      <td>[(unbelievable, JJ), (low, JJ), (noisy, JJ), (high, JJ)]</td>\n",
       "      <td>[{'neg': 0.0, 'neu': 0.0, 'pos': 1.0, 'compound': 0.2023}, {'neg': 1.0, 'neu': 0.0, 'pos': 0.0, 'compound': -0.2732}, {'neg': 1.0, 'neu': 0.0, 'pos': 0.0, 'compound': -0.1779}, {'neg': 0.0, 'neu': 1.0, 'pos': 0.0, 'compound': 0.0}]</td>\n",
       "    </tr>\n",
       "    <tr>\n",
       "      <th>3</th>\n",
       "      <td>1</td>\n",
       "      <td>Walk the halls?</td>\n",
       "      <td>I was very disappointed when I read this book. I was hoping to read cutting-edge research on leadership supported by personal experiences. However, what I got was a book full of personal anecdotes. Do I really need to pay someone $25 to tell me to build a rapport with my teachers and students? Walk the halls? Isn't that just common sense? Waste of time and money</td>\n",
       "      <td>[(I, PRP), (was, VBD), (very, RB), (disappointed, JJ), (when, WRB), (I, PRP), (read, VBP), (this, DT), (book, NN), (I, PRP), (was, VBD), (hoping, VBG), (to, TO), (read, VB), (cutting, VBG), (edge, JJ), (research, NN), (on, IN), (leadership, NN), (supported, VBN), (by, IN), (personal, JJ), (experiences, NNS), (However, RB), (what, WP), (I, PRP), (got, VBD), (was, VBD), (a, DT), (book, NN), (full, JJ), (of, IN), (personal, JJ), (anecdotes, NNS), (Do, VBP), (I, PRP), (really, RB), (need, VBP), (to, TO), (pay, VB), (someone, NN), (25, CD), (to, TO), (tell, VB), (me, PRP), (to, TO), (build, VB)...</td>\n",
       "      <td>[(disappointed, JJ), (edge, JJ), (personal, JJ), (full, JJ), (personal, JJ), (common, JJ)]</td>\n",
       "      <td>[{'neg': 1.0, 'neu': 0.0, 'pos': 0.0, 'compound': -0.4767}, {'neg': 0.0, 'neu': 1.0, 'pos': 0.0, 'compound': 0.0}, {'neg': 0.0, 'neu': 1.0, 'pos': 0.0, 'compound': 0.0}, {'neg': 0.0, 'neu': 1.0, 'pos': 0.0, 'compound': 0.0}, {'neg': 0.0, 'neu': 1.0, 'pos': 0.0, 'compound': 0.0}, {'neg': 0.0, 'neu': 1.0, 'pos': 0.0, 'compound': 0.0}]</td>\n",
       "    </tr>\n",
       "    <tr>\n",
       "      <th>4</th>\n",
       "      <td>3</td>\n",
       "      <td>beware</td>\n",
       "      <td>This album is OK if you like jazzy, 60's, very perky lounge group-vocals like Lambert, Hendricks and Ross and the groups one used to hear on 60's TV variety shows, but it is very definately not like the Salvador of \"Chambre avec Vue.\"</td>\n",
       "      <td>[(This, DT), (album, NN), (is, VBZ), (OK, JJ), (if, IN), (you, PRP), (like, VBP), (jazzy, JJ), (60, CD), (s, JJ), (very, RB), (perky, JJ), (lounge, NN), (group, NN), (vocals, NNS), (like, IN), (Lambert, NNP), (Hendricks, NNP), (and, CC), (Ross, NNP), (and, CC), (the, DT), (groups, NNS), (one, CD), (used, VBN), (to, TO), (hear, VB), (on, IN), (60, CD), (s, JJ), (TV, NN), (variety, NN), (shows, NNS), (but, CC), (it, PRP), (is, VBZ), (very, RB), (definately, RB), (not, RB), (like, IN), (the, DT), (Salvador, NNP), (of, IN), (Chambre, NNP), (avec, FW), (Vue, NNP)]</td>\n",
       "      <td>[(OK, JJ), (jazzy, JJ), (s, JJ), (perky, JJ), (s, JJ)]</td>\n",
       "      <td>[{'neg': 0.0, 'neu': 0.0, 'pos': 1.0, 'compound': 0.296}, {'neg': 0.0, 'neu': 1.0, 'pos': 0.0, 'compound': 0.0}, {'neg': 0.0, 'neu': 0.0, 'pos': 0.0, 'compound': 0.0}, {'neg': 0.0, 'neu': 1.0, 'pos': 0.0, 'compound': 0.0}, {'neg': 0.0, 'neu': 0.0, 'pos': 0.0, 'compound': 0.0}]</td>\n",
       "    </tr>\n",
       "  </tbody>\n",
       "</table>\n",
       "</div>"
      ],
      "text/plain": [
       "   class index             title  \\\n",
       "0            2  Promises to Keep   \n",
       "1            3     limp software   \n",
       "2            5           Love it   \n",
       "3            1   Walk the halls?   \n",
       "4            3            beware   \n",
       "\n",
       "                                                                                                                                                                                                                                                                                                                                                                                                                                                                                                                                                                                                                      text  \\\n",
       "0                                                                                                                                                                                                                                                                                                                                                                                                                                                                                                             I was disappointed in the condition of this book. It has mildew on the pages and has been wet at some point.   \n",
       "1  Conveniences:Exporting maps to PDA.It's there when the internet goes down.Inconveniences:Major roads are often only listed at SR-23423 or some other technical name. While this might be cartologically indisputable, the rest of the world, including businesses, street signs, and locals use something called \"street names\", like \"Lawrenceville Hwy\" or \"Apple Avenue\" or whatever. This renders the program unusable in certain circumstances. Thus, I find myself constantly using yahoo and google to find addresses in Atlanta.I don't know if the 2007 ver has updated anything about New York City, but e...   \n",
       "2                                                                                                                                                                                                                                                                                                                                                                                                                                      For the price, its unbelievable. I usually have it on low so its not too noisy, but high isn't that noisy either. Kinda wish it had a medium setting but all in all VERY satisfied.   \n",
       "3                                                                                                                                                                                                                                             I was very disappointed when I read this book. I was hoping to read cutting-edge research on leadership supported by personal experiences. However, what I got was a book full of personal anecdotes. Do I really need to pay someone $25 to tell me to build a rapport with my teachers and students? Walk the halls? Isn't that just common sense? Waste of time and money   \n",
       "4                                                                                                                                                                                                                                                                                                                                                                               This album is OK if you like jazzy, 60's, very perky lounge group-vocals like Lambert, Hendricks and Ross and the groups one used to hear on 60's TV variety shows, but it is very definately not like the Salvador of \"Chambre avec Vue.\"   \n",
       "\n",
       "                                                                                                                                                                                                                                                                                                                                                                                                                                                                                                                                                                                                             text TokenTag  \\\n",
       "0                                                                                                                                                                                                                                                                                                                                          [(I, PRP), (was, VBD), (disappointed, VBN), (in, IN), (the, DT), (condition, NN), (of, IN), (this, DT), (book, NN), (It, PRP), (has, VBZ), (mildew, VBN), (on, IN), (the, DT), (pages, NNS), (and, CC), (has, VBZ), (been, VBN), (wet, VBN), (at, IN), (some, DT), (point, NN)]   \n",
       "1  [(Conveniences, NNS), (Exporting, VBG), (maps, NNS), (to, TO), (PDA, VB), (It, PRP), (s, PRP), (there, RB), (when, WRB), (the, DT), (internet, NN), (goes, VBZ), (down, RB), (Inconveniences, NNP), (Major, NNP), (roads, NNS), (are, VBP), (often, RB), (only, RB), (listed, VBN), (at, IN), (SR, NNP), (23423, CD), (or, CC), (some, DT), (other, JJ), (technical, JJ), (name, NN), (While, IN), (this, DT), (might, MD), (be, VB), (cartologically, RB), (indisputable, JJ), (the, DT), (rest, NN), (of, IN), (the, DT), (world, NN), (including, VBG), (businesses, NNS), (street, NN), (signs, NNS), (and, CC),...   \n",
       "2                                                                                                                                                               [(For, IN), (the, DT), (price, NN), (its, PRP$), (unbelievable, JJ), (I, PRP), (usually, RB), (have, VBP), (it, PRP), (on, IN), (low, JJ), (so, RB), (its, PRP$), (not, RB), (too, RB), (noisy, JJ), (but, CC), (high, JJ), (isn, NN), (t, NN), (that, WDT), (noisy, VBZ), (either, CC), (Kinda, NNP), (wish, VB), (it, PRP), (had, VBD), (a, DT), (medium, NN), (setting, VBG), (but, CC), (all, DT), (in, IN), (all, DT), (VERY, NNP), (satisfied, VBD)]   \n",
       "3  [(I, PRP), (was, VBD), (very, RB), (disappointed, JJ), (when, WRB), (I, PRP), (read, VBP), (this, DT), (book, NN), (I, PRP), (was, VBD), (hoping, VBG), (to, TO), (read, VB), (cutting, VBG), (edge, JJ), (research, NN), (on, IN), (leadership, NN), (supported, VBN), (by, IN), (personal, JJ), (experiences, NNS), (However, RB), (what, WP), (I, PRP), (got, VBD), (was, VBD), (a, DT), (book, NN), (full, JJ), (of, IN), (personal, JJ), (anecdotes, NNS), (Do, VBP), (I, PRP), (really, RB), (need, VBP), (to, TO), (pay, VB), (someone, NN), (25, CD), (to, TO), (tell, VB), (me, PRP), (to, TO), (build, VB)...   \n",
       "4                                    [(This, DT), (album, NN), (is, VBZ), (OK, JJ), (if, IN), (you, PRP), (like, VBP), (jazzy, JJ), (60, CD), (s, JJ), (very, RB), (perky, JJ), (lounge, NN), (group, NN), (vocals, NNS), (like, IN), (Lambert, NNP), (Hendricks, NNP), (and, CC), (Ross, NNP), (and, CC), (the, DT), (groups, NNS), (one, CD), (used, VBN), (to, TO), (hear, VB), (on, IN), (60, CD), (s, JJ), (TV, NN), (variety, NN), (shows, NNS), (but, CC), (it, PRP), (is, VBZ), (very, RB), (definately, RB), (not, RB), (like, IN), (the, DT), (Salvador, NNP), (of, IN), (Chambre, NNP), (avec, FW), (Vue, NNP)]   \n",
       "\n",
       "                                                                                                                                          adjetives  \\\n",
       "0                                                                                                                       [Review no tiene adjetivos]   \n",
       "1  [(other, JJ), (technical, JJ), (indisputable, JJ), (unusable, JJ), (certain, JJ), (downright, JJ), (useless, JJ), (reasonable, JJ), (local, JJ)]   \n",
       "2                                                                                          [(unbelievable, JJ), (low, JJ), (noisy, JJ), (high, JJ)]   \n",
       "3                                                        [(disappointed, JJ), (edge, JJ), (personal, JJ), (full, JJ), (personal, JJ), (common, JJ)]   \n",
       "4                                                                                            [(OK, JJ), (jazzy, JJ), (s, JJ), (perky, JJ), (s, JJ)]   \n",
       "\n",
       "                                                                                                                                                                                                                                                                                                                                                                                                                                                                                                                valencias  \n",
       "0                                                                                                                                                                                                                                                                                                                                                                                                                                                                 [{'neg': 0.0, 'neu': 0.0, 'pos': 0.0, 'compound': 0.0}]  \n",
       "1  [{'neg': 0.0, 'neu': 1.0, 'pos': 0.0, 'compound': 0.0}, {'neg': 0.0, 'neu': 1.0, 'pos': 0.0, 'compound': 0.0}, {'neg': 0.0, 'neu': 1.0, 'pos': 0.0, 'compound': 0.0}, {'neg': 0.0, 'neu': 1.0, 'pos': 0.0, 'compound': 0.0}, {'neg': 0.0, 'neu': 0.0, 'pos': 1.0, 'compound': 0.2732}, {'neg': 0.0, 'neu': 1.0, 'pos': 0.0, 'compound': 0.0}, {'neg': 1.0, 'neu': 0.0, 'pos': 0.0, 'compound': -0.4215}, {'neg': 0.0, 'neu': 1.0, 'pos': 0.0, 'compound': 0.0}, {'neg': 0.0, 'neu': 1.0, 'pos': 0.0, 'compound': 0.0}]  \n",
       "2                                                                                                                                                                                                                                                                                 [{'neg': 0.0, 'neu': 0.0, 'pos': 1.0, 'compound': 0.2023}, {'neg': 1.0, 'neu': 0.0, 'pos': 0.0, 'compound': -0.2732}, {'neg': 1.0, 'neu': 0.0, 'pos': 0.0, 'compound': -0.1779}, {'neg': 0.0, 'neu': 1.0, 'pos': 0.0, 'compound': 0.0}]  \n",
       "3                                                                                                                                                                          [{'neg': 1.0, 'neu': 0.0, 'pos': 0.0, 'compound': -0.4767}, {'neg': 0.0, 'neu': 1.0, 'pos': 0.0, 'compound': 0.0}, {'neg': 0.0, 'neu': 1.0, 'pos': 0.0, 'compound': 0.0}, {'neg': 0.0, 'neu': 1.0, 'pos': 0.0, 'compound': 0.0}, {'neg': 0.0, 'neu': 1.0, 'pos': 0.0, 'compound': 0.0}, {'neg': 0.0, 'neu': 1.0, 'pos': 0.0, 'compound': 0.0}]  \n",
       "4                                                                                                                                                                                                                                   [{'neg': 0.0, 'neu': 0.0, 'pos': 1.0, 'compound': 0.296}, {'neg': 0.0, 'neu': 1.0, 'pos': 0.0, 'compound': 0.0}, {'neg': 0.0, 'neu': 0.0, 'pos': 0.0, 'compound': 0.0}, {'neg': 0.0, 'neu': 1.0, 'pos': 0.0, 'compound': 0.0}, {'neg': 0.0, 'neu': 0.0, 'pos': 0.0, 'compound': 0.0}]  "
      ]
     },
     "execution_count": 21,
     "metadata": {},
     "output_type": "execute_result"
    }
   ],
   "source": [
    "amazon_sample_3000.head(5)"
   ]
  },
  {
   "cell_type": "markdown",
   "metadata": {},
   "source": [
    "### Tomamos un caso para analizarlo "
   ]
  },
  {
   "cell_type": "code",
   "execution_count": 22,
   "metadata": {},
   "outputs": [
    {
     "data": {
      "text/html": [
       "<div>\n",
       "<style scoped>\n",
       "    .dataframe tbody tr th:only-of-type {\n",
       "        vertical-align: middle;\n",
       "    }\n",
       "\n",
       "    .dataframe tbody tr th {\n",
       "        vertical-align: top;\n",
       "    }\n",
       "\n",
       "    .dataframe thead th {\n",
       "        text-align: right;\n",
       "    }\n",
       "</style>\n",
       "<table border=\"1\" class=\"dataframe\">\n",
       "  <thead>\n",
       "    <tr style=\"text-align: right;\">\n",
       "      <th></th>\n",
       "      <th>class index</th>\n",
       "      <th>title</th>\n",
       "      <th>text</th>\n",
       "      <th>text TokenTag</th>\n",
       "      <th>adjetives</th>\n",
       "      <th>valencias</th>\n",
       "    </tr>\n",
       "  </thead>\n",
       "  <tbody>\n",
       "    <tr>\n",
       "      <th>1</th>\n",
       "      <td>3</td>\n",
       "      <td>limp software</td>\n",
       "      <td>Conveniences:Exporting maps to PDA.It's there when the internet goes down.Inconveniences:Major roads are often only listed at SR-23423 or some other technical name. While this might be cartologically indisputable, the rest of the world, including businesses, street signs, and locals use something called \"street names\", like \"Lawrenceville Hwy\" or \"Apple Avenue\" or whatever. This renders the program unusable in certain circumstances. Thus, I find myself constantly using yahoo and google to find addresses in Atlanta.I don't know if the 2007 ver has updated anything about New York City, but e...</td>\n",
       "      <td>[(Conveniences, NNS), (Exporting, VBG), (maps, NNS), (to, TO), (PDA, VB), (It, PRP), (s, PRP), (there, RB), (when, WRB), (the, DT), (internet, NN), (goes, VBZ), (down, RB), (Inconveniences, NNP), (Major, NNP), (roads, NNS), (are, VBP), (often, RB), (only, RB), (listed, VBN), (at, IN), (SR, NNP), (23423, CD), (or, CC), (some, DT), (other, JJ), (technical, JJ), (name, NN), (While, IN), (this, DT), (might, MD), (be, VB), (cartologically, RB), (indisputable, JJ), (the, DT), (rest, NN), (of, IN), (the, DT), (world, NN), (including, VBG), (businesses, NNS), (street, NN), (signs, NNS), (and, CC),...</td>\n",
       "      <td>[(other, JJ), (technical, JJ), (indisputable, JJ), (unusable, JJ), (certain, JJ), (downright, JJ), (useless, JJ), (reasonable, JJ), (local, JJ)]</td>\n",
       "      <td>[{'neg': 0.0, 'neu': 1.0, 'pos': 0.0, 'compound': 0.0}, {'neg': 0.0, 'neu': 1.0, 'pos': 0.0, 'compound': 0.0}, {'neg': 0.0, 'neu': 1.0, 'pos': 0.0, 'compound': 0.0}, {'neg': 0.0, 'neu': 1.0, 'pos': 0.0, 'compound': 0.0}, {'neg': 0.0, 'neu': 0.0, 'pos': 1.0, 'compound': 0.2732}, {'neg': 0.0, 'neu': 1.0, 'pos': 0.0, 'compound': 0.0}, {'neg': 1.0, 'neu': 0.0, 'pos': 0.0, 'compound': -0.4215}, {'neg': 0.0, 'neu': 1.0, 'pos': 0.0, 'compound': 0.0}, {'neg': 0.0, 'neu': 1.0, 'pos': 0.0, 'compound': 0.0}]</td>\n",
       "    </tr>\n",
       "  </tbody>\n",
       "</table>\n",
       "</div>"
      ],
      "text/plain": [
       "   class index          title  \\\n",
       "1            3  limp software   \n",
       "\n",
       "                                                                                                                                                                                                                                                                                                                                                                                                                                                                                                                                                                                                                      text  \\\n",
       "1  Conveniences:Exporting maps to PDA.It's there when the internet goes down.Inconveniences:Major roads are often only listed at SR-23423 or some other technical name. While this might be cartologically indisputable, the rest of the world, including businesses, street signs, and locals use something called \"street names\", like \"Lawrenceville Hwy\" or \"Apple Avenue\" or whatever. This renders the program unusable in certain circumstances. Thus, I find myself constantly using yahoo and google to find addresses in Atlanta.I don't know if the 2007 ver has updated anything about New York City, but e...   \n",
       "\n",
       "                                                                                                                                                                                                                                                                                                                                                                                                                                                                                                                                                                                                             text TokenTag  \\\n",
       "1  [(Conveniences, NNS), (Exporting, VBG), (maps, NNS), (to, TO), (PDA, VB), (It, PRP), (s, PRP), (there, RB), (when, WRB), (the, DT), (internet, NN), (goes, VBZ), (down, RB), (Inconveniences, NNP), (Major, NNP), (roads, NNS), (are, VBP), (often, RB), (only, RB), (listed, VBN), (at, IN), (SR, NNP), (23423, CD), (or, CC), (some, DT), (other, JJ), (technical, JJ), (name, NN), (While, IN), (this, DT), (might, MD), (be, VB), (cartologically, RB), (indisputable, JJ), (the, DT), (rest, NN), (of, IN), (the, DT), (world, NN), (including, VBG), (businesses, NNS), (street, NN), (signs, NNS), (and, CC),...   \n",
       "\n",
       "                                                                                                                                          adjetives  \\\n",
       "1  [(other, JJ), (technical, JJ), (indisputable, JJ), (unusable, JJ), (certain, JJ), (downright, JJ), (useless, JJ), (reasonable, JJ), (local, JJ)]   \n",
       "\n",
       "                                                                                                                                                                                                                                                                                                                                                                                                                                                                                                                valencias  \n",
       "1  [{'neg': 0.0, 'neu': 1.0, 'pos': 0.0, 'compound': 0.0}, {'neg': 0.0, 'neu': 1.0, 'pos': 0.0, 'compound': 0.0}, {'neg': 0.0, 'neu': 1.0, 'pos': 0.0, 'compound': 0.0}, {'neg': 0.0, 'neu': 1.0, 'pos': 0.0, 'compound': 0.0}, {'neg': 0.0, 'neu': 0.0, 'pos': 1.0, 'compound': 0.2732}, {'neg': 0.0, 'neu': 1.0, 'pos': 0.0, 'compound': 0.0}, {'neg': 1.0, 'neu': 0.0, 'pos': 0.0, 'compound': -0.4215}, {'neg': 0.0, 'neu': 1.0, 'pos': 0.0, 'compound': 0.0}, {'neg': 0.0, 'neu': 1.0, 'pos': 0.0, 'compound': 0.0}]  "
      ]
     },
     "execution_count": 22,
     "metadata": {},
     "output_type": "execute_result"
    }
   ],
   "source": [
    "amazon_sample_3000[1:2]"
   ]
  },
  {
   "cell_type": "code",
   "execution_count": 23,
   "metadata": {},
   "outputs": [
    {
     "data": {
      "text/plain": [
       "1    [(other, JJ), (technical, JJ), (indisputable, JJ), (unusable, JJ), (certain, JJ), (downright, JJ), (useless, JJ), (reasonable, JJ), (local, JJ)]\n",
       "Name: adjetives, dtype: object"
      ]
     },
     "execution_count": 23,
     "metadata": {},
     "output_type": "execute_result"
    }
   ],
   "source": [
    "amazon_sample_3000['adjetives'][1:2]"
   ]
  },
  {
   "cell_type": "code",
   "execution_count": 24,
   "metadata": {},
   "outputs": [
    {
     "data": {
      "text/plain": [
       "1    [{'neg': 0.0, 'neu': 1.0, 'pos': 0.0, 'compound': 0.0}, {'neg': 0.0, 'neu': 1.0, 'pos': 0.0, 'compound': 0.0}, {'neg': 0.0, 'neu': 1.0, 'pos': 0.0, 'compound': 0.0}, {'neg': 0.0, 'neu': 1.0, 'pos': 0.0, 'compound': 0.0}, {'neg': 0.0, 'neu': 0.0, 'pos': 1.0, 'compound': 0.2732}, {'neg': 0.0, 'neu': 1.0, 'pos': 0.0, 'compound': 0.0}, {'neg': 1.0, 'neu': 0.0, 'pos': 0.0, 'compound': -0.4215}, {'neg': 0.0, 'neu': 1.0, 'pos': 0.0, 'compound': 0.0}, {'neg': 0.0, 'neu': 1.0, 'pos': 0.0, 'compound': 0.0}]\n",
       "Name: valencias, dtype: object"
      ]
     },
     "execution_count": 24,
     "metadata": {},
     "output_type": "execute_result"
    }
   ],
   "source": [
    "amazon_sample_3000['valencias'][1:2]"
   ]
  },
  {
   "cell_type": "markdown",
   "metadata": {},
   "source": [
    "## 4. Sumar la valencia \"compound\" de adjetivos en el review y con eso decidir si el review es positivo o negativo."
   ]
  },
  {
   "cell_type": "code",
   "execution_count": 25,
   "metadata": {},
   "outputs": [],
   "source": [
    "def sum_Valencia(fila):\n",
    "    \"\"\"\n",
    "    Parameters\n",
    "    ----------\n",
    "    fila : array\n",
    "        Arreglo de diccionarios con valencias\n",
    "    \"\"\"\n",
    "    aux = []\n",
    "    for dicc in fila:\n",
    "        aux.append(dicc['compound'])\n",
    "    return sum(aux)"
   ]
  },
  {
   "cell_type": "code",
   "execution_count": 26,
   "metadata": {},
   "outputs": [],
   "source": [
    "amazon_sample_3000['sum compound'] = amazon_sample_3000['valencias'].apply(lambda row: sum_Valencia(row))"
   ]
  },
  {
   "cell_type": "code",
   "execution_count": 27,
   "metadata": {},
   "outputs": [
    {
     "data": {
      "text/html": [
       "<div>\n",
       "<style scoped>\n",
       "    .dataframe tbody tr th:only-of-type {\n",
       "        vertical-align: middle;\n",
       "    }\n",
       "\n",
       "    .dataframe tbody tr th {\n",
       "        vertical-align: top;\n",
       "    }\n",
       "\n",
       "    .dataframe thead th {\n",
       "        text-align: right;\n",
       "    }\n",
       "</style>\n",
       "<table border=\"1\" class=\"dataframe\">\n",
       "  <thead>\n",
       "    <tr style=\"text-align: right;\">\n",
       "      <th></th>\n",
       "      <th>class index</th>\n",
       "      <th>title</th>\n",
       "      <th>text</th>\n",
       "      <th>text TokenTag</th>\n",
       "      <th>adjetives</th>\n",
       "      <th>valencias</th>\n",
       "      <th>sum compound</th>\n",
       "    </tr>\n",
       "  </thead>\n",
       "  <tbody>\n",
       "    <tr>\n",
       "      <th>0</th>\n",
       "      <td>2</td>\n",
       "      <td>Promises to Keep</td>\n",
       "      <td>I was disappointed in the condition of this book. It has mildew on the pages and has been wet at some point.</td>\n",
       "      <td>[(I, PRP), (was, VBD), (disappointed, VBN), (in, IN), (the, DT), (condition, NN), (of, IN), (this, DT), (book, NN), (It, PRP), (has, VBZ), (mildew, VBN), (on, IN), (the, DT), (pages, NNS), (and, CC), (has, VBZ), (been, VBN), (wet, VBN), (at, IN), (some, DT), (point, NN)]</td>\n",
       "      <td>[Review no tiene adjetivos]</td>\n",
       "      <td>[{'neg': 0.0, 'neu': 0.0, 'pos': 0.0, 'compound': 0.0}]</td>\n",
       "      <td>0.0000</td>\n",
       "    </tr>\n",
       "    <tr>\n",
       "      <th>1</th>\n",
       "      <td>3</td>\n",
       "      <td>limp software</td>\n",
       "      <td>Conveniences:Exporting maps to PDA.It's there when the internet goes down.Inconveniences:Major roads are often only listed at SR-23423 or some other technical name. While this might be cartologically indisputable, the rest of the world, including businesses, street signs, and locals use something called \"street names\", like \"Lawrenceville Hwy\" or \"Apple Avenue\" or whatever. This renders the program unusable in certain circumstances. Thus, I find myself constantly using yahoo and google to find addresses in Atlanta.I don't know if the 2007 ver has updated anything about New York City, but e...</td>\n",
       "      <td>[(Conveniences, NNS), (Exporting, VBG), (maps, NNS), (to, TO), (PDA, VB), (It, PRP), (s, PRP), (there, RB), (when, WRB), (the, DT), (internet, NN), (goes, VBZ), (down, RB), (Inconveniences, NNP), (Major, NNP), (roads, NNS), (are, VBP), (often, RB), (only, RB), (listed, VBN), (at, IN), (SR, NNP), (23423, CD), (or, CC), (some, DT), (other, JJ), (technical, JJ), (name, NN), (While, IN), (this, DT), (might, MD), (be, VB), (cartologically, RB), (indisputable, JJ), (the, DT), (rest, NN), (of, IN), (the, DT), (world, NN), (including, VBG), (businesses, NNS), (street, NN), (signs, NNS), (and, CC),...</td>\n",
       "      <td>[(other, JJ), (technical, JJ), (indisputable, JJ), (unusable, JJ), (certain, JJ), (downright, JJ), (useless, JJ), (reasonable, JJ), (local, JJ)]</td>\n",
       "      <td>[{'neg': 0.0, 'neu': 1.0, 'pos': 0.0, 'compound': 0.0}, {'neg': 0.0, 'neu': 1.0, 'pos': 0.0, 'compound': 0.0}, {'neg': 0.0, 'neu': 1.0, 'pos': 0.0, 'compound': 0.0}, {'neg': 0.0, 'neu': 1.0, 'pos': 0.0, 'compound': 0.0}, {'neg': 0.0, 'neu': 0.0, 'pos': 1.0, 'compound': 0.2732}, {'neg': 0.0, 'neu': 1.0, 'pos': 0.0, 'compound': 0.0}, {'neg': 1.0, 'neu': 0.0, 'pos': 0.0, 'compound': -0.4215}, {'neg': 0.0, 'neu': 1.0, 'pos': 0.0, 'compound': 0.0}, {'neg': 0.0, 'neu': 1.0, 'pos': 0.0, 'compound': 0.0}]</td>\n",
       "      <td>-0.1483</td>\n",
       "    </tr>\n",
       "    <tr>\n",
       "      <th>2</th>\n",
       "      <td>5</td>\n",
       "      <td>Love it</td>\n",
       "      <td>For the price, its unbelievable. I usually have it on low so its not too noisy, but high isn't that noisy either. Kinda wish it had a medium setting but all in all VERY satisfied.</td>\n",
       "      <td>[(For, IN), (the, DT), (price, NN), (its, PRP$), (unbelievable, JJ), (I, PRP), (usually, RB), (have, VBP), (it, PRP), (on, IN), (low, JJ), (so, RB), (its, PRP$), (not, RB), (too, RB), (noisy, JJ), (but, CC), (high, JJ), (isn, NN), (t, NN), (that, WDT), (noisy, VBZ), (either, CC), (Kinda, NNP), (wish, VB), (it, PRP), (had, VBD), (a, DT), (medium, NN), (setting, VBG), (but, CC), (all, DT), (in, IN), (all, DT), (VERY, NNP), (satisfied, VBD)]</td>\n",
       "      <td>[(unbelievable, JJ), (low, JJ), (noisy, JJ), (high, JJ)]</td>\n",
       "      <td>[{'neg': 0.0, 'neu': 0.0, 'pos': 1.0, 'compound': 0.2023}, {'neg': 1.0, 'neu': 0.0, 'pos': 0.0, 'compound': -0.2732}, {'neg': 1.0, 'neu': 0.0, 'pos': 0.0, 'compound': -0.1779}, {'neg': 0.0, 'neu': 1.0, 'pos': 0.0, 'compound': 0.0}]</td>\n",
       "      <td>-0.2488</td>\n",
       "    </tr>\n",
       "    <tr>\n",
       "      <th>3</th>\n",
       "      <td>1</td>\n",
       "      <td>Walk the halls?</td>\n",
       "      <td>I was very disappointed when I read this book. I was hoping to read cutting-edge research on leadership supported by personal experiences. However, what I got was a book full of personal anecdotes. Do I really need to pay someone $25 to tell me to build a rapport with my teachers and students? Walk the halls? Isn't that just common sense? Waste of time and money</td>\n",
       "      <td>[(I, PRP), (was, VBD), (very, RB), (disappointed, JJ), (when, WRB), (I, PRP), (read, VBP), (this, DT), (book, NN), (I, PRP), (was, VBD), (hoping, VBG), (to, TO), (read, VB), (cutting, VBG), (edge, JJ), (research, NN), (on, IN), (leadership, NN), (supported, VBN), (by, IN), (personal, JJ), (experiences, NNS), (However, RB), (what, WP), (I, PRP), (got, VBD), (was, VBD), (a, DT), (book, NN), (full, JJ), (of, IN), (personal, JJ), (anecdotes, NNS), (Do, VBP), (I, PRP), (really, RB), (need, VBP), (to, TO), (pay, VB), (someone, NN), (25, CD), (to, TO), (tell, VB), (me, PRP), (to, TO), (build, VB)...</td>\n",
       "      <td>[(disappointed, JJ), (edge, JJ), (personal, JJ), (full, JJ), (personal, JJ), (common, JJ)]</td>\n",
       "      <td>[{'neg': 1.0, 'neu': 0.0, 'pos': 0.0, 'compound': -0.4767}, {'neg': 0.0, 'neu': 1.0, 'pos': 0.0, 'compound': 0.0}, {'neg': 0.0, 'neu': 1.0, 'pos': 0.0, 'compound': 0.0}, {'neg': 0.0, 'neu': 1.0, 'pos': 0.0, 'compound': 0.0}, {'neg': 0.0, 'neu': 1.0, 'pos': 0.0, 'compound': 0.0}, {'neg': 0.0, 'neu': 1.0, 'pos': 0.0, 'compound': 0.0}]</td>\n",
       "      <td>-0.4767</td>\n",
       "    </tr>\n",
       "    <tr>\n",
       "      <th>4</th>\n",
       "      <td>3</td>\n",
       "      <td>beware</td>\n",
       "      <td>This album is OK if you like jazzy, 60's, very perky lounge group-vocals like Lambert, Hendricks and Ross and the groups one used to hear on 60's TV variety shows, but it is very definately not like the Salvador of \"Chambre avec Vue.\"</td>\n",
       "      <td>[(This, DT), (album, NN), (is, VBZ), (OK, JJ), (if, IN), (you, PRP), (like, VBP), (jazzy, JJ), (60, CD), (s, JJ), (very, RB), (perky, JJ), (lounge, NN), (group, NN), (vocals, NNS), (like, IN), (Lambert, NNP), (Hendricks, NNP), (and, CC), (Ross, NNP), (and, CC), (the, DT), (groups, NNS), (one, CD), (used, VBN), (to, TO), (hear, VB), (on, IN), (60, CD), (s, JJ), (TV, NN), (variety, NN), (shows, NNS), (but, CC), (it, PRP), (is, VBZ), (very, RB), (definately, RB), (not, RB), (like, IN), (the, DT), (Salvador, NNP), (of, IN), (Chambre, NNP), (avec, FW), (Vue, NNP)]</td>\n",
       "      <td>[(OK, JJ), (jazzy, JJ), (s, JJ), (perky, JJ), (s, JJ)]</td>\n",
       "      <td>[{'neg': 0.0, 'neu': 0.0, 'pos': 1.0, 'compound': 0.296}, {'neg': 0.0, 'neu': 1.0, 'pos': 0.0, 'compound': 0.0}, {'neg': 0.0, 'neu': 0.0, 'pos': 0.0, 'compound': 0.0}, {'neg': 0.0, 'neu': 1.0, 'pos': 0.0, 'compound': 0.0}, {'neg': 0.0, 'neu': 0.0, 'pos': 0.0, 'compound': 0.0}]</td>\n",
       "      <td>0.2960</td>\n",
       "    </tr>\n",
       "    <tr>\n",
       "      <th>5</th>\n",
       "      <td>5</td>\n",
       "      <td>Lock, stock, and great</td>\n",
       "      <td>\"Lock, Stock, and Two Smoking Barrels\" is a British crime-fiction film and is a breakout offering by Director Guy Ritchie.The narrative is cleverly constructed and whilst groups of protagonists at first appear to standalone their interaction creates a fantastic series of events.The film contains a terrific cast and many of whom have become very well known since this work such as: Jason Flemyng (as Tom), Dexter Fletcher (plays Soap), Nick Moran (is Eddy), and Jason Statham (plays Bacon).It is quite a treat for viewers as the diversity of the story with its many turns and twists is absorbing...</td>\n",
       "      <td>[(Lock, NNP), (Stock, NNP), (and, CC), (Two, CD), (Smoking, NNP), (Barrels, NNP), (is, VBZ), (a, DT), (British, JJ), (crime, NN), (fiction, NN), (film, NN), (and, CC), (is, VBZ), (a, DT), (breakout, NN), (offering, NN), (by, IN), (Director, NNP), (Guy, NNP), (Ritchie, NNP), (The, DT), (narrative, JJ), (is, VBZ), (cleverly, RB), (constructed, VBN), (and, CC), (whilst, JJ), (groups, NNS), (of, IN), (protagonists, NNS), (at, IN), (first, JJ), (appear, VBP), (to, TO), (standalone, VB), (their, PRP$), (interaction, NN), (creates, VBZ), (a, DT), (fantastic, JJ), (series, NN), (of, IN), (events, ...</td>\n",
       "      <td>[(British, JJ), (narrative, JJ), (whilst, JJ), (first, JJ), (fantastic, JJ), (terrific, JJ), (many, JJ), (such, JJ), (many, JJ), (Australian, JJ)]</td>\n",
       "      <td>[{'neg': 0.0, 'neu': 1.0, 'pos': 0.0, 'compound': 0.0}, {'neg': 0.0, 'neu': 1.0, 'pos': 0.0, 'compound': 0.0}, {'neg': 0.0, 'neu': 1.0, 'pos': 0.0, 'compound': 0.0}, {'neg': 0.0, 'neu': 1.0, 'pos': 0.0, 'compound': 0.0}, {'neg': 0.0, 'neu': 0.0, 'pos': 1.0, 'compound': 0.5574}, {'neg': 0.0, 'neu': 0.0, 'pos': 1.0, 'compound': 0.4767}, {'neg': 0.0, 'neu': 1.0, 'pos': 0.0, 'compound': 0.0}, {'neg': 0.0, 'neu': 1.0, 'pos': 0.0, 'compound': 0.0}, {'neg': 0.0, 'neu': 1.0, 'pos': 0.0, 'compound': 0.0}, {'neg': 0.0, 'neu': 1.0, 'pos': 0.0, 'compound': 0.0}]</td>\n",
       "      <td>1.0341</td>\n",
       "    </tr>\n",
       "    <tr>\n",
       "      <th>6</th>\n",
       "      <td>5</td>\n",
       "      <td>The King and the Corpse</td>\n",
       "      <td>I usually don't read mythology books straight through, rather use them as reference. As such this book is easy to use. With Joseph Campbell as the editor I feel assured that it is a good rendition of the myths. I found it relevant to specific images I wanted to learn about. Excellent addition to my \"images\" library.</td>\n",
       "      <td>[(I, PRP), (usually, RB), (don, VBP), (t, JJ), (read, VBP), (mythology, NN), (books, NNS), (straight, VBD), (through, IN), (rather, RB), (use, VB), (them, PRP), (as, IN), (reference, NN), (As, IN), (such, JJ), (this, DT), (book, NN), (is, VBZ), (easy, JJ), (to, TO), (use, VB), (With, IN), (Joseph, NNP), (Campbell, NNP), (as, IN), (the, DT), (editor, NN), (I, PRP), (feel, VBP), (assured, VBD), (that, IN), (it, PRP), (is, VBZ), (a, DT), (good, JJ), (rendition, NN), (of, IN), (the, DT), (myths, NNS), (I, PRP), (found, VBD), (it, PRP), (relevant, JJ), (to, TO), (specific, JJ), (images, NNS), (...</td>\n",
       "      <td>[(t, JJ), (such, JJ), (easy, JJ), (good, JJ), (relevant, JJ), (specific, JJ), (Excellent, JJ)]</td>\n",
       "      <td>[{'neg': 0.0, 'neu': 0.0, 'pos': 0.0, 'compound': 0.0}, {'neg': 0.0, 'neu': 1.0, 'pos': 0.0, 'compound': 0.0}, {'neg': 0.0, 'neu': 0.0, 'pos': 1.0, 'compound': 0.4404}, {'neg': 0.0, 'neu': 0.0, 'pos': 1.0, 'compound': 0.4404}, {'neg': 0.0, 'neu': 1.0, 'pos': 0.0, 'compound': 0.0}, {'neg': 0.0, 'neu': 1.0, 'pos': 0.0, 'compound': 0.0}, {'neg': 0.0, 'neu': 0.0, 'pos': 1.0, 'compound': 0.5719}]</td>\n",
       "      <td>1.4527</td>\n",
       "    </tr>\n",
       "    <tr>\n",
       "      <th>7</th>\n",
       "      <td>2</td>\n",
       "      <td>blitz jewelry cleaner</td>\n",
       "      <td>the cleaner works fine but the jar it comes in is not well made and it is difficult to open and close. It makes a mess every time I use it. The last jar I had was made from better material, but this is just junk!!! I will not purchase this item again.</td>\n",
       "      <td>[(the, DT), (cleaner, NN), (works, VBZ), (fine, JJ), (but, CC), (the, DT), (jar, NN), (it, PRP), (comes, VBZ), (in, IN), (is, VBZ), (not, RB), (well, RB), (made, VBN), (and, CC), (it, PRP), (is, VBZ), (difficult, JJ), (to, TO), (open, VB), (and, CC), (close, VB), (It, PRP), (makes, VBZ), (a, DT), (mess, NN), (every, DT), (time, NN), (I, PRP), (use, VBP), (it, PRP), (The, DT), (last, JJ), (jar, NN), (I, PRP), (had, VBD), (was, VBD), (made, VBN), (from, IN), (better, JJR), (material, NN), (but, CC), (this, DT), (is, VBZ), (just, RB), (junk, NN), (I, PRP), (will, MD), (not, RB), (purchase, VB...</td>\n",
       "      <td>[(fine, JJ), (difficult, JJ), (last, JJ)]</td>\n",
       "      <td>[{'neg': 0.0, 'neu': 0.0, 'pos': 1.0, 'compound': 0.2023}, {'neg': 1.0, 'neu': 0.0, 'pos': 0.0, 'compound': -0.3612}, {'neg': 0.0, 'neu': 1.0, 'pos': 0.0, 'compound': 0.0}]</td>\n",
       "      <td>-0.1589</td>\n",
       "    </tr>\n",
       "    <tr>\n",
       "      <th>8</th>\n",
       "      <td>1</td>\n",
       "      <td>???</td>\n",
       "      <td>The book was great but the movie was quite disappointing. Really glad I read the book first. Maybe I just expected too much. Really tired of good books being made into poor movies. Another example is Eragon. Highly recommend the book but not the movie.</td>\n",
       "      <td>[(The, DT), (book, NN), (was, VBD), (great, JJ), (but, CC), (the, DT), (movie, NN), (was, VBD), (quite, RB), (disappointing, JJ), (Really, RB), (glad, JJ), (I, PRP), (read, VBP), (the, DT), (book, NN), (first, RB), (Maybe, RB), (I, PRP), (just, RB), (expected, VBD), (too, RB), (much, JJ), (Really, RB), (tired, VBN), (of, IN), (good, JJ), (books, NNS), (being, VBG), (made, VBN), (into, IN), (poor, JJ), (movies, NNS), (Another, DT), (example, NN), (is, VBZ), (Eragon, NNP), (Highly, NNP), (recommend, VBP), (the, DT), (book, NN), (but, CC), (not, RB), (the, DT), (movie, NN)]</td>\n",
       "      <td>[(great, JJ), (disappointing, JJ), (glad, JJ), (much, JJ), (good, JJ), (poor, JJ)]</td>\n",
       "      <td>[{'neg': 0.0, 'neu': 0.0, 'pos': 1.0, 'compound': 0.6249}, {'neg': 1.0, 'neu': 0.0, 'pos': 0.0, 'compound': -0.4939}, {'neg': 0.0, 'neu': 0.0, 'pos': 1.0, 'compound': 0.4588}, {'neg': 0.0, 'neu': 1.0, 'pos': 0.0, 'compound': 0.0}, {'neg': 0.0, 'neu': 0.0, 'pos': 1.0, 'compound': 0.4404}, {'neg': 1.0, 'neu': 0.0, 'pos': 0.0, 'compound': -0.4767}]</td>\n",
       "      <td>0.5535</td>\n",
       "    </tr>\n",
       "    <tr>\n",
       "      <th>9</th>\n",
       "      <td>2</td>\n",
       "      <td>I was suprised that the songs from key moments were gone.</td>\n",
       "      <td>I really was suprised that my favorite songs from the key moments of the show were missing. Like \"Kiss the rain\" by Billie Myers when Dawson and Joey make up, and \"Say goodnight\" by Beth Neilsen Chapman at the end of season 1 when Dawson and Joey kiss. Overall I had not heard of 80% of the songs on the cd. Even though I am a hardcore show fanatic, I opted not to buy the so-called \"soundtrack\" Scott Engle, 14 Belleville, KS</td>\n",
       "      <td>[(I, PRP), (really, RB), (was, VBD), (suprised, VBN), (that, IN), (my, PRP$), (favorite, JJ), (songs, NNS), (from, IN), (the, DT), (key, JJ), (moments, NNS), (of, IN), (the, DT), (show, NN), (were, VBD), (missing, VBG), (Like, IN), (Kiss, NNP), (the, DT), (rain, NN), (by, IN), (Billie, NNP), (Myers, NNP), (when, WRB), (Dawson, NNP), (and, CC), (Joey, NNP), (make, VBP), (up, RP), (and, CC), (Say, NNP), (goodnight, NN), (by, IN), (Beth, NNP), (Neilsen, NNP), (Chapman, NNP), (at, IN), (the, DT), (end, NN), (of, IN), (season, NN), (1, CD), (when, WRB), (Dawson, NNP), (and, CC), (Joey, NNP), (k...</td>\n",
       "      <td>[(favorite, JJ), (key, JJ), (Overall, JJ), (fanatic, JJ), (called, JJ)]</td>\n",
       "      <td>[{'neg': 0.0, 'neu': 0.0, 'pos': 1.0, 'compound': 0.4588}, {'neg': 0.0, 'neu': 1.0, 'pos': 0.0, 'compound': 0.0}, {'neg': 0.0, 'neu': 1.0, 'pos': 0.0, 'compound': 0.0}, {'neg': 0.0, 'neu': 1.0, 'pos': 0.0, 'compound': 0.0}, {'neg': 0.0, 'neu': 1.0, 'pos': 0.0, 'compound': 0.0}]</td>\n",
       "      <td>0.4588</td>\n",
       "    </tr>\n",
       "  </tbody>\n",
       "</table>\n",
       "</div>"
      ],
      "text/plain": [
       "   class index                                                      title  \\\n",
       "0            2                                           Promises to Keep   \n",
       "1            3                                              limp software   \n",
       "2            5                                                    Love it   \n",
       "3            1                                            Walk the halls?   \n",
       "4            3                                                     beware   \n",
       "5            5                                     Lock, stock, and great   \n",
       "6            5                                    The King and the Corpse   \n",
       "7            2                                      blitz jewelry cleaner   \n",
       "8            1                                                        ???   \n",
       "9            2  I was suprised that the songs from key moments were gone.   \n",
       "\n",
       "                                                                                                                                                                                                                                                                                                                                                                                                                                                                                                                                                                                                                      text  \\\n",
       "0                                                                                                                                                                                                                                                                                                                                                                                                                                                                                                             I was disappointed in the condition of this book. It has mildew on the pages and has been wet at some point.   \n",
       "1  Conveniences:Exporting maps to PDA.It's there when the internet goes down.Inconveniences:Major roads are often only listed at SR-23423 or some other technical name. While this might be cartologically indisputable, the rest of the world, including businesses, street signs, and locals use something called \"street names\", like \"Lawrenceville Hwy\" or \"Apple Avenue\" or whatever. This renders the program unusable in certain circumstances. Thus, I find myself constantly using yahoo and google to find addresses in Atlanta.I don't know if the 2007 ver has updated anything about New York City, but e...   \n",
       "2                                                                                                                                                                                                                                                                                                                                                                                                                                      For the price, its unbelievable. I usually have it on low so its not too noisy, but high isn't that noisy either. Kinda wish it had a medium setting but all in all VERY satisfied.   \n",
       "3                                                                                                                                                                                                                                             I was very disappointed when I read this book. I was hoping to read cutting-edge research on leadership supported by personal experiences. However, what I got was a book full of personal anecdotes. Do I really need to pay someone $25 to tell me to build a rapport with my teachers and students? Walk the halls? Isn't that just common sense? Waste of time and money   \n",
       "4                                                                                                                                                                                                                                                                                                                                                                               This album is OK if you like jazzy, 60's, very perky lounge group-vocals like Lambert, Hendricks and Ross and the groups one used to hear on 60's TV variety shows, but it is very definately not like the Salvador of \"Chambre avec Vue.\"   \n",
       "5  \"Lock, Stock, and Two Smoking Barrels\" is a British crime-fiction film and is a breakout offering by Director Guy Ritchie.The narrative is cleverly constructed and whilst groups of protagonists at first appear to standalone their interaction creates a fantastic series of events.The film contains a terrific cast and many of whom have become very well known since this work such as: Jason Flemyng (as Tom), Dexter Fletcher (plays Soap), Nick Moran (is Eddy), and Jason Statham (plays Bacon).It is quite a treat for viewers as the diversity of the story with its many turns and twists is absorbing...   \n",
       "6                                                                                                                                                                                                                                                                                            I usually don't read mythology books straight through, rather use them as reference. As such this book is easy to use. With Joseph Campbell as the editor I feel assured that it is a good rendition of the myths. I found it relevant to specific images I wanted to learn about. Excellent addition to my \"images\" library.   \n",
       "7                                                                                                                                                                                                                                                                                                                                                              the cleaner works fine but the jar it comes in is not well made and it is difficult to open and close. It makes a mess every time I use it. The last jar I had was made from better material, but this is just junk!!! I will not purchase this item again.   \n",
       "8                                                                                                                                                                                                                                                                                                                                                             The book was great but the movie was quite disappointing. Really glad I read the book first. Maybe I just expected too much. Really tired of good books being made into poor movies. Another example is Eragon. Highly recommend the book but not the movie.   \n",
       "9                                                                                                                                                                               I really was suprised that my favorite songs from the key moments of the show were missing. Like \"Kiss the rain\" by Billie Myers when Dawson and Joey make up, and \"Say goodnight\" by Beth Neilsen Chapman at the end of season 1 when Dawson and Joey kiss. Overall I had not heard of 80% of the songs on the cd. Even though I am a hardcore show fanatic, I opted not to buy the so-called \"soundtrack\" Scott Engle, 14 Belleville, KS   \n",
       "\n",
       "                                                                                                                                                                                                                                                                                                                                                                                                                                                                                                                                                                                                             text TokenTag  \\\n",
       "0                                                                                                                                                                                                                                                                                                                                          [(I, PRP), (was, VBD), (disappointed, VBN), (in, IN), (the, DT), (condition, NN), (of, IN), (this, DT), (book, NN), (It, PRP), (has, VBZ), (mildew, VBN), (on, IN), (the, DT), (pages, NNS), (and, CC), (has, VBZ), (been, VBN), (wet, VBN), (at, IN), (some, DT), (point, NN)]   \n",
       "1  [(Conveniences, NNS), (Exporting, VBG), (maps, NNS), (to, TO), (PDA, VB), (It, PRP), (s, PRP), (there, RB), (when, WRB), (the, DT), (internet, NN), (goes, VBZ), (down, RB), (Inconveniences, NNP), (Major, NNP), (roads, NNS), (are, VBP), (often, RB), (only, RB), (listed, VBN), (at, IN), (SR, NNP), (23423, CD), (or, CC), (some, DT), (other, JJ), (technical, JJ), (name, NN), (While, IN), (this, DT), (might, MD), (be, VB), (cartologically, RB), (indisputable, JJ), (the, DT), (rest, NN), (of, IN), (the, DT), (world, NN), (including, VBG), (businesses, NNS), (street, NN), (signs, NNS), (and, CC),...   \n",
       "2                                                                                                                                                               [(For, IN), (the, DT), (price, NN), (its, PRP$), (unbelievable, JJ), (I, PRP), (usually, RB), (have, VBP), (it, PRP), (on, IN), (low, JJ), (so, RB), (its, PRP$), (not, RB), (too, RB), (noisy, JJ), (but, CC), (high, JJ), (isn, NN), (t, NN), (that, WDT), (noisy, VBZ), (either, CC), (Kinda, NNP), (wish, VB), (it, PRP), (had, VBD), (a, DT), (medium, NN), (setting, VBG), (but, CC), (all, DT), (in, IN), (all, DT), (VERY, NNP), (satisfied, VBD)]   \n",
       "3  [(I, PRP), (was, VBD), (very, RB), (disappointed, JJ), (when, WRB), (I, PRP), (read, VBP), (this, DT), (book, NN), (I, PRP), (was, VBD), (hoping, VBG), (to, TO), (read, VB), (cutting, VBG), (edge, JJ), (research, NN), (on, IN), (leadership, NN), (supported, VBN), (by, IN), (personal, JJ), (experiences, NNS), (However, RB), (what, WP), (I, PRP), (got, VBD), (was, VBD), (a, DT), (book, NN), (full, JJ), (of, IN), (personal, JJ), (anecdotes, NNS), (Do, VBP), (I, PRP), (really, RB), (need, VBP), (to, TO), (pay, VB), (someone, NN), (25, CD), (to, TO), (tell, VB), (me, PRP), (to, TO), (build, VB)...   \n",
       "4                                    [(This, DT), (album, NN), (is, VBZ), (OK, JJ), (if, IN), (you, PRP), (like, VBP), (jazzy, JJ), (60, CD), (s, JJ), (very, RB), (perky, JJ), (lounge, NN), (group, NN), (vocals, NNS), (like, IN), (Lambert, NNP), (Hendricks, NNP), (and, CC), (Ross, NNP), (and, CC), (the, DT), (groups, NNS), (one, CD), (used, VBN), (to, TO), (hear, VB), (on, IN), (60, CD), (s, JJ), (TV, NN), (variety, NN), (shows, NNS), (but, CC), (it, PRP), (is, VBZ), (very, RB), (definately, RB), (not, RB), (like, IN), (the, DT), (Salvador, NNP), (of, IN), (Chambre, NNP), (avec, FW), (Vue, NNP)]   \n",
       "5  [(Lock, NNP), (Stock, NNP), (and, CC), (Two, CD), (Smoking, NNP), (Barrels, NNP), (is, VBZ), (a, DT), (British, JJ), (crime, NN), (fiction, NN), (film, NN), (and, CC), (is, VBZ), (a, DT), (breakout, NN), (offering, NN), (by, IN), (Director, NNP), (Guy, NNP), (Ritchie, NNP), (The, DT), (narrative, JJ), (is, VBZ), (cleverly, RB), (constructed, VBN), (and, CC), (whilst, JJ), (groups, NNS), (of, IN), (protagonists, NNS), (at, IN), (first, JJ), (appear, VBP), (to, TO), (standalone, VB), (their, PRP$), (interaction, NN), (creates, VBZ), (a, DT), (fantastic, JJ), (series, NN), (of, IN), (events, ...   \n",
       "6  [(I, PRP), (usually, RB), (don, VBP), (t, JJ), (read, VBP), (mythology, NN), (books, NNS), (straight, VBD), (through, IN), (rather, RB), (use, VB), (them, PRP), (as, IN), (reference, NN), (As, IN), (such, JJ), (this, DT), (book, NN), (is, VBZ), (easy, JJ), (to, TO), (use, VB), (With, IN), (Joseph, NNP), (Campbell, NNP), (as, IN), (the, DT), (editor, NN), (I, PRP), (feel, VBP), (assured, VBD), (that, IN), (it, PRP), (is, VBZ), (a, DT), (good, JJ), (rendition, NN), (of, IN), (the, DT), (myths, NNS), (I, PRP), (found, VBD), (it, PRP), (relevant, JJ), (to, TO), (specific, JJ), (images, NNS), (...   \n",
       "7  [(the, DT), (cleaner, NN), (works, VBZ), (fine, JJ), (but, CC), (the, DT), (jar, NN), (it, PRP), (comes, VBZ), (in, IN), (is, VBZ), (not, RB), (well, RB), (made, VBN), (and, CC), (it, PRP), (is, VBZ), (difficult, JJ), (to, TO), (open, VB), (and, CC), (close, VB), (It, PRP), (makes, VBZ), (a, DT), (mess, NN), (every, DT), (time, NN), (I, PRP), (use, VBP), (it, PRP), (The, DT), (last, JJ), (jar, NN), (I, PRP), (had, VBD), (was, VBD), (made, VBN), (from, IN), (better, JJR), (material, NN), (but, CC), (this, DT), (is, VBZ), (just, RB), (junk, NN), (I, PRP), (will, MD), (not, RB), (purchase, VB...   \n",
       "8                        [(The, DT), (book, NN), (was, VBD), (great, JJ), (but, CC), (the, DT), (movie, NN), (was, VBD), (quite, RB), (disappointing, JJ), (Really, RB), (glad, JJ), (I, PRP), (read, VBP), (the, DT), (book, NN), (first, RB), (Maybe, RB), (I, PRP), (just, RB), (expected, VBD), (too, RB), (much, JJ), (Really, RB), (tired, VBN), (of, IN), (good, JJ), (books, NNS), (being, VBG), (made, VBN), (into, IN), (poor, JJ), (movies, NNS), (Another, DT), (example, NN), (is, VBZ), (Eragon, NNP), (Highly, NNP), (recommend, VBP), (the, DT), (book, NN), (but, CC), (not, RB), (the, DT), (movie, NN)]   \n",
       "9  [(I, PRP), (really, RB), (was, VBD), (suprised, VBN), (that, IN), (my, PRP$), (favorite, JJ), (songs, NNS), (from, IN), (the, DT), (key, JJ), (moments, NNS), (of, IN), (the, DT), (show, NN), (were, VBD), (missing, VBG), (Like, IN), (Kiss, NNP), (the, DT), (rain, NN), (by, IN), (Billie, NNP), (Myers, NNP), (when, WRB), (Dawson, NNP), (and, CC), (Joey, NNP), (make, VBP), (up, RP), (and, CC), (Say, NNP), (goodnight, NN), (by, IN), (Beth, NNP), (Neilsen, NNP), (Chapman, NNP), (at, IN), (the, DT), (end, NN), (of, IN), (season, NN), (1, CD), (when, WRB), (Dawson, NNP), (and, CC), (Joey, NNP), (k...   \n",
       "\n",
       "                                                                                                                                            adjetives  \\\n",
       "0                                                                                                                         [Review no tiene adjetivos]   \n",
       "1    [(other, JJ), (technical, JJ), (indisputable, JJ), (unusable, JJ), (certain, JJ), (downright, JJ), (useless, JJ), (reasonable, JJ), (local, JJ)]   \n",
       "2                                                                                            [(unbelievable, JJ), (low, JJ), (noisy, JJ), (high, JJ)]   \n",
       "3                                                          [(disappointed, JJ), (edge, JJ), (personal, JJ), (full, JJ), (personal, JJ), (common, JJ)]   \n",
       "4                                                                                              [(OK, JJ), (jazzy, JJ), (s, JJ), (perky, JJ), (s, JJ)]   \n",
       "5  [(British, JJ), (narrative, JJ), (whilst, JJ), (first, JJ), (fantastic, JJ), (terrific, JJ), (many, JJ), (such, JJ), (many, JJ), (Australian, JJ)]   \n",
       "6                                                      [(t, JJ), (such, JJ), (easy, JJ), (good, JJ), (relevant, JJ), (specific, JJ), (Excellent, JJ)]   \n",
       "7                                                                                                           [(fine, JJ), (difficult, JJ), (last, JJ)]   \n",
       "8                                                                  [(great, JJ), (disappointing, JJ), (glad, JJ), (much, JJ), (good, JJ), (poor, JJ)]   \n",
       "9                                                                             [(favorite, JJ), (key, JJ), (Overall, JJ), (fanatic, JJ), (called, JJ)]   \n",
       "\n",
       "                                                                                                                                                                                                                                                                                                                                                                                                                                                                                                                                                                      valencias  \\\n",
       "0                                                                                                                                                                                                                                                                                                                                                                                                                                                                                                                       [{'neg': 0.0, 'neu': 0.0, 'pos': 0.0, 'compound': 0.0}]   \n",
       "1                                                        [{'neg': 0.0, 'neu': 1.0, 'pos': 0.0, 'compound': 0.0}, {'neg': 0.0, 'neu': 1.0, 'pos': 0.0, 'compound': 0.0}, {'neg': 0.0, 'neu': 1.0, 'pos': 0.0, 'compound': 0.0}, {'neg': 0.0, 'neu': 1.0, 'pos': 0.0, 'compound': 0.0}, {'neg': 0.0, 'neu': 0.0, 'pos': 1.0, 'compound': 0.2732}, {'neg': 0.0, 'neu': 1.0, 'pos': 0.0, 'compound': 0.0}, {'neg': 1.0, 'neu': 0.0, 'pos': 0.0, 'compound': -0.4215}, {'neg': 0.0, 'neu': 1.0, 'pos': 0.0, 'compound': 0.0}, {'neg': 0.0, 'neu': 1.0, 'pos': 0.0, 'compound': 0.0}]   \n",
       "2                                                                                                                                                                                                                                                                                                                                       [{'neg': 0.0, 'neu': 0.0, 'pos': 1.0, 'compound': 0.2023}, {'neg': 1.0, 'neu': 0.0, 'pos': 0.0, 'compound': -0.2732}, {'neg': 1.0, 'neu': 0.0, 'pos': 0.0, 'compound': -0.1779}, {'neg': 0.0, 'neu': 1.0, 'pos': 0.0, 'compound': 0.0}]   \n",
       "3                                                                                                                                                                                                                                [{'neg': 1.0, 'neu': 0.0, 'pos': 0.0, 'compound': -0.4767}, {'neg': 0.0, 'neu': 1.0, 'pos': 0.0, 'compound': 0.0}, {'neg': 0.0, 'neu': 1.0, 'pos': 0.0, 'compound': 0.0}, {'neg': 0.0, 'neu': 1.0, 'pos': 0.0, 'compound': 0.0}, {'neg': 0.0, 'neu': 1.0, 'pos': 0.0, 'compound': 0.0}, {'neg': 0.0, 'neu': 1.0, 'pos': 0.0, 'compound': 0.0}]   \n",
       "4                                                                                                                                                                                                                                                                                         [{'neg': 0.0, 'neu': 0.0, 'pos': 1.0, 'compound': 0.296}, {'neg': 0.0, 'neu': 1.0, 'pos': 0.0, 'compound': 0.0}, {'neg': 0.0, 'neu': 0.0, 'pos': 0.0, 'compound': 0.0}, {'neg': 0.0, 'neu': 1.0, 'pos': 0.0, 'compound': 0.0}, {'neg': 0.0, 'neu': 0.0, 'pos': 0.0, 'compound': 0.0}]   \n",
       "5  [{'neg': 0.0, 'neu': 1.0, 'pos': 0.0, 'compound': 0.0}, {'neg': 0.0, 'neu': 1.0, 'pos': 0.0, 'compound': 0.0}, {'neg': 0.0, 'neu': 1.0, 'pos': 0.0, 'compound': 0.0}, {'neg': 0.0, 'neu': 1.0, 'pos': 0.0, 'compound': 0.0}, {'neg': 0.0, 'neu': 0.0, 'pos': 1.0, 'compound': 0.5574}, {'neg': 0.0, 'neu': 0.0, 'pos': 1.0, 'compound': 0.4767}, {'neg': 0.0, 'neu': 1.0, 'pos': 0.0, 'compound': 0.0}, {'neg': 0.0, 'neu': 1.0, 'pos': 0.0, 'compound': 0.0}, {'neg': 0.0, 'neu': 1.0, 'pos': 0.0, 'compound': 0.0}, {'neg': 0.0, 'neu': 1.0, 'pos': 0.0, 'compound': 0.0}]   \n",
       "6                                                                                                                                                                    [{'neg': 0.0, 'neu': 0.0, 'pos': 0.0, 'compound': 0.0}, {'neg': 0.0, 'neu': 1.0, 'pos': 0.0, 'compound': 0.0}, {'neg': 0.0, 'neu': 0.0, 'pos': 1.0, 'compound': 0.4404}, {'neg': 0.0, 'neu': 0.0, 'pos': 1.0, 'compound': 0.4404}, {'neg': 0.0, 'neu': 1.0, 'pos': 0.0, 'compound': 0.0}, {'neg': 0.0, 'neu': 1.0, 'pos': 0.0, 'compound': 0.0}, {'neg': 0.0, 'neu': 0.0, 'pos': 1.0, 'compound': 0.5719}]   \n",
       "7                                                                                                                                                                                                                                                                                                                                                                                                  [{'neg': 0.0, 'neu': 0.0, 'pos': 1.0, 'compound': 0.2023}, {'neg': 1.0, 'neu': 0.0, 'pos': 0.0, 'compound': -0.3612}, {'neg': 0.0, 'neu': 1.0, 'pos': 0.0, 'compound': 0.0}]   \n",
       "8                                                                                                                                                                                                                   [{'neg': 0.0, 'neu': 0.0, 'pos': 1.0, 'compound': 0.6249}, {'neg': 1.0, 'neu': 0.0, 'pos': 0.0, 'compound': -0.4939}, {'neg': 0.0, 'neu': 0.0, 'pos': 1.0, 'compound': 0.4588}, {'neg': 0.0, 'neu': 1.0, 'pos': 0.0, 'compound': 0.0}, {'neg': 0.0, 'neu': 0.0, 'pos': 1.0, 'compound': 0.4404}, {'neg': 1.0, 'neu': 0.0, 'pos': 0.0, 'compound': -0.4767}]   \n",
       "9                                                                                                                                                                                                                                                                                        [{'neg': 0.0, 'neu': 0.0, 'pos': 1.0, 'compound': 0.4588}, {'neg': 0.0, 'neu': 1.0, 'pos': 0.0, 'compound': 0.0}, {'neg': 0.0, 'neu': 1.0, 'pos': 0.0, 'compound': 0.0}, {'neg': 0.0, 'neu': 1.0, 'pos': 0.0, 'compound': 0.0}, {'neg': 0.0, 'neu': 1.0, 'pos': 0.0, 'compound': 0.0}]   \n",
       "\n",
       "   sum compound  \n",
       "0        0.0000  \n",
       "1       -0.1483  \n",
       "2       -0.2488  \n",
       "3       -0.4767  \n",
       "4        0.2960  \n",
       "5        1.0341  \n",
       "6        1.4527  \n",
       "7       -0.1589  \n",
       "8        0.5535  \n",
       "9        0.4588  "
      ]
     },
     "execution_count": 27,
     "metadata": {},
     "output_type": "execute_result"
    }
   ],
   "source": [
    "amazon_sample_3000.head(10)"
   ]
  },
  {
   "cell_type": "markdown",
   "metadata": {},
   "source": [
    "## 4.1 Clasificación positivo/negativo"
   ]
  },
  {
   "cell_type": "markdown",
   "metadata": {},
   "source": [
    "Asignaremos un diccionario tomando en cuenta el criterio:\n",
    "\n",
    "- {__positivo__:1}\n",
    "- {__negativo__:0}"
   ]
  },
  {
   "cell_type": "code",
   "execution_count": 28,
   "metadata": {},
   "outputs": [],
   "source": [
    "amazon_sample_3000['class'] = np.where((amazon_sample_3000['sum compound'] > 0), {'Positivo':1}, {'Negativo':0})"
   ]
  },
  {
   "cell_type": "code",
   "execution_count": 29,
   "metadata": {},
   "outputs": [
    {
     "data": {
      "text/html": [
       "<div>\n",
       "<style scoped>\n",
       "    .dataframe tbody tr th:only-of-type {\n",
       "        vertical-align: middle;\n",
       "    }\n",
       "\n",
       "    .dataframe tbody tr th {\n",
       "        vertical-align: top;\n",
       "    }\n",
       "\n",
       "    .dataframe thead th {\n",
       "        text-align: right;\n",
       "    }\n",
       "</style>\n",
       "<table border=\"1\" class=\"dataframe\">\n",
       "  <thead>\n",
       "    <tr style=\"text-align: right;\">\n",
       "      <th></th>\n",
       "      <th>class index</th>\n",
       "      <th>title</th>\n",
       "      <th>text</th>\n",
       "      <th>text TokenTag</th>\n",
       "      <th>adjetives</th>\n",
       "      <th>valencias</th>\n",
       "      <th>sum compound</th>\n",
       "      <th>class</th>\n",
       "    </tr>\n",
       "  </thead>\n",
       "  <tbody>\n",
       "    <tr>\n",
       "      <th>0</th>\n",
       "      <td>2</td>\n",
       "      <td>Promises to Keep</td>\n",
       "      <td>I was disappointed in the condition of this book. It has mildew on the pages and has been wet at some point.</td>\n",
       "      <td>[(I, PRP), (was, VBD), (disappointed, VBN), (in, IN), (the, DT), (condition, NN), (of, IN), (this, DT), (book, NN), (It, PRP), (has, VBZ), (mildew, VBN), (on, IN), (the, DT), (pages, NNS), (and, CC), (has, VBZ), (been, VBN), (wet, VBN), (at, IN), (some, DT), (point, NN)]</td>\n",
       "      <td>[Review no tiene adjetivos]</td>\n",
       "      <td>[{'neg': 0.0, 'neu': 0.0, 'pos': 0.0, 'compound': 0.0}]</td>\n",
       "      <td>0.0000</td>\n",
       "      <td>{'Negativo': 0}</td>\n",
       "    </tr>\n",
       "    <tr>\n",
       "      <th>1</th>\n",
       "      <td>3</td>\n",
       "      <td>limp software</td>\n",
       "      <td>Conveniences:Exporting maps to PDA.It's there when the internet goes down.Inconveniences:Major roads are often only listed at SR-23423 or some other technical name. While this might be cartologically indisputable, the rest of the world, including businesses, street signs, and locals use something called \"street names\", like \"Lawrenceville Hwy\" or \"Apple Avenue\" or whatever. This renders the program unusable in certain circumstances. Thus, I find myself constantly using yahoo and google to find addresses in Atlanta.I don't know if the 2007 ver has updated anything about New York City, but e...</td>\n",
       "      <td>[(Conveniences, NNS), (Exporting, VBG), (maps, NNS), (to, TO), (PDA, VB), (It, PRP), (s, PRP), (there, RB), (when, WRB), (the, DT), (internet, NN), (goes, VBZ), (down, RB), (Inconveniences, NNP), (Major, NNP), (roads, NNS), (are, VBP), (often, RB), (only, RB), (listed, VBN), (at, IN), (SR, NNP), (23423, CD), (or, CC), (some, DT), (other, JJ), (technical, JJ), (name, NN), (While, IN), (this, DT), (might, MD), (be, VB), (cartologically, RB), (indisputable, JJ), (the, DT), (rest, NN), (of, IN), (the, DT), (world, NN), (including, VBG), (businesses, NNS), (street, NN), (signs, NNS), (and, CC),...</td>\n",
       "      <td>[(other, JJ), (technical, JJ), (indisputable, JJ), (unusable, JJ), (certain, JJ), (downright, JJ), (useless, JJ), (reasonable, JJ), (local, JJ)]</td>\n",
       "      <td>[{'neg': 0.0, 'neu': 1.0, 'pos': 0.0, 'compound': 0.0}, {'neg': 0.0, 'neu': 1.0, 'pos': 0.0, 'compound': 0.0}, {'neg': 0.0, 'neu': 1.0, 'pos': 0.0, 'compound': 0.0}, {'neg': 0.0, 'neu': 1.0, 'pos': 0.0, 'compound': 0.0}, {'neg': 0.0, 'neu': 0.0, 'pos': 1.0, 'compound': 0.2732}, {'neg': 0.0, 'neu': 1.0, 'pos': 0.0, 'compound': 0.0}, {'neg': 1.0, 'neu': 0.0, 'pos': 0.0, 'compound': -0.4215}, {'neg': 0.0, 'neu': 1.0, 'pos': 0.0, 'compound': 0.0}, {'neg': 0.0, 'neu': 1.0, 'pos': 0.0, 'compound': 0.0}]</td>\n",
       "      <td>-0.1483</td>\n",
       "      <td>{'Negativo': 0}</td>\n",
       "    </tr>\n",
       "    <tr>\n",
       "      <th>2</th>\n",
       "      <td>5</td>\n",
       "      <td>Love it</td>\n",
       "      <td>For the price, its unbelievable. I usually have it on low so its not too noisy, but high isn't that noisy either. Kinda wish it had a medium setting but all in all VERY satisfied.</td>\n",
       "      <td>[(For, IN), (the, DT), (price, NN), (its, PRP$), (unbelievable, JJ), (I, PRP), (usually, RB), (have, VBP), (it, PRP), (on, IN), (low, JJ), (so, RB), (its, PRP$), (not, RB), (too, RB), (noisy, JJ), (but, CC), (high, JJ), (isn, NN), (t, NN), (that, WDT), (noisy, VBZ), (either, CC), (Kinda, NNP), (wish, VB), (it, PRP), (had, VBD), (a, DT), (medium, NN), (setting, VBG), (but, CC), (all, DT), (in, IN), (all, DT), (VERY, NNP), (satisfied, VBD)]</td>\n",
       "      <td>[(unbelievable, JJ), (low, JJ), (noisy, JJ), (high, JJ)]</td>\n",
       "      <td>[{'neg': 0.0, 'neu': 0.0, 'pos': 1.0, 'compound': 0.2023}, {'neg': 1.0, 'neu': 0.0, 'pos': 0.0, 'compound': -0.2732}, {'neg': 1.0, 'neu': 0.0, 'pos': 0.0, 'compound': -0.1779}, {'neg': 0.0, 'neu': 1.0, 'pos': 0.0, 'compound': 0.0}]</td>\n",
       "      <td>-0.2488</td>\n",
       "      <td>{'Negativo': 0}</td>\n",
       "    </tr>\n",
       "    <tr>\n",
       "      <th>3</th>\n",
       "      <td>1</td>\n",
       "      <td>Walk the halls?</td>\n",
       "      <td>I was very disappointed when I read this book. I was hoping to read cutting-edge research on leadership supported by personal experiences. However, what I got was a book full of personal anecdotes. Do I really need to pay someone $25 to tell me to build a rapport with my teachers and students? Walk the halls? Isn't that just common sense? Waste of time and money</td>\n",
       "      <td>[(I, PRP), (was, VBD), (very, RB), (disappointed, JJ), (when, WRB), (I, PRP), (read, VBP), (this, DT), (book, NN), (I, PRP), (was, VBD), (hoping, VBG), (to, TO), (read, VB), (cutting, VBG), (edge, JJ), (research, NN), (on, IN), (leadership, NN), (supported, VBN), (by, IN), (personal, JJ), (experiences, NNS), (However, RB), (what, WP), (I, PRP), (got, VBD), (was, VBD), (a, DT), (book, NN), (full, JJ), (of, IN), (personal, JJ), (anecdotes, NNS), (Do, VBP), (I, PRP), (really, RB), (need, VBP), (to, TO), (pay, VB), (someone, NN), (25, CD), (to, TO), (tell, VB), (me, PRP), (to, TO), (build, VB)...</td>\n",
       "      <td>[(disappointed, JJ), (edge, JJ), (personal, JJ), (full, JJ), (personal, JJ), (common, JJ)]</td>\n",
       "      <td>[{'neg': 1.0, 'neu': 0.0, 'pos': 0.0, 'compound': -0.4767}, {'neg': 0.0, 'neu': 1.0, 'pos': 0.0, 'compound': 0.0}, {'neg': 0.0, 'neu': 1.0, 'pos': 0.0, 'compound': 0.0}, {'neg': 0.0, 'neu': 1.0, 'pos': 0.0, 'compound': 0.0}, {'neg': 0.0, 'neu': 1.0, 'pos': 0.0, 'compound': 0.0}, {'neg': 0.0, 'neu': 1.0, 'pos': 0.0, 'compound': 0.0}]</td>\n",
       "      <td>-0.4767</td>\n",
       "      <td>{'Negativo': 0}</td>\n",
       "    </tr>\n",
       "    <tr>\n",
       "      <th>4</th>\n",
       "      <td>3</td>\n",
       "      <td>beware</td>\n",
       "      <td>This album is OK if you like jazzy, 60's, very perky lounge group-vocals like Lambert, Hendricks and Ross and the groups one used to hear on 60's TV variety shows, but it is very definately not like the Salvador of \"Chambre avec Vue.\"</td>\n",
       "      <td>[(This, DT), (album, NN), (is, VBZ), (OK, JJ), (if, IN), (you, PRP), (like, VBP), (jazzy, JJ), (60, CD), (s, JJ), (very, RB), (perky, JJ), (lounge, NN), (group, NN), (vocals, NNS), (like, IN), (Lambert, NNP), (Hendricks, NNP), (and, CC), (Ross, NNP), (and, CC), (the, DT), (groups, NNS), (one, CD), (used, VBN), (to, TO), (hear, VB), (on, IN), (60, CD), (s, JJ), (TV, NN), (variety, NN), (shows, NNS), (but, CC), (it, PRP), (is, VBZ), (very, RB), (definately, RB), (not, RB), (like, IN), (the, DT), (Salvador, NNP), (of, IN), (Chambre, NNP), (avec, FW), (Vue, NNP)]</td>\n",
       "      <td>[(OK, JJ), (jazzy, JJ), (s, JJ), (perky, JJ), (s, JJ)]</td>\n",
       "      <td>[{'neg': 0.0, 'neu': 0.0, 'pos': 1.0, 'compound': 0.296}, {'neg': 0.0, 'neu': 1.0, 'pos': 0.0, 'compound': 0.0}, {'neg': 0.0, 'neu': 0.0, 'pos': 0.0, 'compound': 0.0}, {'neg': 0.0, 'neu': 1.0, 'pos': 0.0, 'compound': 0.0}, {'neg': 0.0, 'neu': 0.0, 'pos': 0.0, 'compound': 0.0}]</td>\n",
       "      <td>0.2960</td>\n",
       "      <td>{'Positivo': 1}</td>\n",
       "    </tr>\n",
       "    <tr>\n",
       "      <th>5</th>\n",
       "      <td>5</td>\n",
       "      <td>Lock, stock, and great</td>\n",
       "      <td>\"Lock, Stock, and Two Smoking Barrels\" is a British crime-fiction film and is a breakout offering by Director Guy Ritchie.The narrative is cleverly constructed and whilst groups of protagonists at first appear to standalone their interaction creates a fantastic series of events.The film contains a terrific cast and many of whom have become very well known since this work such as: Jason Flemyng (as Tom), Dexter Fletcher (plays Soap), Nick Moran (is Eddy), and Jason Statham (plays Bacon).It is quite a treat for viewers as the diversity of the story with its many turns and twists is absorbing...</td>\n",
       "      <td>[(Lock, NNP), (Stock, NNP), (and, CC), (Two, CD), (Smoking, NNP), (Barrels, NNP), (is, VBZ), (a, DT), (British, JJ), (crime, NN), (fiction, NN), (film, NN), (and, CC), (is, VBZ), (a, DT), (breakout, NN), (offering, NN), (by, IN), (Director, NNP), (Guy, NNP), (Ritchie, NNP), (The, DT), (narrative, JJ), (is, VBZ), (cleverly, RB), (constructed, VBN), (and, CC), (whilst, JJ), (groups, NNS), (of, IN), (protagonists, NNS), (at, IN), (first, JJ), (appear, VBP), (to, TO), (standalone, VB), (their, PRP$), (interaction, NN), (creates, VBZ), (a, DT), (fantastic, JJ), (series, NN), (of, IN), (events, ...</td>\n",
       "      <td>[(British, JJ), (narrative, JJ), (whilst, JJ), (first, JJ), (fantastic, JJ), (terrific, JJ), (many, JJ), (such, JJ), (many, JJ), (Australian, JJ)]</td>\n",
       "      <td>[{'neg': 0.0, 'neu': 1.0, 'pos': 0.0, 'compound': 0.0}, {'neg': 0.0, 'neu': 1.0, 'pos': 0.0, 'compound': 0.0}, {'neg': 0.0, 'neu': 1.0, 'pos': 0.0, 'compound': 0.0}, {'neg': 0.0, 'neu': 1.0, 'pos': 0.0, 'compound': 0.0}, {'neg': 0.0, 'neu': 0.0, 'pos': 1.0, 'compound': 0.5574}, {'neg': 0.0, 'neu': 0.0, 'pos': 1.0, 'compound': 0.4767}, {'neg': 0.0, 'neu': 1.0, 'pos': 0.0, 'compound': 0.0}, {'neg': 0.0, 'neu': 1.0, 'pos': 0.0, 'compound': 0.0}, {'neg': 0.0, 'neu': 1.0, 'pos': 0.0, 'compound': 0.0}, {'neg': 0.0, 'neu': 1.0, 'pos': 0.0, 'compound': 0.0}]</td>\n",
       "      <td>1.0341</td>\n",
       "      <td>{'Positivo': 1}</td>\n",
       "    </tr>\n",
       "    <tr>\n",
       "      <th>6</th>\n",
       "      <td>5</td>\n",
       "      <td>The King and the Corpse</td>\n",
       "      <td>I usually don't read mythology books straight through, rather use them as reference. As such this book is easy to use. With Joseph Campbell as the editor I feel assured that it is a good rendition of the myths. I found it relevant to specific images I wanted to learn about. Excellent addition to my \"images\" library.</td>\n",
       "      <td>[(I, PRP), (usually, RB), (don, VBP), (t, JJ), (read, VBP), (mythology, NN), (books, NNS), (straight, VBD), (through, IN), (rather, RB), (use, VB), (them, PRP), (as, IN), (reference, NN), (As, IN), (such, JJ), (this, DT), (book, NN), (is, VBZ), (easy, JJ), (to, TO), (use, VB), (With, IN), (Joseph, NNP), (Campbell, NNP), (as, IN), (the, DT), (editor, NN), (I, PRP), (feel, VBP), (assured, VBD), (that, IN), (it, PRP), (is, VBZ), (a, DT), (good, JJ), (rendition, NN), (of, IN), (the, DT), (myths, NNS), (I, PRP), (found, VBD), (it, PRP), (relevant, JJ), (to, TO), (specific, JJ), (images, NNS), (...</td>\n",
       "      <td>[(t, JJ), (such, JJ), (easy, JJ), (good, JJ), (relevant, JJ), (specific, JJ), (Excellent, JJ)]</td>\n",
       "      <td>[{'neg': 0.0, 'neu': 0.0, 'pos': 0.0, 'compound': 0.0}, {'neg': 0.0, 'neu': 1.0, 'pos': 0.0, 'compound': 0.0}, {'neg': 0.0, 'neu': 0.0, 'pos': 1.0, 'compound': 0.4404}, {'neg': 0.0, 'neu': 0.0, 'pos': 1.0, 'compound': 0.4404}, {'neg': 0.0, 'neu': 1.0, 'pos': 0.0, 'compound': 0.0}, {'neg': 0.0, 'neu': 1.0, 'pos': 0.0, 'compound': 0.0}, {'neg': 0.0, 'neu': 0.0, 'pos': 1.0, 'compound': 0.5719}]</td>\n",
       "      <td>1.4527</td>\n",
       "      <td>{'Positivo': 1}</td>\n",
       "    </tr>\n",
       "    <tr>\n",
       "      <th>7</th>\n",
       "      <td>2</td>\n",
       "      <td>blitz jewelry cleaner</td>\n",
       "      <td>the cleaner works fine but the jar it comes in is not well made and it is difficult to open and close. It makes a mess every time I use it. The last jar I had was made from better material, but this is just junk!!! I will not purchase this item again.</td>\n",
       "      <td>[(the, DT), (cleaner, NN), (works, VBZ), (fine, JJ), (but, CC), (the, DT), (jar, NN), (it, PRP), (comes, VBZ), (in, IN), (is, VBZ), (not, RB), (well, RB), (made, VBN), (and, CC), (it, PRP), (is, VBZ), (difficult, JJ), (to, TO), (open, VB), (and, CC), (close, VB), (It, PRP), (makes, VBZ), (a, DT), (mess, NN), (every, DT), (time, NN), (I, PRP), (use, VBP), (it, PRP), (The, DT), (last, JJ), (jar, NN), (I, PRP), (had, VBD), (was, VBD), (made, VBN), (from, IN), (better, JJR), (material, NN), (but, CC), (this, DT), (is, VBZ), (just, RB), (junk, NN), (I, PRP), (will, MD), (not, RB), (purchase, VB...</td>\n",
       "      <td>[(fine, JJ), (difficult, JJ), (last, JJ)]</td>\n",
       "      <td>[{'neg': 0.0, 'neu': 0.0, 'pos': 1.0, 'compound': 0.2023}, {'neg': 1.0, 'neu': 0.0, 'pos': 0.0, 'compound': -0.3612}, {'neg': 0.0, 'neu': 1.0, 'pos': 0.0, 'compound': 0.0}]</td>\n",
       "      <td>-0.1589</td>\n",
       "      <td>{'Negativo': 0}</td>\n",
       "    </tr>\n",
       "    <tr>\n",
       "      <th>8</th>\n",
       "      <td>1</td>\n",
       "      <td>???</td>\n",
       "      <td>The book was great but the movie was quite disappointing. Really glad I read the book first. Maybe I just expected too much. Really tired of good books being made into poor movies. Another example is Eragon. Highly recommend the book but not the movie.</td>\n",
       "      <td>[(The, DT), (book, NN), (was, VBD), (great, JJ), (but, CC), (the, DT), (movie, NN), (was, VBD), (quite, RB), (disappointing, JJ), (Really, RB), (glad, JJ), (I, PRP), (read, VBP), (the, DT), (book, NN), (first, RB), (Maybe, RB), (I, PRP), (just, RB), (expected, VBD), (too, RB), (much, JJ), (Really, RB), (tired, VBN), (of, IN), (good, JJ), (books, NNS), (being, VBG), (made, VBN), (into, IN), (poor, JJ), (movies, NNS), (Another, DT), (example, NN), (is, VBZ), (Eragon, NNP), (Highly, NNP), (recommend, VBP), (the, DT), (book, NN), (but, CC), (not, RB), (the, DT), (movie, NN)]</td>\n",
       "      <td>[(great, JJ), (disappointing, JJ), (glad, JJ), (much, JJ), (good, JJ), (poor, JJ)]</td>\n",
       "      <td>[{'neg': 0.0, 'neu': 0.0, 'pos': 1.0, 'compound': 0.6249}, {'neg': 1.0, 'neu': 0.0, 'pos': 0.0, 'compound': -0.4939}, {'neg': 0.0, 'neu': 0.0, 'pos': 1.0, 'compound': 0.4588}, {'neg': 0.0, 'neu': 1.0, 'pos': 0.0, 'compound': 0.0}, {'neg': 0.0, 'neu': 0.0, 'pos': 1.0, 'compound': 0.4404}, {'neg': 1.0, 'neu': 0.0, 'pos': 0.0, 'compound': -0.4767}]</td>\n",
       "      <td>0.5535</td>\n",
       "      <td>{'Positivo': 1}</td>\n",
       "    </tr>\n",
       "    <tr>\n",
       "      <th>9</th>\n",
       "      <td>2</td>\n",
       "      <td>I was suprised that the songs from key moments were gone.</td>\n",
       "      <td>I really was suprised that my favorite songs from the key moments of the show were missing. Like \"Kiss the rain\" by Billie Myers when Dawson and Joey make up, and \"Say goodnight\" by Beth Neilsen Chapman at the end of season 1 when Dawson and Joey kiss. Overall I had not heard of 80% of the songs on the cd. Even though I am a hardcore show fanatic, I opted not to buy the so-called \"soundtrack\" Scott Engle, 14 Belleville, KS</td>\n",
       "      <td>[(I, PRP), (really, RB), (was, VBD), (suprised, VBN), (that, IN), (my, PRP$), (favorite, JJ), (songs, NNS), (from, IN), (the, DT), (key, JJ), (moments, NNS), (of, IN), (the, DT), (show, NN), (were, VBD), (missing, VBG), (Like, IN), (Kiss, NNP), (the, DT), (rain, NN), (by, IN), (Billie, NNP), (Myers, NNP), (when, WRB), (Dawson, NNP), (and, CC), (Joey, NNP), (make, VBP), (up, RP), (and, CC), (Say, NNP), (goodnight, NN), (by, IN), (Beth, NNP), (Neilsen, NNP), (Chapman, NNP), (at, IN), (the, DT), (end, NN), (of, IN), (season, NN), (1, CD), (when, WRB), (Dawson, NNP), (and, CC), (Joey, NNP), (k...</td>\n",
       "      <td>[(favorite, JJ), (key, JJ), (Overall, JJ), (fanatic, JJ), (called, JJ)]</td>\n",
       "      <td>[{'neg': 0.0, 'neu': 0.0, 'pos': 1.0, 'compound': 0.4588}, {'neg': 0.0, 'neu': 1.0, 'pos': 0.0, 'compound': 0.0}, {'neg': 0.0, 'neu': 1.0, 'pos': 0.0, 'compound': 0.0}, {'neg': 0.0, 'neu': 1.0, 'pos': 0.0, 'compound': 0.0}, {'neg': 0.0, 'neu': 1.0, 'pos': 0.0, 'compound': 0.0}]</td>\n",
       "      <td>0.4588</td>\n",
       "      <td>{'Positivo': 1}</td>\n",
       "    </tr>\n",
       "  </tbody>\n",
       "</table>\n",
       "</div>"
      ],
      "text/plain": [
       "   class index                                                      title  \\\n",
       "0            2                                           Promises to Keep   \n",
       "1            3                                              limp software   \n",
       "2            5                                                    Love it   \n",
       "3            1                                            Walk the halls?   \n",
       "4            3                                                     beware   \n",
       "5            5                                     Lock, stock, and great   \n",
       "6            5                                    The King and the Corpse   \n",
       "7            2                                      blitz jewelry cleaner   \n",
       "8            1                                                        ???   \n",
       "9            2  I was suprised that the songs from key moments were gone.   \n",
       "\n",
       "                                                                                                                                                                                                                                                                                                                                                                                                                                                                                                                                                                                                                      text  \\\n",
       "0                                                                                                                                                                                                                                                                                                                                                                                                                                                                                                             I was disappointed in the condition of this book. It has mildew on the pages and has been wet at some point.   \n",
       "1  Conveniences:Exporting maps to PDA.It's there when the internet goes down.Inconveniences:Major roads are often only listed at SR-23423 or some other technical name. While this might be cartologically indisputable, the rest of the world, including businesses, street signs, and locals use something called \"street names\", like \"Lawrenceville Hwy\" or \"Apple Avenue\" or whatever. This renders the program unusable in certain circumstances. Thus, I find myself constantly using yahoo and google to find addresses in Atlanta.I don't know if the 2007 ver has updated anything about New York City, but e...   \n",
       "2                                                                                                                                                                                                                                                                                                                                                                                                                                      For the price, its unbelievable. I usually have it on low so its not too noisy, but high isn't that noisy either. Kinda wish it had a medium setting but all in all VERY satisfied.   \n",
       "3                                                                                                                                                                                                                                             I was very disappointed when I read this book. I was hoping to read cutting-edge research on leadership supported by personal experiences. However, what I got was a book full of personal anecdotes. Do I really need to pay someone $25 to tell me to build a rapport with my teachers and students? Walk the halls? Isn't that just common sense? Waste of time and money   \n",
       "4                                                                                                                                                                                                                                                                                                                                                                               This album is OK if you like jazzy, 60's, very perky lounge group-vocals like Lambert, Hendricks and Ross and the groups one used to hear on 60's TV variety shows, but it is very definately not like the Salvador of \"Chambre avec Vue.\"   \n",
       "5  \"Lock, Stock, and Two Smoking Barrels\" is a British crime-fiction film and is a breakout offering by Director Guy Ritchie.The narrative is cleverly constructed and whilst groups of protagonists at first appear to standalone their interaction creates a fantastic series of events.The film contains a terrific cast and many of whom have become very well known since this work such as: Jason Flemyng (as Tom), Dexter Fletcher (plays Soap), Nick Moran (is Eddy), and Jason Statham (plays Bacon).It is quite a treat for viewers as the diversity of the story with its many turns and twists is absorbing...   \n",
       "6                                                                                                                                                                                                                                                                                            I usually don't read mythology books straight through, rather use them as reference. As such this book is easy to use. With Joseph Campbell as the editor I feel assured that it is a good rendition of the myths. I found it relevant to specific images I wanted to learn about. Excellent addition to my \"images\" library.   \n",
       "7                                                                                                                                                                                                                                                                                                                                                              the cleaner works fine but the jar it comes in is not well made and it is difficult to open and close. It makes a mess every time I use it. The last jar I had was made from better material, but this is just junk!!! I will not purchase this item again.   \n",
       "8                                                                                                                                                                                                                                                                                                                                                             The book was great but the movie was quite disappointing. Really glad I read the book first. Maybe I just expected too much. Really tired of good books being made into poor movies. Another example is Eragon. Highly recommend the book but not the movie.   \n",
       "9                                                                                                                                                                               I really was suprised that my favorite songs from the key moments of the show were missing. Like \"Kiss the rain\" by Billie Myers when Dawson and Joey make up, and \"Say goodnight\" by Beth Neilsen Chapman at the end of season 1 when Dawson and Joey kiss. Overall I had not heard of 80% of the songs on the cd. Even though I am a hardcore show fanatic, I opted not to buy the so-called \"soundtrack\" Scott Engle, 14 Belleville, KS   \n",
       "\n",
       "                                                                                                                                                                                                                                                                                                                                                                                                                                                                                                                                                                                                             text TokenTag  \\\n",
       "0                                                                                                                                                                                                                                                                                                                                          [(I, PRP), (was, VBD), (disappointed, VBN), (in, IN), (the, DT), (condition, NN), (of, IN), (this, DT), (book, NN), (It, PRP), (has, VBZ), (mildew, VBN), (on, IN), (the, DT), (pages, NNS), (and, CC), (has, VBZ), (been, VBN), (wet, VBN), (at, IN), (some, DT), (point, NN)]   \n",
       "1  [(Conveniences, NNS), (Exporting, VBG), (maps, NNS), (to, TO), (PDA, VB), (It, PRP), (s, PRP), (there, RB), (when, WRB), (the, DT), (internet, NN), (goes, VBZ), (down, RB), (Inconveniences, NNP), (Major, NNP), (roads, NNS), (are, VBP), (often, RB), (only, RB), (listed, VBN), (at, IN), (SR, NNP), (23423, CD), (or, CC), (some, DT), (other, JJ), (technical, JJ), (name, NN), (While, IN), (this, DT), (might, MD), (be, VB), (cartologically, RB), (indisputable, JJ), (the, DT), (rest, NN), (of, IN), (the, DT), (world, NN), (including, VBG), (businesses, NNS), (street, NN), (signs, NNS), (and, CC),...   \n",
       "2                                                                                                                                                               [(For, IN), (the, DT), (price, NN), (its, PRP$), (unbelievable, JJ), (I, PRP), (usually, RB), (have, VBP), (it, PRP), (on, IN), (low, JJ), (so, RB), (its, PRP$), (not, RB), (too, RB), (noisy, JJ), (but, CC), (high, JJ), (isn, NN), (t, NN), (that, WDT), (noisy, VBZ), (either, CC), (Kinda, NNP), (wish, VB), (it, PRP), (had, VBD), (a, DT), (medium, NN), (setting, VBG), (but, CC), (all, DT), (in, IN), (all, DT), (VERY, NNP), (satisfied, VBD)]   \n",
       "3  [(I, PRP), (was, VBD), (very, RB), (disappointed, JJ), (when, WRB), (I, PRP), (read, VBP), (this, DT), (book, NN), (I, PRP), (was, VBD), (hoping, VBG), (to, TO), (read, VB), (cutting, VBG), (edge, JJ), (research, NN), (on, IN), (leadership, NN), (supported, VBN), (by, IN), (personal, JJ), (experiences, NNS), (However, RB), (what, WP), (I, PRP), (got, VBD), (was, VBD), (a, DT), (book, NN), (full, JJ), (of, IN), (personal, JJ), (anecdotes, NNS), (Do, VBP), (I, PRP), (really, RB), (need, VBP), (to, TO), (pay, VB), (someone, NN), (25, CD), (to, TO), (tell, VB), (me, PRP), (to, TO), (build, VB)...   \n",
       "4                                    [(This, DT), (album, NN), (is, VBZ), (OK, JJ), (if, IN), (you, PRP), (like, VBP), (jazzy, JJ), (60, CD), (s, JJ), (very, RB), (perky, JJ), (lounge, NN), (group, NN), (vocals, NNS), (like, IN), (Lambert, NNP), (Hendricks, NNP), (and, CC), (Ross, NNP), (and, CC), (the, DT), (groups, NNS), (one, CD), (used, VBN), (to, TO), (hear, VB), (on, IN), (60, CD), (s, JJ), (TV, NN), (variety, NN), (shows, NNS), (but, CC), (it, PRP), (is, VBZ), (very, RB), (definately, RB), (not, RB), (like, IN), (the, DT), (Salvador, NNP), (of, IN), (Chambre, NNP), (avec, FW), (Vue, NNP)]   \n",
       "5  [(Lock, NNP), (Stock, NNP), (and, CC), (Two, CD), (Smoking, NNP), (Barrels, NNP), (is, VBZ), (a, DT), (British, JJ), (crime, NN), (fiction, NN), (film, NN), (and, CC), (is, VBZ), (a, DT), (breakout, NN), (offering, NN), (by, IN), (Director, NNP), (Guy, NNP), (Ritchie, NNP), (The, DT), (narrative, JJ), (is, VBZ), (cleverly, RB), (constructed, VBN), (and, CC), (whilst, JJ), (groups, NNS), (of, IN), (protagonists, NNS), (at, IN), (first, JJ), (appear, VBP), (to, TO), (standalone, VB), (their, PRP$), (interaction, NN), (creates, VBZ), (a, DT), (fantastic, JJ), (series, NN), (of, IN), (events, ...   \n",
       "6  [(I, PRP), (usually, RB), (don, VBP), (t, JJ), (read, VBP), (mythology, NN), (books, NNS), (straight, VBD), (through, IN), (rather, RB), (use, VB), (them, PRP), (as, IN), (reference, NN), (As, IN), (such, JJ), (this, DT), (book, NN), (is, VBZ), (easy, JJ), (to, TO), (use, VB), (With, IN), (Joseph, NNP), (Campbell, NNP), (as, IN), (the, DT), (editor, NN), (I, PRP), (feel, VBP), (assured, VBD), (that, IN), (it, PRP), (is, VBZ), (a, DT), (good, JJ), (rendition, NN), (of, IN), (the, DT), (myths, NNS), (I, PRP), (found, VBD), (it, PRP), (relevant, JJ), (to, TO), (specific, JJ), (images, NNS), (...   \n",
       "7  [(the, DT), (cleaner, NN), (works, VBZ), (fine, JJ), (but, CC), (the, DT), (jar, NN), (it, PRP), (comes, VBZ), (in, IN), (is, VBZ), (not, RB), (well, RB), (made, VBN), (and, CC), (it, PRP), (is, VBZ), (difficult, JJ), (to, TO), (open, VB), (and, CC), (close, VB), (It, PRP), (makes, VBZ), (a, DT), (mess, NN), (every, DT), (time, NN), (I, PRP), (use, VBP), (it, PRP), (The, DT), (last, JJ), (jar, NN), (I, PRP), (had, VBD), (was, VBD), (made, VBN), (from, IN), (better, JJR), (material, NN), (but, CC), (this, DT), (is, VBZ), (just, RB), (junk, NN), (I, PRP), (will, MD), (not, RB), (purchase, VB...   \n",
       "8                        [(The, DT), (book, NN), (was, VBD), (great, JJ), (but, CC), (the, DT), (movie, NN), (was, VBD), (quite, RB), (disappointing, JJ), (Really, RB), (glad, JJ), (I, PRP), (read, VBP), (the, DT), (book, NN), (first, RB), (Maybe, RB), (I, PRP), (just, RB), (expected, VBD), (too, RB), (much, JJ), (Really, RB), (tired, VBN), (of, IN), (good, JJ), (books, NNS), (being, VBG), (made, VBN), (into, IN), (poor, JJ), (movies, NNS), (Another, DT), (example, NN), (is, VBZ), (Eragon, NNP), (Highly, NNP), (recommend, VBP), (the, DT), (book, NN), (but, CC), (not, RB), (the, DT), (movie, NN)]   \n",
       "9  [(I, PRP), (really, RB), (was, VBD), (suprised, VBN), (that, IN), (my, PRP$), (favorite, JJ), (songs, NNS), (from, IN), (the, DT), (key, JJ), (moments, NNS), (of, IN), (the, DT), (show, NN), (were, VBD), (missing, VBG), (Like, IN), (Kiss, NNP), (the, DT), (rain, NN), (by, IN), (Billie, NNP), (Myers, NNP), (when, WRB), (Dawson, NNP), (and, CC), (Joey, NNP), (make, VBP), (up, RP), (and, CC), (Say, NNP), (goodnight, NN), (by, IN), (Beth, NNP), (Neilsen, NNP), (Chapman, NNP), (at, IN), (the, DT), (end, NN), (of, IN), (season, NN), (1, CD), (when, WRB), (Dawson, NNP), (and, CC), (Joey, NNP), (k...   \n",
       "\n",
       "                                                                                                                                            adjetives  \\\n",
       "0                                                                                                                         [Review no tiene adjetivos]   \n",
       "1    [(other, JJ), (technical, JJ), (indisputable, JJ), (unusable, JJ), (certain, JJ), (downright, JJ), (useless, JJ), (reasonable, JJ), (local, JJ)]   \n",
       "2                                                                                            [(unbelievable, JJ), (low, JJ), (noisy, JJ), (high, JJ)]   \n",
       "3                                                          [(disappointed, JJ), (edge, JJ), (personal, JJ), (full, JJ), (personal, JJ), (common, JJ)]   \n",
       "4                                                                                              [(OK, JJ), (jazzy, JJ), (s, JJ), (perky, JJ), (s, JJ)]   \n",
       "5  [(British, JJ), (narrative, JJ), (whilst, JJ), (first, JJ), (fantastic, JJ), (terrific, JJ), (many, JJ), (such, JJ), (many, JJ), (Australian, JJ)]   \n",
       "6                                                      [(t, JJ), (such, JJ), (easy, JJ), (good, JJ), (relevant, JJ), (specific, JJ), (Excellent, JJ)]   \n",
       "7                                                                                                           [(fine, JJ), (difficult, JJ), (last, JJ)]   \n",
       "8                                                                  [(great, JJ), (disappointing, JJ), (glad, JJ), (much, JJ), (good, JJ), (poor, JJ)]   \n",
       "9                                                                             [(favorite, JJ), (key, JJ), (Overall, JJ), (fanatic, JJ), (called, JJ)]   \n",
       "\n",
       "                                                                                                                                                                                                                                                                                                                                                                                                                                                                                                                                                                      valencias  \\\n",
       "0                                                                                                                                                                                                                                                                                                                                                                                                                                                                                                                       [{'neg': 0.0, 'neu': 0.0, 'pos': 0.0, 'compound': 0.0}]   \n",
       "1                                                        [{'neg': 0.0, 'neu': 1.0, 'pos': 0.0, 'compound': 0.0}, {'neg': 0.0, 'neu': 1.0, 'pos': 0.0, 'compound': 0.0}, {'neg': 0.0, 'neu': 1.0, 'pos': 0.0, 'compound': 0.0}, {'neg': 0.0, 'neu': 1.0, 'pos': 0.0, 'compound': 0.0}, {'neg': 0.0, 'neu': 0.0, 'pos': 1.0, 'compound': 0.2732}, {'neg': 0.0, 'neu': 1.0, 'pos': 0.0, 'compound': 0.0}, {'neg': 1.0, 'neu': 0.0, 'pos': 0.0, 'compound': -0.4215}, {'neg': 0.0, 'neu': 1.0, 'pos': 0.0, 'compound': 0.0}, {'neg': 0.0, 'neu': 1.0, 'pos': 0.0, 'compound': 0.0}]   \n",
       "2                                                                                                                                                                                                                                                                                                                                       [{'neg': 0.0, 'neu': 0.0, 'pos': 1.0, 'compound': 0.2023}, {'neg': 1.0, 'neu': 0.0, 'pos': 0.0, 'compound': -0.2732}, {'neg': 1.0, 'neu': 0.0, 'pos': 0.0, 'compound': -0.1779}, {'neg': 0.0, 'neu': 1.0, 'pos': 0.0, 'compound': 0.0}]   \n",
       "3                                                                                                                                                                                                                                [{'neg': 1.0, 'neu': 0.0, 'pos': 0.0, 'compound': -0.4767}, {'neg': 0.0, 'neu': 1.0, 'pos': 0.0, 'compound': 0.0}, {'neg': 0.0, 'neu': 1.0, 'pos': 0.0, 'compound': 0.0}, {'neg': 0.0, 'neu': 1.0, 'pos': 0.0, 'compound': 0.0}, {'neg': 0.0, 'neu': 1.0, 'pos': 0.0, 'compound': 0.0}, {'neg': 0.0, 'neu': 1.0, 'pos': 0.0, 'compound': 0.0}]   \n",
       "4                                                                                                                                                                                                                                                                                         [{'neg': 0.0, 'neu': 0.0, 'pos': 1.0, 'compound': 0.296}, {'neg': 0.0, 'neu': 1.0, 'pos': 0.0, 'compound': 0.0}, {'neg': 0.0, 'neu': 0.0, 'pos': 0.0, 'compound': 0.0}, {'neg': 0.0, 'neu': 1.0, 'pos': 0.0, 'compound': 0.0}, {'neg': 0.0, 'neu': 0.0, 'pos': 0.0, 'compound': 0.0}]   \n",
       "5  [{'neg': 0.0, 'neu': 1.0, 'pos': 0.0, 'compound': 0.0}, {'neg': 0.0, 'neu': 1.0, 'pos': 0.0, 'compound': 0.0}, {'neg': 0.0, 'neu': 1.0, 'pos': 0.0, 'compound': 0.0}, {'neg': 0.0, 'neu': 1.0, 'pos': 0.0, 'compound': 0.0}, {'neg': 0.0, 'neu': 0.0, 'pos': 1.0, 'compound': 0.5574}, {'neg': 0.0, 'neu': 0.0, 'pos': 1.0, 'compound': 0.4767}, {'neg': 0.0, 'neu': 1.0, 'pos': 0.0, 'compound': 0.0}, {'neg': 0.0, 'neu': 1.0, 'pos': 0.0, 'compound': 0.0}, {'neg': 0.0, 'neu': 1.0, 'pos': 0.0, 'compound': 0.0}, {'neg': 0.0, 'neu': 1.0, 'pos': 0.0, 'compound': 0.0}]   \n",
       "6                                                                                                                                                                    [{'neg': 0.0, 'neu': 0.0, 'pos': 0.0, 'compound': 0.0}, {'neg': 0.0, 'neu': 1.0, 'pos': 0.0, 'compound': 0.0}, {'neg': 0.0, 'neu': 0.0, 'pos': 1.0, 'compound': 0.4404}, {'neg': 0.0, 'neu': 0.0, 'pos': 1.0, 'compound': 0.4404}, {'neg': 0.0, 'neu': 1.0, 'pos': 0.0, 'compound': 0.0}, {'neg': 0.0, 'neu': 1.0, 'pos': 0.0, 'compound': 0.0}, {'neg': 0.0, 'neu': 0.0, 'pos': 1.0, 'compound': 0.5719}]   \n",
       "7                                                                                                                                                                                                                                                                                                                                                                                                  [{'neg': 0.0, 'neu': 0.0, 'pos': 1.0, 'compound': 0.2023}, {'neg': 1.0, 'neu': 0.0, 'pos': 0.0, 'compound': -0.3612}, {'neg': 0.0, 'neu': 1.0, 'pos': 0.0, 'compound': 0.0}]   \n",
       "8                                                                                                                                                                                                                   [{'neg': 0.0, 'neu': 0.0, 'pos': 1.0, 'compound': 0.6249}, {'neg': 1.0, 'neu': 0.0, 'pos': 0.0, 'compound': -0.4939}, {'neg': 0.0, 'neu': 0.0, 'pos': 1.0, 'compound': 0.4588}, {'neg': 0.0, 'neu': 1.0, 'pos': 0.0, 'compound': 0.0}, {'neg': 0.0, 'neu': 0.0, 'pos': 1.0, 'compound': 0.4404}, {'neg': 1.0, 'neu': 0.0, 'pos': 0.0, 'compound': -0.4767}]   \n",
       "9                                                                                                                                                                                                                                                                                        [{'neg': 0.0, 'neu': 0.0, 'pos': 1.0, 'compound': 0.4588}, {'neg': 0.0, 'neu': 1.0, 'pos': 0.0, 'compound': 0.0}, {'neg': 0.0, 'neu': 1.0, 'pos': 0.0, 'compound': 0.0}, {'neg': 0.0, 'neu': 1.0, 'pos': 0.0, 'compound': 0.0}, {'neg': 0.0, 'neu': 1.0, 'pos': 0.0, 'compound': 0.0}]   \n",
       "\n",
       "   sum compound            class  \n",
       "0        0.0000  {'Negativo': 0}  \n",
       "1       -0.1483  {'Negativo': 0}  \n",
       "2       -0.2488  {'Negativo': 0}  \n",
       "3       -0.4767  {'Negativo': 0}  \n",
       "4        0.2960  {'Positivo': 1}  \n",
       "5        1.0341  {'Positivo': 1}  \n",
       "6        1.4527  {'Positivo': 1}  \n",
       "7       -0.1589  {'Negativo': 0}  \n",
       "8        0.5535  {'Positivo': 1}  \n",
       "9        0.4588  {'Positivo': 1}  "
      ]
     },
     "execution_count": 29,
     "metadata": {},
     "output_type": "execute_result"
    }
   ],
   "source": [
    "amazon_sample_3000.head(10)"
   ]
  },
  {
   "cell_type": "markdown",
   "metadata": {},
   "source": [
    "# Análisis de resultados"
   ]
  },
  {
   "cell_type": "markdown",
   "metadata": {},
   "source": [
    "### Lo bueno:\n",
    "Para los siguientes casos nuestro modelo de análisis de sentimientos y clasificador hacen un buen trabajo, por ejemplo:\n",
    "\n",
    "Tomamos un review con 5 estrellas y clasificado como positivo, observamos que:"
   ]
  },
  {
   "cell_type": "code",
   "execution_count": 30,
   "metadata": {},
   "outputs": [
    {
     "data": {
      "text/html": [
       "<div>\n",
       "<style scoped>\n",
       "    .dataframe tbody tr th:only-of-type {\n",
       "        vertical-align: middle;\n",
       "    }\n",
       "\n",
       "    .dataframe tbody tr th {\n",
       "        vertical-align: top;\n",
       "    }\n",
       "\n",
       "    .dataframe thead th {\n",
       "        text-align: right;\n",
       "    }\n",
       "</style>\n",
       "<table border=\"1\" class=\"dataframe\">\n",
       "  <thead>\n",
       "    <tr style=\"text-align: right;\">\n",
       "      <th></th>\n",
       "      <th>class index</th>\n",
       "      <th>title</th>\n",
       "      <th>text</th>\n",
       "      <th>text TokenTag</th>\n",
       "      <th>adjetives</th>\n",
       "      <th>valencias</th>\n",
       "      <th>sum compound</th>\n",
       "      <th>class</th>\n",
       "    </tr>\n",
       "  </thead>\n",
       "  <tbody>\n",
       "    <tr>\n",
       "      <th>6</th>\n",
       "      <td>5</td>\n",
       "      <td>The King and the Corpse</td>\n",
       "      <td>I usually don't read mythology books straight through, rather use them as reference. As such this book is easy to use. With Joseph Campbell as the editor I feel assured that it is a good rendition of the myths. I found it relevant to specific images I wanted to learn about. Excellent addition to my \"images\" library.</td>\n",
       "      <td>[(I, PRP), (usually, RB), (don, VBP), (t, JJ), (read, VBP), (mythology, NN), (books, NNS), (straight, VBD), (through, IN), (rather, RB), (use, VB), (them, PRP), (as, IN), (reference, NN), (As, IN), (such, JJ), (this, DT), (book, NN), (is, VBZ), (easy, JJ), (to, TO), (use, VB), (With, IN), (Joseph, NNP), (Campbell, NNP), (as, IN), (the, DT), (editor, NN), (I, PRP), (feel, VBP), (assured, VBD), (that, IN), (it, PRP), (is, VBZ), (a, DT), (good, JJ), (rendition, NN), (of, IN), (the, DT), (myths, NNS), (I, PRP), (found, VBD), (it, PRP), (relevant, JJ), (to, TO), (specific, JJ), (images, NNS), (...</td>\n",
       "      <td>[(t, JJ), (such, JJ), (easy, JJ), (good, JJ), (relevant, JJ), (specific, JJ), (Excellent, JJ)]</td>\n",
       "      <td>[{'neg': 0.0, 'neu': 0.0, 'pos': 0.0, 'compound': 0.0}, {'neg': 0.0, 'neu': 1.0, 'pos': 0.0, 'compound': 0.0}, {'neg': 0.0, 'neu': 0.0, 'pos': 1.0, 'compound': 0.4404}, {'neg': 0.0, 'neu': 0.0, 'pos': 1.0, 'compound': 0.4404}, {'neg': 0.0, 'neu': 1.0, 'pos': 0.0, 'compound': 0.0}, {'neg': 0.0, 'neu': 1.0, 'pos': 0.0, 'compound': 0.0}, {'neg': 0.0, 'neu': 0.0, 'pos': 1.0, 'compound': 0.5719}]</td>\n",
       "      <td>1.4527</td>\n",
       "      <td>{'Positivo': 1}</td>\n",
       "    </tr>\n",
       "  </tbody>\n",
       "</table>\n",
       "</div>"
      ],
      "text/plain": [
       "   class index                    title  \\\n",
       "6            5  The King and the Corpse   \n",
       "\n",
       "                                                                                                                                                                                                                                                                                                                            text  \\\n",
       "6  I usually don't read mythology books straight through, rather use them as reference. As such this book is easy to use. With Joseph Campbell as the editor I feel assured that it is a good rendition of the myths. I found it relevant to specific images I wanted to learn about. Excellent addition to my \"images\" library.   \n",
       "\n",
       "                                                                                                                                                                                                                                                                                                                                                                                                                                                                                                                                                                                                             text TokenTag  \\\n",
       "6  [(I, PRP), (usually, RB), (don, VBP), (t, JJ), (read, VBP), (mythology, NN), (books, NNS), (straight, VBD), (through, IN), (rather, RB), (use, VB), (them, PRP), (as, IN), (reference, NN), (As, IN), (such, JJ), (this, DT), (book, NN), (is, VBZ), (easy, JJ), (to, TO), (use, VB), (With, IN), (Joseph, NNP), (Campbell, NNP), (as, IN), (the, DT), (editor, NN), (I, PRP), (feel, VBP), (assured, VBD), (that, IN), (it, PRP), (is, VBZ), (a, DT), (good, JJ), (rendition, NN), (of, IN), (the, DT), (myths, NNS), (I, PRP), (found, VBD), (it, PRP), (relevant, JJ), (to, TO), (specific, JJ), (images, NNS), (...   \n",
       "\n",
       "                                                                                        adjetives  \\\n",
       "6  [(t, JJ), (such, JJ), (easy, JJ), (good, JJ), (relevant, JJ), (specific, JJ), (Excellent, JJ)]   \n",
       "\n",
       "                                                                                                                                                                                                                                                                                                                                                                                                    valencias  \\\n",
       "6  [{'neg': 0.0, 'neu': 0.0, 'pos': 0.0, 'compound': 0.0}, {'neg': 0.0, 'neu': 1.0, 'pos': 0.0, 'compound': 0.0}, {'neg': 0.0, 'neu': 0.0, 'pos': 1.0, 'compound': 0.4404}, {'neg': 0.0, 'neu': 0.0, 'pos': 1.0, 'compound': 0.4404}, {'neg': 0.0, 'neu': 1.0, 'pos': 0.0, 'compound': 0.0}, {'neg': 0.0, 'neu': 1.0, 'pos': 0.0, 'compound': 0.0}, {'neg': 0.0, 'neu': 0.0, 'pos': 1.0, 'compound': 0.5719}]   \n",
       "\n",
       "   sum compound            class  \n",
       "6        1.4527  {'Positivo': 1}  "
      ]
     },
     "execution_count": 30,
     "metadata": {},
     "output_type": "execute_result"
    }
   ],
   "source": [
    "amazon_sample_3000[6:7]"
   ]
  },
  {
   "cell_type": "code",
   "execution_count": 31,
   "metadata": {},
   "outputs": [
    {
     "data": {
      "text/html": [
       "<div>\n",
       "<style scoped>\n",
       "    .dataframe tbody tr th:only-of-type {\n",
       "        vertical-align: middle;\n",
       "    }\n",
       "\n",
       "    .dataframe tbody tr th {\n",
       "        vertical-align: top;\n",
       "    }\n",
       "\n",
       "    .dataframe thead th {\n",
       "        text-align: right;\n",
       "    }\n",
       "</style>\n",
       "<table border=\"1\" class=\"dataframe\">\n",
       "  <thead>\n",
       "    <tr style=\"text-align: right;\">\n",
       "      <th></th>\n",
       "      <th>adjetives</th>\n",
       "    </tr>\n",
       "  </thead>\n",
       "  <tbody>\n",
       "    <tr>\n",
       "      <th>6</th>\n",
       "      <td>[(t, JJ), (such, JJ), (easy, JJ), (good, JJ), (relevant, JJ), (specific, JJ), (Excellent, JJ)]</td>\n",
       "    </tr>\n",
       "  </tbody>\n",
       "</table>\n",
       "</div>"
      ],
      "text/plain": [
       "                                                                                        adjetives\n",
       "6  [(t, JJ), (such, JJ), (easy, JJ), (good, JJ), (relevant, JJ), (specific, JJ), (Excellent, JJ)]"
      ]
     },
     "execution_count": 31,
     "metadata": {},
     "output_type": "execute_result"
    }
   ],
   "source": [
    "amazon_sample_3000[['adjetives']][6:7]"
   ]
  },
  {
   "cell_type": "code",
   "execution_count": 32,
   "metadata": {},
   "outputs": [
    {
     "data": {
      "text/plain": [
       "6    [{'neg': 0.0, 'neu': 0.0, 'pos': 0.0, 'compound': 0.0}, {'neg': 0.0, 'neu': 1.0, 'pos': 0.0, 'compound': 0.0}, {'neg': 0.0, 'neu': 0.0, 'pos': 1.0, 'compound': 0.4404}, {'neg': 0.0, 'neu': 0.0, 'pos': 1.0, 'compound': 0.4404}, {'neg': 0.0, 'neu': 1.0, 'pos': 0.0, 'compound': 0.0}, {'neg': 0.0, 'neu': 1.0, 'pos': 0.0, 'compound': 0.0}, {'neg': 0.0, 'neu': 0.0, 'pos': 1.0, 'compound': 0.5719}]\n",
       "Name: valencias, dtype: object"
      ]
     },
     "execution_count": 32,
     "metadata": {},
     "output_type": "execute_result"
    }
   ],
   "source": [
    "amazon_sample_3000['valencias'][6:7]"
   ]
  },
  {
   "cell_type": "code",
   "execution_count": 33,
   "metadata": {},
   "outputs": [
    {
     "data": {
      "text/html": [
       "<div>\n",
       "<style scoped>\n",
       "    .dataframe tbody tr th:only-of-type {\n",
       "        vertical-align: middle;\n",
       "    }\n",
       "\n",
       "    .dataframe tbody tr th {\n",
       "        vertical-align: top;\n",
       "    }\n",
       "\n",
       "    .dataframe thead th {\n",
       "        text-align: right;\n",
       "    }\n",
       "</style>\n",
       "<table border=\"1\" class=\"dataframe\">\n",
       "  <thead>\n",
       "    <tr style=\"text-align: right;\">\n",
       "      <th></th>\n",
       "      <th>sum compound</th>\n",
       "      <th>class</th>\n",
       "    </tr>\n",
       "  </thead>\n",
       "  <tbody>\n",
       "    <tr>\n",
       "      <th>6</th>\n",
       "      <td>1.4527</td>\n",
       "      <td>{'Positivo': 1}</td>\n",
       "    </tr>\n",
       "  </tbody>\n",
       "</table>\n",
       "</div>"
      ],
      "text/plain": [
       "   sum compound            class\n",
       "6        1.4527  {'Positivo': 1}"
      ]
     },
     "execution_count": 33,
     "metadata": {},
     "output_type": "execute_result"
    }
   ],
   "source": [
    "amazon_sample_3000[['sum compound','class']][6:7]"
   ]
  },
  {
   "cell_type": "markdown",
   "metadata": {},
   "source": [
    "Ahora un review con 1 estrella y negativo"
   ]
  },
  {
   "cell_type": "code",
   "execution_count": 34,
   "metadata": {},
   "outputs": [
    {
     "data": {
      "text/html": [
       "<div>\n",
       "<style scoped>\n",
       "    .dataframe tbody tr th:only-of-type {\n",
       "        vertical-align: middle;\n",
       "    }\n",
       "\n",
       "    .dataframe tbody tr th {\n",
       "        vertical-align: top;\n",
       "    }\n",
       "\n",
       "    .dataframe thead th {\n",
       "        text-align: right;\n",
       "    }\n",
       "</style>\n",
       "<table border=\"1\" class=\"dataframe\">\n",
       "  <thead>\n",
       "    <tr style=\"text-align: right;\">\n",
       "      <th></th>\n",
       "      <th>class index</th>\n",
       "      <th>title</th>\n",
       "      <th>text</th>\n",
       "      <th>text TokenTag</th>\n",
       "      <th>adjetives</th>\n",
       "      <th>valencias</th>\n",
       "      <th>sum compound</th>\n",
       "      <th>class</th>\n",
       "    </tr>\n",
       "  </thead>\n",
       "  <tbody>\n",
       "    <tr>\n",
       "      <th>3</th>\n",
       "      <td>1</td>\n",
       "      <td>Walk the halls?</td>\n",
       "      <td>I was very disappointed when I read this book. I was hoping to read cutting-edge research on leadership supported by personal experiences. However, what I got was a book full of personal anecdotes. Do I really need to pay someone $25 to tell me to build a rapport with my teachers and students? Walk the halls? Isn't that just common sense? Waste of time and money</td>\n",
       "      <td>[(I, PRP), (was, VBD), (very, RB), (disappointed, JJ), (when, WRB), (I, PRP), (read, VBP), (this, DT), (book, NN), (I, PRP), (was, VBD), (hoping, VBG), (to, TO), (read, VB), (cutting, VBG), (edge, JJ), (research, NN), (on, IN), (leadership, NN), (supported, VBN), (by, IN), (personal, JJ), (experiences, NNS), (However, RB), (what, WP), (I, PRP), (got, VBD), (was, VBD), (a, DT), (book, NN), (full, JJ), (of, IN), (personal, JJ), (anecdotes, NNS), (Do, VBP), (I, PRP), (really, RB), (need, VBP), (to, TO), (pay, VB), (someone, NN), (25, CD), (to, TO), (tell, VB), (me, PRP), (to, TO), (build, VB)...</td>\n",
       "      <td>[(disappointed, JJ), (edge, JJ), (personal, JJ), (full, JJ), (personal, JJ), (common, JJ)]</td>\n",
       "      <td>[{'neg': 1.0, 'neu': 0.0, 'pos': 0.0, 'compound': -0.4767}, {'neg': 0.0, 'neu': 1.0, 'pos': 0.0, 'compound': 0.0}, {'neg': 0.0, 'neu': 1.0, 'pos': 0.0, 'compound': 0.0}, {'neg': 0.0, 'neu': 1.0, 'pos': 0.0, 'compound': 0.0}, {'neg': 0.0, 'neu': 1.0, 'pos': 0.0, 'compound': 0.0}, {'neg': 0.0, 'neu': 1.0, 'pos': 0.0, 'compound': 0.0}]</td>\n",
       "      <td>-0.4767</td>\n",
       "      <td>{'Negativo': 0}</td>\n",
       "    </tr>\n",
       "  </tbody>\n",
       "</table>\n",
       "</div>"
      ],
      "text/plain": [
       "   class index            title  \\\n",
       "3            1  Walk the halls?   \n",
       "\n",
       "                                                                                                                                                                                                                                                                                                                                                                           text  \\\n",
       "3  I was very disappointed when I read this book. I was hoping to read cutting-edge research on leadership supported by personal experiences. However, what I got was a book full of personal anecdotes. Do I really need to pay someone $25 to tell me to build a rapport with my teachers and students? Walk the halls? Isn't that just common sense? Waste of time and money   \n",
       "\n",
       "                                                                                                                                                                                                                                                                                                                                                                                                                                                                                                                                                                                                             text TokenTag  \\\n",
       "3  [(I, PRP), (was, VBD), (very, RB), (disappointed, JJ), (when, WRB), (I, PRP), (read, VBP), (this, DT), (book, NN), (I, PRP), (was, VBD), (hoping, VBG), (to, TO), (read, VB), (cutting, VBG), (edge, JJ), (research, NN), (on, IN), (leadership, NN), (supported, VBN), (by, IN), (personal, JJ), (experiences, NNS), (However, RB), (what, WP), (I, PRP), (got, VBD), (was, VBD), (a, DT), (book, NN), (full, JJ), (of, IN), (personal, JJ), (anecdotes, NNS), (Do, VBP), (I, PRP), (really, RB), (need, VBP), (to, TO), (pay, VB), (someone, NN), (25, CD), (to, TO), (tell, VB), (me, PRP), (to, TO), (build, VB)...   \n",
       "\n",
       "                                                                                    adjetives  \\\n",
       "3  [(disappointed, JJ), (edge, JJ), (personal, JJ), (full, JJ), (personal, JJ), (common, JJ)]   \n",
       "\n",
       "                                                                                                                                                                                                                                                                                                                                        valencias  \\\n",
       "3  [{'neg': 1.0, 'neu': 0.0, 'pos': 0.0, 'compound': -0.4767}, {'neg': 0.0, 'neu': 1.0, 'pos': 0.0, 'compound': 0.0}, {'neg': 0.0, 'neu': 1.0, 'pos': 0.0, 'compound': 0.0}, {'neg': 0.0, 'neu': 1.0, 'pos': 0.0, 'compound': 0.0}, {'neg': 0.0, 'neu': 1.0, 'pos': 0.0, 'compound': 0.0}, {'neg': 0.0, 'neu': 1.0, 'pos': 0.0, 'compound': 0.0}]   \n",
       "\n",
       "   sum compound            class  \n",
       "3       -0.4767  {'Negativo': 0}  "
      ]
     },
     "execution_count": 34,
     "metadata": {},
     "output_type": "execute_result"
    }
   ],
   "source": [
    "amazon_sample_3000[3:4]"
   ]
  },
  {
   "cell_type": "code",
   "execution_count": 35,
   "metadata": {},
   "outputs": [
    {
     "data": {
      "text/html": [
       "<div>\n",
       "<style scoped>\n",
       "    .dataframe tbody tr th:only-of-type {\n",
       "        vertical-align: middle;\n",
       "    }\n",
       "\n",
       "    .dataframe tbody tr th {\n",
       "        vertical-align: top;\n",
       "    }\n",
       "\n",
       "    .dataframe thead th {\n",
       "        text-align: right;\n",
       "    }\n",
       "</style>\n",
       "<table border=\"1\" class=\"dataframe\">\n",
       "  <thead>\n",
       "    <tr style=\"text-align: right;\">\n",
       "      <th></th>\n",
       "      <th>adjetives</th>\n",
       "    </tr>\n",
       "  </thead>\n",
       "  <tbody>\n",
       "    <tr>\n",
       "      <th>3</th>\n",
       "      <td>[(disappointed, JJ), (edge, JJ), (personal, JJ), (full, JJ), (personal, JJ), (common, JJ)]</td>\n",
       "    </tr>\n",
       "  </tbody>\n",
       "</table>\n",
       "</div>"
      ],
      "text/plain": [
       "                                                                                    adjetives\n",
       "3  [(disappointed, JJ), (edge, JJ), (personal, JJ), (full, JJ), (personal, JJ), (common, JJ)]"
      ]
     },
     "execution_count": 35,
     "metadata": {},
     "output_type": "execute_result"
    }
   ],
   "source": [
    "amazon_sample_3000[['adjetives']][3:4]"
   ]
  },
  {
   "cell_type": "code",
   "execution_count": 36,
   "metadata": {},
   "outputs": [
    {
     "data": {
      "text/plain": [
       "3    [{'neg': 1.0, 'neu': 0.0, 'pos': 0.0, 'compound': -0.4767}, {'neg': 0.0, 'neu': 1.0, 'pos': 0.0, 'compound': 0.0}, {'neg': 0.0, 'neu': 1.0, 'pos': 0.0, 'compound': 0.0}, {'neg': 0.0, 'neu': 1.0, 'pos': 0.0, 'compound': 0.0}, {'neg': 0.0, 'neu': 1.0, 'pos': 0.0, 'compound': 0.0}, {'neg': 0.0, 'neu': 1.0, 'pos': 0.0, 'compound': 0.0}]\n",
       "Name: valencias, dtype: object"
      ]
     },
     "execution_count": 36,
     "metadata": {},
     "output_type": "execute_result"
    }
   ],
   "source": [
    "amazon_sample_3000['valencias'][3:4]"
   ]
  },
  {
   "cell_type": "code",
   "execution_count": 37,
   "metadata": {},
   "outputs": [
    {
     "data": {
      "text/html": [
       "<div>\n",
       "<style scoped>\n",
       "    .dataframe tbody tr th:only-of-type {\n",
       "        vertical-align: middle;\n",
       "    }\n",
       "\n",
       "    .dataframe tbody tr th {\n",
       "        vertical-align: top;\n",
       "    }\n",
       "\n",
       "    .dataframe thead th {\n",
       "        text-align: right;\n",
       "    }\n",
       "</style>\n",
       "<table border=\"1\" class=\"dataframe\">\n",
       "  <thead>\n",
       "    <tr style=\"text-align: right;\">\n",
       "      <th></th>\n",
       "      <th>sum compound</th>\n",
       "      <th>class</th>\n",
       "    </tr>\n",
       "  </thead>\n",
       "  <tbody>\n",
       "    <tr>\n",
       "      <th>3</th>\n",
       "      <td>-0.4767</td>\n",
       "      <td>{'Negativo': 0}</td>\n",
       "    </tr>\n",
       "  </tbody>\n",
       "</table>\n",
       "</div>"
      ],
      "text/plain": [
       "   sum compound            class\n",
       "3       -0.4767  {'Negativo': 0}"
      ]
     },
     "execution_count": 37,
     "metadata": {},
     "output_type": "execute_result"
    }
   ],
   "source": [
    "amazon_sample_3000[['sum compound','class']][3:4]"
   ]
  },
  {
   "cell_type": "markdown",
   "metadata": {},
   "source": [
    "### Lo malo:"
   ]
  },
  {
   "cell_type": "markdown",
   "metadata": {},
   "source": [
    "Realizando un análisis a detalle en base a lo que dice el review, # de estrellas y lo que a mi criterio sería positivo y negativo, tenemos casos en los que nuestro modelo falla, por ejemplo:"
   ]
  },
  {
   "cell_type": "code",
   "execution_count": 38,
   "metadata": {},
   "outputs": [
    {
     "data": {
      "text/html": [
       "<div>\n",
       "<style scoped>\n",
       "    .dataframe tbody tr th:only-of-type {\n",
       "        vertical-align: middle;\n",
       "    }\n",
       "\n",
       "    .dataframe tbody tr th {\n",
       "        vertical-align: top;\n",
       "    }\n",
       "\n",
       "    .dataframe thead th {\n",
       "        text-align: right;\n",
       "    }\n",
       "</style>\n",
       "<table border=\"1\" class=\"dataframe\">\n",
       "  <thead>\n",
       "    <tr style=\"text-align: right;\">\n",
       "      <th></th>\n",
       "      <th>class index</th>\n",
       "      <th>title</th>\n",
       "      <th>text</th>\n",
       "      <th>text TokenTag</th>\n",
       "      <th>adjetives</th>\n",
       "      <th>valencias</th>\n",
       "      <th>sum compound</th>\n",
       "      <th>class</th>\n",
       "    </tr>\n",
       "  </thead>\n",
       "  <tbody>\n",
       "    <tr>\n",
       "      <th>2</th>\n",
       "      <td>5</td>\n",
       "      <td>Love it</td>\n",
       "      <td>For the price, its unbelievable. I usually have it on low so its not too noisy, but high isn't that noisy either. Kinda wish it had a medium setting but all in all VERY satisfied.</td>\n",
       "      <td>[(For, IN), (the, DT), (price, NN), (its, PRP$), (unbelievable, JJ), (I, PRP), (usually, RB), (have, VBP), (it, PRP), (on, IN), (low, JJ), (so, RB), (its, PRP$), (not, RB), (too, RB), (noisy, JJ), (but, CC), (high, JJ), (isn, NN), (t, NN), (that, WDT), (noisy, VBZ), (either, CC), (Kinda, NNP), (wish, VB), (it, PRP), (had, VBD), (a, DT), (medium, NN), (setting, VBG), (but, CC), (all, DT), (in, IN), (all, DT), (VERY, NNP), (satisfied, VBD)]</td>\n",
       "      <td>[(unbelievable, JJ), (low, JJ), (noisy, JJ), (high, JJ)]</td>\n",
       "      <td>[{'neg': 0.0, 'neu': 0.0, 'pos': 1.0, 'compound': 0.2023}, {'neg': 1.0, 'neu': 0.0, 'pos': 0.0, 'compound': -0.2732}, {'neg': 1.0, 'neu': 0.0, 'pos': 0.0, 'compound': -0.1779}, {'neg': 0.0, 'neu': 1.0, 'pos': 0.0, 'compound': 0.0}]</td>\n",
       "      <td>-0.2488</td>\n",
       "      <td>{'Negativo': 0}</td>\n",
       "    </tr>\n",
       "  </tbody>\n",
       "</table>\n",
       "</div>"
      ],
      "text/plain": [
       "   class index    title  \\\n",
       "2            5  Love it   \n",
       "\n",
       "                                                                                                                                                                                  text  \\\n",
       "2  For the price, its unbelievable. I usually have it on low so its not too noisy, but high isn't that noisy either. Kinda wish it had a medium setting but all in all VERY satisfied.   \n",
       "\n",
       "                                                                                                                                                                                                                                                                                                                                                                                                                                                text TokenTag  \\\n",
       "2  [(For, IN), (the, DT), (price, NN), (its, PRP$), (unbelievable, JJ), (I, PRP), (usually, RB), (have, VBP), (it, PRP), (on, IN), (low, JJ), (so, RB), (its, PRP$), (not, RB), (too, RB), (noisy, JJ), (but, CC), (high, JJ), (isn, NN), (t, NN), (that, WDT), (noisy, VBZ), (either, CC), (Kinda, NNP), (wish, VB), (it, PRP), (had, VBD), (a, DT), (medium, NN), (setting, VBG), (but, CC), (all, DT), (in, IN), (all, DT), (VERY, NNP), (satisfied, VBD)]   \n",
       "\n",
       "                                                  adjetives  \\\n",
       "2  [(unbelievable, JJ), (low, JJ), (noisy, JJ), (high, JJ)]   \n",
       "\n",
       "                                                                                                                                                                                                                                 valencias  \\\n",
       "2  [{'neg': 0.0, 'neu': 0.0, 'pos': 1.0, 'compound': 0.2023}, {'neg': 1.0, 'neu': 0.0, 'pos': 0.0, 'compound': -0.2732}, {'neg': 1.0, 'neu': 0.0, 'pos': 0.0, 'compound': -0.1779}, {'neg': 0.0, 'neu': 1.0, 'pos': 0.0, 'compound': 0.0}]   \n",
       "\n",
       "   sum compound            class  \n",
       "2       -0.2488  {'Negativo': 0}  "
      ]
     },
     "execution_count": 38,
     "metadata": {},
     "output_type": "execute_result"
    }
   ],
   "source": [
    "amazon_sample_3000[2:3]"
   ]
  },
  {
   "cell_type": "code",
   "execution_count": 39,
   "metadata": {},
   "outputs": [
    {
     "data": {
      "text/html": [
       "<div>\n",
       "<style scoped>\n",
       "    .dataframe tbody tr th:only-of-type {\n",
       "        vertical-align: middle;\n",
       "    }\n",
       "\n",
       "    .dataframe tbody tr th {\n",
       "        vertical-align: top;\n",
       "    }\n",
       "\n",
       "    .dataframe thead th {\n",
       "        text-align: right;\n",
       "    }\n",
       "</style>\n",
       "<table border=\"1\" class=\"dataframe\">\n",
       "  <thead>\n",
       "    <tr style=\"text-align: right;\">\n",
       "      <th></th>\n",
       "      <th>adjetives</th>\n",
       "    </tr>\n",
       "  </thead>\n",
       "  <tbody>\n",
       "    <tr>\n",
       "      <th>2</th>\n",
       "      <td>[(unbelievable, JJ), (low, JJ), (noisy, JJ), (high, JJ)]</td>\n",
       "    </tr>\n",
       "  </tbody>\n",
       "</table>\n",
       "</div>"
      ],
      "text/plain": [
       "                                                  adjetives\n",
       "2  [(unbelievable, JJ), (low, JJ), (noisy, JJ), (high, JJ)]"
      ]
     },
     "execution_count": 39,
     "metadata": {},
     "output_type": "execute_result"
    }
   ],
   "source": [
    "amazon_sample_3000[['adjetives']][2:3]"
   ]
  },
  {
   "cell_type": "code",
   "execution_count": 40,
   "metadata": {},
   "outputs": [
    {
     "data": {
      "text/plain": [
       "2    [{'neg': 0.0, 'neu': 0.0, 'pos': 1.0, 'compound': 0.2023}, {'neg': 1.0, 'neu': 0.0, 'pos': 0.0, 'compound': -0.2732}, {'neg': 1.0, 'neu': 0.0, 'pos': 0.0, 'compound': -0.1779}, {'neg': 0.0, 'neu': 1.0, 'pos': 0.0, 'compound': 0.0}]\n",
       "Name: valencias, dtype: object"
      ]
     },
     "execution_count": 40,
     "metadata": {},
     "output_type": "execute_result"
    }
   ],
   "source": [
    "amazon_sample_3000['valencias'][2:3]"
   ]
  },
  {
   "cell_type": "code",
   "execution_count": 41,
   "metadata": {},
   "outputs": [
    {
     "data": {
      "text/html": [
       "<div>\n",
       "<style scoped>\n",
       "    .dataframe tbody tr th:only-of-type {\n",
       "        vertical-align: middle;\n",
       "    }\n",
       "\n",
       "    .dataframe tbody tr th {\n",
       "        vertical-align: top;\n",
       "    }\n",
       "\n",
       "    .dataframe thead th {\n",
       "        text-align: right;\n",
       "    }\n",
       "</style>\n",
       "<table border=\"1\" class=\"dataframe\">\n",
       "  <thead>\n",
       "    <tr style=\"text-align: right;\">\n",
       "      <th></th>\n",
       "      <th>sum compound</th>\n",
       "      <th>class</th>\n",
       "    </tr>\n",
       "  </thead>\n",
       "  <tbody>\n",
       "    <tr>\n",
       "      <th>2</th>\n",
       "      <td>-0.2488</td>\n",
       "      <td>{'Negativo': 0}</td>\n",
       "    </tr>\n",
       "  </tbody>\n",
       "</table>\n",
       "</div>"
      ],
      "text/plain": [
       "   sum compound            class\n",
       "2       -0.2488  {'Negativo': 0}"
      ]
     },
     "execution_count": 41,
     "metadata": {},
     "output_type": "execute_result"
    }
   ],
   "source": [
    "amazon_sample_3000[['sum compound','class']][2:3]"
   ]
  },
  {
   "cell_type": "markdown",
   "metadata": {},
   "source": [
    "Ahora un review con 2 estrellas que leyendolo podriamos decir que sera negativo, notamos que nuestro modelo se queda corto: "
   ]
  },
  {
   "cell_type": "code",
   "execution_count": 42,
   "metadata": {},
   "outputs": [
    {
     "data": {
      "text/html": [
       "<div>\n",
       "<style scoped>\n",
       "    .dataframe tbody tr th:only-of-type {\n",
       "        vertical-align: middle;\n",
       "    }\n",
       "\n",
       "    .dataframe tbody tr th {\n",
       "        vertical-align: top;\n",
       "    }\n",
       "\n",
       "    .dataframe thead th {\n",
       "        text-align: right;\n",
       "    }\n",
       "</style>\n",
       "<table border=\"1\" class=\"dataframe\">\n",
       "  <thead>\n",
       "    <tr style=\"text-align: right;\">\n",
       "      <th></th>\n",
       "      <th>class index</th>\n",
       "      <th>title</th>\n",
       "      <th>text</th>\n",
       "      <th>text TokenTag</th>\n",
       "      <th>adjetives</th>\n",
       "      <th>valencias</th>\n",
       "      <th>sum compound</th>\n",
       "      <th>class</th>\n",
       "    </tr>\n",
       "  </thead>\n",
       "  <tbody>\n",
       "    <tr>\n",
       "      <th>9</th>\n",
       "      <td>2</td>\n",
       "      <td>I was suprised that the songs from key moments were gone.</td>\n",
       "      <td>I really was suprised that my favorite songs from the key moments of the show were missing. Like \"Kiss the rain\" by Billie Myers when Dawson and Joey make up, and \"Say goodnight\" by Beth Neilsen Chapman at the end of season 1 when Dawson and Joey kiss. Overall I had not heard of 80% of the songs on the cd. Even though I am a hardcore show fanatic, I opted not to buy the so-called \"soundtrack\" Scott Engle, 14 Belleville, KS</td>\n",
       "      <td>[(I, PRP), (really, RB), (was, VBD), (suprised, VBN), (that, IN), (my, PRP$), (favorite, JJ), (songs, NNS), (from, IN), (the, DT), (key, JJ), (moments, NNS), (of, IN), (the, DT), (show, NN), (were, VBD), (missing, VBG), (Like, IN), (Kiss, NNP), (the, DT), (rain, NN), (by, IN), (Billie, NNP), (Myers, NNP), (when, WRB), (Dawson, NNP), (and, CC), (Joey, NNP), (make, VBP), (up, RP), (and, CC), (Say, NNP), (goodnight, NN), (by, IN), (Beth, NNP), (Neilsen, NNP), (Chapman, NNP), (at, IN), (the, DT), (end, NN), (of, IN), (season, NN), (1, CD), (when, WRB), (Dawson, NNP), (and, CC), (Joey, NNP), (k...</td>\n",
       "      <td>[(favorite, JJ), (key, JJ), (Overall, JJ), (fanatic, JJ), (called, JJ)]</td>\n",
       "      <td>[{'neg': 0.0, 'neu': 0.0, 'pos': 1.0, 'compound': 0.4588}, {'neg': 0.0, 'neu': 1.0, 'pos': 0.0, 'compound': 0.0}, {'neg': 0.0, 'neu': 1.0, 'pos': 0.0, 'compound': 0.0}, {'neg': 0.0, 'neu': 1.0, 'pos': 0.0, 'compound': 0.0}, {'neg': 0.0, 'neu': 1.0, 'pos': 0.0, 'compound': 0.0}]</td>\n",
       "      <td>0.4588</td>\n",
       "      <td>{'Positivo': 1}</td>\n",
       "    </tr>\n",
       "  </tbody>\n",
       "</table>\n",
       "</div>"
      ],
      "text/plain": [
       "   class index                                                      title  \\\n",
       "9            2  I was suprised that the songs from key moments were gone.   \n",
       "\n",
       "                                                                                                                                                                                                                                                                                                                                                                                                                                         text  \\\n",
       "9  I really was suprised that my favorite songs from the key moments of the show were missing. Like \"Kiss the rain\" by Billie Myers when Dawson and Joey make up, and \"Say goodnight\" by Beth Neilsen Chapman at the end of season 1 when Dawson and Joey kiss. Overall I had not heard of 80% of the songs on the cd. Even though I am a hardcore show fanatic, I opted not to buy the so-called \"soundtrack\" Scott Engle, 14 Belleville, KS   \n",
       "\n",
       "                                                                                                                                                                                                                                                                                                                                                                                                                                                                                                                                                                                                             text TokenTag  \\\n",
       "9  [(I, PRP), (really, RB), (was, VBD), (suprised, VBN), (that, IN), (my, PRP$), (favorite, JJ), (songs, NNS), (from, IN), (the, DT), (key, JJ), (moments, NNS), (of, IN), (the, DT), (show, NN), (were, VBD), (missing, VBG), (Like, IN), (Kiss, NNP), (the, DT), (rain, NN), (by, IN), (Billie, NNP), (Myers, NNP), (when, WRB), (Dawson, NNP), (and, CC), (Joey, NNP), (make, VBP), (up, RP), (and, CC), (Say, NNP), (goodnight, NN), (by, IN), (Beth, NNP), (Neilsen, NNP), (Chapman, NNP), (at, IN), (the, DT), (end, NN), (of, IN), (season, NN), (1, CD), (when, WRB), (Dawson, NNP), (and, CC), (Joey, NNP), (k...   \n",
       "\n",
       "                                                                 adjetives  \\\n",
       "9  [(favorite, JJ), (key, JJ), (Overall, JJ), (fanatic, JJ), (called, JJ)]   \n",
       "\n",
       "                                                                                                                                                                                                                                                                                valencias  \\\n",
       "9  [{'neg': 0.0, 'neu': 0.0, 'pos': 1.0, 'compound': 0.4588}, {'neg': 0.0, 'neu': 1.0, 'pos': 0.0, 'compound': 0.0}, {'neg': 0.0, 'neu': 1.0, 'pos': 0.0, 'compound': 0.0}, {'neg': 0.0, 'neu': 1.0, 'pos': 0.0, 'compound': 0.0}, {'neg': 0.0, 'neu': 1.0, 'pos': 0.0, 'compound': 0.0}]   \n",
       "\n",
       "   sum compound            class  \n",
       "9        0.4588  {'Positivo': 1}  "
      ]
     },
     "execution_count": 42,
     "metadata": {},
     "output_type": "execute_result"
    }
   ],
   "source": [
    "amazon_sample_3000[9:10]"
   ]
  },
  {
   "cell_type": "code",
   "execution_count": 43,
   "metadata": {},
   "outputs": [
    {
     "data": {
      "text/html": [
       "<div>\n",
       "<style scoped>\n",
       "    .dataframe tbody tr th:only-of-type {\n",
       "        vertical-align: middle;\n",
       "    }\n",
       "\n",
       "    .dataframe tbody tr th {\n",
       "        vertical-align: top;\n",
       "    }\n",
       "\n",
       "    .dataframe thead th {\n",
       "        text-align: right;\n",
       "    }\n",
       "</style>\n",
       "<table border=\"1\" class=\"dataframe\">\n",
       "  <thead>\n",
       "    <tr style=\"text-align: right;\">\n",
       "      <th></th>\n",
       "      <th>adjetives</th>\n",
       "    </tr>\n",
       "  </thead>\n",
       "  <tbody>\n",
       "    <tr>\n",
       "      <th>9</th>\n",
       "      <td>[(favorite, JJ), (key, JJ), (Overall, JJ), (fanatic, JJ), (called, JJ)]</td>\n",
       "    </tr>\n",
       "  </tbody>\n",
       "</table>\n",
       "</div>"
      ],
      "text/plain": [
       "                                                                 adjetives\n",
       "9  [(favorite, JJ), (key, JJ), (Overall, JJ), (fanatic, JJ), (called, JJ)]"
      ]
     },
     "execution_count": 43,
     "metadata": {},
     "output_type": "execute_result"
    }
   ],
   "source": [
    "amazon_sample_3000[['adjetives']][9:10]"
   ]
  },
  {
   "cell_type": "code",
   "execution_count": 44,
   "metadata": {},
   "outputs": [
    {
     "data": {
      "text/plain": [
       "9    [{'neg': 0.0, 'neu': 0.0, 'pos': 1.0, 'compound': 0.4588}, {'neg': 0.0, 'neu': 1.0, 'pos': 0.0, 'compound': 0.0}, {'neg': 0.0, 'neu': 1.0, 'pos': 0.0, 'compound': 0.0}, {'neg': 0.0, 'neu': 1.0, 'pos': 0.0, 'compound': 0.0}, {'neg': 0.0, 'neu': 1.0, 'pos': 0.0, 'compound': 0.0}]\n",
       "Name: valencias, dtype: object"
      ]
     },
     "execution_count": 44,
     "metadata": {},
     "output_type": "execute_result"
    }
   ],
   "source": [
    "amazon_sample_3000['valencias'][9:10]"
   ]
  },
  {
   "cell_type": "code",
   "execution_count": 45,
   "metadata": {},
   "outputs": [
    {
     "data": {
      "text/html": [
       "<div>\n",
       "<style scoped>\n",
       "    .dataframe tbody tr th:only-of-type {\n",
       "        vertical-align: middle;\n",
       "    }\n",
       "\n",
       "    .dataframe tbody tr th {\n",
       "        vertical-align: top;\n",
       "    }\n",
       "\n",
       "    .dataframe thead th {\n",
       "        text-align: right;\n",
       "    }\n",
       "</style>\n",
       "<table border=\"1\" class=\"dataframe\">\n",
       "  <thead>\n",
       "    <tr style=\"text-align: right;\">\n",
       "      <th></th>\n",
       "      <th>sum compound</th>\n",
       "      <th>class</th>\n",
       "    </tr>\n",
       "  </thead>\n",
       "  <tbody>\n",
       "    <tr>\n",
       "      <th>9</th>\n",
       "      <td>0.4588</td>\n",
       "      <td>{'Positivo': 1}</td>\n",
       "    </tr>\n",
       "  </tbody>\n",
       "</table>\n",
       "</div>"
      ],
      "text/plain": [
       "   sum compound            class\n",
       "9        0.4588  {'Positivo': 1}"
      ]
     },
     "execution_count": 45,
     "metadata": {},
     "output_type": "execute_result"
    }
   ],
   "source": [
    "amazon_sample_3000[['sum compound','class']][9:10]"
   ]
  },
  {
   "cell_type": "markdown",
   "metadata": {},
   "source": [
    "# ¿Como evaluamos nuestro modelo?"
   ]
  },
  {
   "cell_type": "markdown",
   "metadata": {},
   "source": [
    "Vamos a clasificar ahora en base a la columna _class index_ que es la cantidad de estrellas (1 a 5) que se le asignó al producto por el usuario, para después hacer comparaciones y evaluar la clasificación con el modelo de análisis de sentimientos, tomando en cuenta el siguiente criterio:\n",
    "\n",
    "Siendo $x$ el valor de la coulmna _class index_:\n",
    "- Si $x > 3$ estrellas, clasificar como __positivo__\n",
    "- Si $x <= 3$ estrellas, clasificar como __negativo__"
   ]
  },
  {
   "cell_type": "code",
   "execution_count": 46,
   "metadata": {},
   "outputs": [],
   "source": [
    "amazon_sample_3000['star class'] = np.where((amazon_sample_3000['class index'] > 3), {'Positivo':1}, {'Negativo':0})"
   ]
  },
  {
   "cell_type": "code",
   "execution_count": 47,
   "metadata": {},
   "outputs": [
    {
     "data": {
      "text/html": [
       "<div>\n",
       "<style scoped>\n",
       "    .dataframe tbody tr th:only-of-type {\n",
       "        vertical-align: middle;\n",
       "    }\n",
       "\n",
       "    .dataframe tbody tr th {\n",
       "        vertical-align: top;\n",
       "    }\n",
       "\n",
       "    .dataframe thead th {\n",
       "        text-align: right;\n",
       "    }\n",
       "</style>\n",
       "<table border=\"1\" class=\"dataframe\">\n",
       "  <thead>\n",
       "    <tr style=\"text-align: right;\">\n",
       "      <th></th>\n",
       "      <th>class index</th>\n",
       "      <th>title</th>\n",
       "      <th>text</th>\n",
       "      <th>text TokenTag</th>\n",
       "      <th>adjetives</th>\n",
       "      <th>valencias</th>\n",
       "      <th>sum compound</th>\n",
       "      <th>class</th>\n",
       "      <th>star class</th>\n",
       "    </tr>\n",
       "  </thead>\n",
       "  <tbody>\n",
       "    <tr>\n",
       "      <th>0</th>\n",
       "      <td>2</td>\n",
       "      <td>Promises to Keep</td>\n",
       "      <td>I was disappointed in the condition of this book. It has mildew on the pages and has been wet at some point.</td>\n",
       "      <td>[(I, PRP), (was, VBD), (disappointed, VBN), (in, IN), (the, DT), (condition, NN), (of, IN), (this, DT), (book, NN), (It, PRP), (has, VBZ), (mildew, VBN), (on, IN), (the, DT), (pages, NNS), (and, CC), (has, VBZ), (been, VBN), (wet, VBN), (at, IN), (some, DT), (point, NN)]</td>\n",
       "      <td>[Review no tiene adjetivos]</td>\n",
       "      <td>[{'neg': 0.0, 'neu': 0.0, 'pos': 0.0, 'compound': 0.0}]</td>\n",
       "      <td>0.0000</td>\n",
       "      <td>{'Negativo': 0}</td>\n",
       "      <td>{'Negativo': 0}</td>\n",
       "    </tr>\n",
       "    <tr>\n",
       "      <th>1</th>\n",
       "      <td>3</td>\n",
       "      <td>limp software</td>\n",
       "      <td>Conveniences:Exporting maps to PDA.It's there when the internet goes down.Inconveniences:Major roads are often only listed at SR-23423 or some other technical name. While this might be cartologically indisputable, the rest of the world, including businesses, street signs, and locals use something called \"street names\", like \"Lawrenceville Hwy\" or \"Apple Avenue\" or whatever. This renders the program unusable in certain circumstances. Thus, I find myself constantly using yahoo and google to find addresses in Atlanta.I don't know if the 2007 ver has updated anything about New York City, but e...</td>\n",
       "      <td>[(Conveniences, NNS), (Exporting, VBG), (maps, NNS), (to, TO), (PDA, VB), (It, PRP), (s, PRP), (there, RB), (when, WRB), (the, DT), (internet, NN), (goes, VBZ), (down, RB), (Inconveniences, NNP), (Major, NNP), (roads, NNS), (are, VBP), (often, RB), (only, RB), (listed, VBN), (at, IN), (SR, NNP), (23423, CD), (or, CC), (some, DT), (other, JJ), (technical, JJ), (name, NN), (While, IN), (this, DT), (might, MD), (be, VB), (cartologically, RB), (indisputable, JJ), (the, DT), (rest, NN), (of, IN), (the, DT), (world, NN), (including, VBG), (businesses, NNS), (street, NN), (signs, NNS), (and, CC),...</td>\n",
       "      <td>[(other, JJ), (technical, JJ), (indisputable, JJ), (unusable, JJ), (certain, JJ), (downright, JJ), (useless, JJ), (reasonable, JJ), (local, JJ)]</td>\n",
       "      <td>[{'neg': 0.0, 'neu': 1.0, 'pos': 0.0, 'compound': 0.0}, {'neg': 0.0, 'neu': 1.0, 'pos': 0.0, 'compound': 0.0}, {'neg': 0.0, 'neu': 1.0, 'pos': 0.0, 'compound': 0.0}, {'neg': 0.0, 'neu': 1.0, 'pos': 0.0, 'compound': 0.0}, {'neg': 0.0, 'neu': 0.0, 'pos': 1.0, 'compound': 0.2732}, {'neg': 0.0, 'neu': 1.0, 'pos': 0.0, 'compound': 0.0}, {'neg': 1.0, 'neu': 0.0, 'pos': 0.0, 'compound': -0.4215}, {'neg': 0.0, 'neu': 1.0, 'pos': 0.0, 'compound': 0.0}, {'neg': 0.0, 'neu': 1.0, 'pos': 0.0, 'compound': 0.0}]</td>\n",
       "      <td>-0.1483</td>\n",
       "      <td>{'Negativo': 0}</td>\n",
       "      <td>{'Negativo': 0}</td>\n",
       "    </tr>\n",
       "    <tr>\n",
       "      <th>2</th>\n",
       "      <td>5</td>\n",
       "      <td>Love it</td>\n",
       "      <td>For the price, its unbelievable. I usually have it on low so its not too noisy, but high isn't that noisy either. Kinda wish it had a medium setting but all in all VERY satisfied.</td>\n",
       "      <td>[(For, IN), (the, DT), (price, NN), (its, PRP$), (unbelievable, JJ), (I, PRP), (usually, RB), (have, VBP), (it, PRP), (on, IN), (low, JJ), (so, RB), (its, PRP$), (not, RB), (too, RB), (noisy, JJ), (but, CC), (high, JJ), (isn, NN), (t, NN), (that, WDT), (noisy, VBZ), (either, CC), (Kinda, NNP), (wish, VB), (it, PRP), (had, VBD), (a, DT), (medium, NN), (setting, VBG), (but, CC), (all, DT), (in, IN), (all, DT), (VERY, NNP), (satisfied, VBD)]</td>\n",
       "      <td>[(unbelievable, JJ), (low, JJ), (noisy, JJ), (high, JJ)]</td>\n",
       "      <td>[{'neg': 0.0, 'neu': 0.0, 'pos': 1.0, 'compound': 0.2023}, {'neg': 1.0, 'neu': 0.0, 'pos': 0.0, 'compound': -0.2732}, {'neg': 1.0, 'neu': 0.0, 'pos': 0.0, 'compound': -0.1779}, {'neg': 0.0, 'neu': 1.0, 'pos': 0.0, 'compound': 0.0}]</td>\n",
       "      <td>-0.2488</td>\n",
       "      <td>{'Negativo': 0}</td>\n",
       "      <td>{'Positivo': 1}</td>\n",
       "    </tr>\n",
       "    <tr>\n",
       "      <th>3</th>\n",
       "      <td>1</td>\n",
       "      <td>Walk the halls?</td>\n",
       "      <td>I was very disappointed when I read this book. I was hoping to read cutting-edge research on leadership supported by personal experiences. However, what I got was a book full of personal anecdotes. Do I really need to pay someone $25 to tell me to build a rapport with my teachers and students? Walk the halls? Isn't that just common sense? Waste of time and money</td>\n",
       "      <td>[(I, PRP), (was, VBD), (very, RB), (disappointed, JJ), (when, WRB), (I, PRP), (read, VBP), (this, DT), (book, NN), (I, PRP), (was, VBD), (hoping, VBG), (to, TO), (read, VB), (cutting, VBG), (edge, JJ), (research, NN), (on, IN), (leadership, NN), (supported, VBN), (by, IN), (personal, JJ), (experiences, NNS), (However, RB), (what, WP), (I, PRP), (got, VBD), (was, VBD), (a, DT), (book, NN), (full, JJ), (of, IN), (personal, JJ), (anecdotes, NNS), (Do, VBP), (I, PRP), (really, RB), (need, VBP), (to, TO), (pay, VB), (someone, NN), (25, CD), (to, TO), (tell, VB), (me, PRP), (to, TO), (build, VB)...</td>\n",
       "      <td>[(disappointed, JJ), (edge, JJ), (personal, JJ), (full, JJ), (personal, JJ), (common, JJ)]</td>\n",
       "      <td>[{'neg': 1.0, 'neu': 0.0, 'pos': 0.0, 'compound': -0.4767}, {'neg': 0.0, 'neu': 1.0, 'pos': 0.0, 'compound': 0.0}, {'neg': 0.0, 'neu': 1.0, 'pos': 0.0, 'compound': 0.0}, {'neg': 0.0, 'neu': 1.0, 'pos': 0.0, 'compound': 0.0}, {'neg': 0.0, 'neu': 1.0, 'pos': 0.0, 'compound': 0.0}, {'neg': 0.0, 'neu': 1.0, 'pos': 0.0, 'compound': 0.0}]</td>\n",
       "      <td>-0.4767</td>\n",
       "      <td>{'Negativo': 0}</td>\n",
       "      <td>{'Negativo': 0}</td>\n",
       "    </tr>\n",
       "    <tr>\n",
       "      <th>4</th>\n",
       "      <td>3</td>\n",
       "      <td>beware</td>\n",
       "      <td>This album is OK if you like jazzy, 60's, very perky lounge group-vocals like Lambert, Hendricks and Ross and the groups one used to hear on 60's TV variety shows, but it is very definately not like the Salvador of \"Chambre avec Vue.\"</td>\n",
       "      <td>[(This, DT), (album, NN), (is, VBZ), (OK, JJ), (if, IN), (you, PRP), (like, VBP), (jazzy, JJ), (60, CD), (s, JJ), (very, RB), (perky, JJ), (lounge, NN), (group, NN), (vocals, NNS), (like, IN), (Lambert, NNP), (Hendricks, NNP), (and, CC), (Ross, NNP), (and, CC), (the, DT), (groups, NNS), (one, CD), (used, VBN), (to, TO), (hear, VB), (on, IN), (60, CD), (s, JJ), (TV, NN), (variety, NN), (shows, NNS), (but, CC), (it, PRP), (is, VBZ), (very, RB), (definately, RB), (not, RB), (like, IN), (the, DT), (Salvador, NNP), (of, IN), (Chambre, NNP), (avec, FW), (Vue, NNP)]</td>\n",
       "      <td>[(OK, JJ), (jazzy, JJ), (s, JJ), (perky, JJ), (s, JJ)]</td>\n",
       "      <td>[{'neg': 0.0, 'neu': 0.0, 'pos': 1.0, 'compound': 0.296}, {'neg': 0.0, 'neu': 1.0, 'pos': 0.0, 'compound': 0.0}, {'neg': 0.0, 'neu': 0.0, 'pos': 0.0, 'compound': 0.0}, {'neg': 0.0, 'neu': 1.0, 'pos': 0.0, 'compound': 0.0}, {'neg': 0.0, 'neu': 0.0, 'pos': 0.0, 'compound': 0.0}]</td>\n",
       "      <td>0.2960</td>\n",
       "      <td>{'Positivo': 1}</td>\n",
       "      <td>{'Negativo': 0}</td>\n",
       "    </tr>\n",
       "    <tr>\n",
       "      <th>5</th>\n",
       "      <td>5</td>\n",
       "      <td>Lock, stock, and great</td>\n",
       "      <td>\"Lock, Stock, and Two Smoking Barrels\" is a British crime-fiction film and is a breakout offering by Director Guy Ritchie.The narrative is cleverly constructed and whilst groups of protagonists at first appear to standalone their interaction creates a fantastic series of events.The film contains a terrific cast and many of whom have become very well known since this work such as: Jason Flemyng (as Tom), Dexter Fletcher (plays Soap), Nick Moran (is Eddy), and Jason Statham (plays Bacon).It is quite a treat for viewers as the diversity of the story with its many turns and twists is absorbing...</td>\n",
       "      <td>[(Lock, NNP), (Stock, NNP), (and, CC), (Two, CD), (Smoking, NNP), (Barrels, NNP), (is, VBZ), (a, DT), (British, JJ), (crime, NN), (fiction, NN), (film, NN), (and, CC), (is, VBZ), (a, DT), (breakout, NN), (offering, NN), (by, IN), (Director, NNP), (Guy, NNP), (Ritchie, NNP), (The, DT), (narrative, JJ), (is, VBZ), (cleverly, RB), (constructed, VBN), (and, CC), (whilst, JJ), (groups, NNS), (of, IN), (protagonists, NNS), (at, IN), (first, JJ), (appear, VBP), (to, TO), (standalone, VB), (their, PRP$), (interaction, NN), (creates, VBZ), (a, DT), (fantastic, JJ), (series, NN), (of, IN), (events, ...</td>\n",
       "      <td>[(British, JJ), (narrative, JJ), (whilst, JJ), (first, JJ), (fantastic, JJ), (terrific, JJ), (many, JJ), (such, JJ), (many, JJ), (Australian, JJ)]</td>\n",
       "      <td>[{'neg': 0.0, 'neu': 1.0, 'pos': 0.0, 'compound': 0.0}, {'neg': 0.0, 'neu': 1.0, 'pos': 0.0, 'compound': 0.0}, {'neg': 0.0, 'neu': 1.0, 'pos': 0.0, 'compound': 0.0}, {'neg': 0.0, 'neu': 1.0, 'pos': 0.0, 'compound': 0.0}, {'neg': 0.0, 'neu': 0.0, 'pos': 1.0, 'compound': 0.5574}, {'neg': 0.0, 'neu': 0.0, 'pos': 1.0, 'compound': 0.4767}, {'neg': 0.0, 'neu': 1.0, 'pos': 0.0, 'compound': 0.0}, {'neg': 0.0, 'neu': 1.0, 'pos': 0.0, 'compound': 0.0}, {'neg': 0.0, 'neu': 1.0, 'pos': 0.0, 'compound': 0.0}, {'neg': 0.0, 'neu': 1.0, 'pos': 0.0, 'compound': 0.0}]</td>\n",
       "      <td>1.0341</td>\n",
       "      <td>{'Positivo': 1}</td>\n",
       "      <td>{'Positivo': 1}</td>\n",
       "    </tr>\n",
       "    <tr>\n",
       "      <th>6</th>\n",
       "      <td>5</td>\n",
       "      <td>The King and the Corpse</td>\n",
       "      <td>I usually don't read mythology books straight through, rather use them as reference. As such this book is easy to use. With Joseph Campbell as the editor I feel assured that it is a good rendition of the myths. I found it relevant to specific images I wanted to learn about. Excellent addition to my \"images\" library.</td>\n",
       "      <td>[(I, PRP), (usually, RB), (don, VBP), (t, JJ), (read, VBP), (mythology, NN), (books, NNS), (straight, VBD), (through, IN), (rather, RB), (use, VB), (them, PRP), (as, IN), (reference, NN), (As, IN), (such, JJ), (this, DT), (book, NN), (is, VBZ), (easy, JJ), (to, TO), (use, VB), (With, IN), (Joseph, NNP), (Campbell, NNP), (as, IN), (the, DT), (editor, NN), (I, PRP), (feel, VBP), (assured, VBD), (that, IN), (it, PRP), (is, VBZ), (a, DT), (good, JJ), (rendition, NN), (of, IN), (the, DT), (myths, NNS), (I, PRP), (found, VBD), (it, PRP), (relevant, JJ), (to, TO), (specific, JJ), (images, NNS), (...</td>\n",
       "      <td>[(t, JJ), (such, JJ), (easy, JJ), (good, JJ), (relevant, JJ), (specific, JJ), (Excellent, JJ)]</td>\n",
       "      <td>[{'neg': 0.0, 'neu': 0.0, 'pos': 0.0, 'compound': 0.0}, {'neg': 0.0, 'neu': 1.0, 'pos': 0.0, 'compound': 0.0}, {'neg': 0.0, 'neu': 0.0, 'pos': 1.0, 'compound': 0.4404}, {'neg': 0.0, 'neu': 0.0, 'pos': 1.0, 'compound': 0.4404}, {'neg': 0.0, 'neu': 1.0, 'pos': 0.0, 'compound': 0.0}, {'neg': 0.0, 'neu': 1.0, 'pos': 0.0, 'compound': 0.0}, {'neg': 0.0, 'neu': 0.0, 'pos': 1.0, 'compound': 0.5719}]</td>\n",
       "      <td>1.4527</td>\n",
       "      <td>{'Positivo': 1}</td>\n",
       "      <td>{'Positivo': 1}</td>\n",
       "    </tr>\n",
       "    <tr>\n",
       "      <th>7</th>\n",
       "      <td>2</td>\n",
       "      <td>blitz jewelry cleaner</td>\n",
       "      <td>the cleaner works fine but the jar it comes in is not well made and it is difficult to open and close. It makes a mess every time I use it. The last jar I had was made from better material, but this is just junk!!! I will not purchase this item again.</td>\n",
       "      <td>[(the, DT), (cleaner, NN), (works, VBZ), (fine, JJ), (but, CC), (the, DT), (jar, NN), (it, PRP), (comes, VBZ), (in, IN), (is, VBZ), (not, RB), (well, RB), (made, VBN), (and, CC), (it, PRP), (is, VBZ), (difficult, JJ), (to, TO), (open, VB), (and, CC), (close, VB), (It, PRP), (makes, VBZ), (a, DT), (mess, NN), (every, DT), (time, NN), (I, PRP), (use, VBP), (it, PRP), (The, DT), (last, JJ), (jar, NN), (I, PRP), (had, VBD), (was, VBD), (made, VBN), (from, IN), (better, JJR), (material, NN), (but, CC), (this, DT), (is, VBZ), (just, RB), (junk, NN), (I, PRP), (will, MD), (not, RB), (purchase, VB...</td>\n",
       "      <td>[(fine, JJ), (difficult, JJ), (last, JJ)]</td>\n",
       "      <td>[{'neg': 0.0, 'neu': 0.0, 'pos': 1.0, 'compound': 0.2023}, {'neg': 1.0, 'neu': 0.0, 'pos': 0.0, 'compound': -0.3612}, {'neg': 0.0, 'neu': 1.0, 'pos': 0.0, 'compound': 0.0}]</td>\n",
       "      <td>-0.1589</td>\n",
       "      <td>{'Negativo': 0}</td>\n",
       "      <td>{'Negativo': 0}</td>\n",
       "    </tr>\n",
       "    <tr>\n",
       "      <th>8</th>\n",
       "      <td>1</td>\n",
       "      <td>???</td>\n",
       "      <td>The book was great but the movie was quite disappointing. Really glad I read the book first. Maybe I just expected too much. Really tired of good books being made into poor movies. Another example is Eragon. Highly recommend the book but not the movie.</td>\n",
       "      <td>[(The, DT), (book, NN), (was, VBD), (great, JJ), (but, CC), (the, DT), (movie, NN), (was, VBD), (quite, RB), (disappointing, JJ), (Really, RB), (glad, JJ), (I, PRP), (read, VBP), (the, DT), (book, NN), (first, RB), (Maybe, RB), (I, PRP), (just, RB), (expected, VBD), (too, RB), (much, JJ), (Really, RB), (tired, VBN), (of, IN), (good, JJ), (books, NNS), (being, VBG), (made, VBN), (into, IN), (poor, JJ), (movies, NNS), (Another, DT), (example, NN), (is, VBZ), (Eragon, NNP), (Highly, NNP), (recommend, VBP), (the, DT), (book, NN), (but, CC), (not, RB), (the, DT), (movie, NN)]</td>\n",
       "      <td>[(great, JJ), (disappointing, JJ), (glad, JJ), (much, JJ), (good, JJ), (poor, JJ)]</td>\n",
       "      <td>[{'neg': 0.0, 'neu': 0.0, 'pos': 1.0, 'compound': 0.6249}, {'neg': 1.0, 'neu': 0.0, 'pos': 0.0, 'compound': -0.4939}, {'neg': 0.0, 'neu': 0.0, 'pos': 1.0, 'compound': 0.4588}, {'neg': 0.0, 'neu': 1.0, 'pos': 0.0, 'compound': 0.0}, {'neg': 0.0, 'neu': 0.0, 'pos': 1.0, 'compound': 0.4404}, {'neg': 1.0, 'neu': 0.0, 'pos': 0.0, 'compound': -0.4767}]</td>\n",
       "      <td>0.5535</td>\n",
       "      <td>{'Positivo': 1}</td>\n",
       "      <td>{'Negativo': 0}</td>\n",
       "    </tr>\n",
       "    <tr>\n",
       "      <th>9</th>\n",
       "      <td>2</td>\n",
       "      <td>I was suprised that the songs from key moments were gone.</td>\n",
       "      <td>I really was suprised that my favorite songs from the key moments of the show were missing. Like \"Kiss the rain\" by Billie Myers when Dawson and Joey make up, and \"Say goodnight\" by Beth Neilsen Chapman at the end of season 1 when Dawson and Joey kiss. Overall I had not heard of 80% of the songs on the cd. Even though I am a hardcore show fanatic, I opted not to buy the so-called \"soundtrack\" Scott Engle, 14 Belleville, KS</td>\n",
       "      <td>[(I, PRP), (really, RB), (was, VBD), (suprised, VBN), (that, IN), (my, PRP$), (favorite, JJ), (songs, NNS), (from, IN), (the, DT), (key, JJ), (moments, NNS), (of, IN), (the, DT), (show, NN), (were, VBD), (missing, VBG), (Like, IN), (Kiss, NNP), (the, DT), (rain, NN), (by, IN), (Billie, NNP), (Myers, NNP), (when, WRB), (Dawson, NNP), (and, CC), (Joey, NNP), (make, VBP), (up, RP), (and, CC), (Say, NNP), (goodnight, NN), (by, IN), (Beth, NNP), (Neilsen, NNP), (Chapman, NNP), (at, IN), (the, DT), (end, NN), (of, IN), (season, NN), (1, CD), (when, WRB), (Dawson, NNP), (and, CC), (Joey, NNP), (k...</td>\n",
       "      <td>[(favorite, JJ), (key, JJ), (Overall, JJ), (fanatic, JJ), (called, JJ)]</td>\n",
       "      <td>[{'neg': 0.0, 'neu': 0.0, 'pos': 1.0, 'compound': 0.4588}, {'neg': 0.0, 'neu': 1.0, 'pos': 0.0, 'compound': 0.0}, {'neg': 0.0, 'neu': 1.0, 'pos': 0.0, 'compound': 0.0}, {'neg': 0.0, 'neu': 1.0, 'pos': 0.0, 'compound': 0.0}, {'neg': 0.0, 'neu': 1.0, 'pos': 0.0, 'compound': 0.0}]</td>\n",
       "      <td>0.4588</td>\n",
       "      <td>{'Positivo': 1}</td>\n",
       "      <td>{'Negativo': 0}</td>\n",
       "    </tr>\n",
       "  </tbody>\n",
       "</table>\n",
       "</div>"
      ],
      "text/plain": [
       "   class index                                                      title  \\\n",
       "0            2                                           Promises to Keep   \n",
       "1            3                                              limp software   \n",
       "2            5                                                    Love it   \n",
       "3            1                                            Walk the halls?   \n",
       "4            3                                                     beware   \n",
       "5            5                                     Lock, stock, and great   \n",
       "6            5                                    The King and the Corpse   \n",
       "7            2                                      blitz jewelry cleaner   \n",
       "8            1                                                        ???   \n",
       "9            2  I was suprised that the songs from key moments were gone.   \n",
       "\n",
       "                                                                                                                                                                                                                                                                                                                                                                                                                                                                                                                                                                                                                      text  \\\n",
       "0                                                                                                                                                                                                                                                                                                                                                                                                                                                                                                             I was disappointed in the condition of this book. It has mildew on the pages and has been wet at some point.   \n",
       "1  Conveniences:Exporting maps to PDA.It's there when the internet goes down.Inconveniences:Major roads are often only listed at SR-23423 or some other technical name. While this might be cartologically indisputable, the rest of the world, including businesses, street signs, and locals use something called \"street names\", like \"Lawrenceville Hwy\" or \"Apple Avenue\" or whatever. This renders the program unusable in certain circumstances. Thus, I find myself constantly using yahoo and google to find addresses in Atlanta.I don't know if the 2007 ver has updated anything about New York City, but e...   \n",
       "2                                                                                                                                                                                                                                                                                                                                                                                                                                      For the price, its unbelievable. I usually have it on low so its not too noisy, but high isn't that noisy either. Kinda wish it had a medium setting but all in all VERY satisfied.   \n",
       "3                                                                                                                                                                                                                                             I was very disappointed when I read this book. I was hoping to read cutting-edge research on leadership supported by personal experiences. However, what I got was a book full of personal anecdotes. Do I really need to pay someone $25 to tell me to build a rapport with my teachers and students? Walk the halls? Isn't that just common sense? Waste of time and money   \n",
       "4                                                                                                                                                                                                                                                                                                                                                                               This album is OK if you like jazzy, 60's, very perky lounge group-vocals like Lambert, Hendricks and Ross and the groups one used to hear on 60's TV variety shows, but it is very definately not like the Salvador of \"Chambre avec Vue.\"   \n",
       "5  \"Lock, Stock, and Two Smoking Barrels\" is a British crime-fiction film and is a breakout offering by Director Guy Ritchie.The narrative is cleverly constructed and whilst groups of protagonists at first appear to standalone their interaction creates a fantastic series of events.The film contains a terrific cast and many of whom have become very well known since this work such as: Jason Flemyng (as Tom), Dexter Fletcher (plays Soap), Nick Moran (is Eddy), and Jason Statham (plays Bacon).It is quite a treat for viewers as the diversity of the story with its many turns and twists is absorbing...   \n",
       "6                                                                                                                                                                                                                                                                                            I usually don't read mythology books straight through, rather use them as reference. As such this book is easy to use. With Joseph Campbell as the editor I feel assured that it is a good rendition of the myths. I found it relevant to specific images I wanted to learn about. Excellent addition to my \"images\" library.   \n",
       "7                                                                                                                                                                                                                                                                                                                                                              the cleaner works fine but the jar it comes in is not well made and it is difficult to open and close. It makes a mess every time I use it. The last jar I had was made from better material, but this is just junk!!! I will not purchase this item again.   \n",
       "8                                                                                                                                                                                                                                                                                                                                                             The book was great but the movie was quite disappointing. Really glad I read the book first. Maybe I just expected too much. Really tired of good books being made into poor movies. Another example is Eragon. Highly recommend the book but not the movie.   \n",
       "9                                                                                                                                                                               I really was suprised that my favorite songs from the key moments of the show were missing. Like \"Kiss the rain\" by Billie Myers when Dawson and Joey make up, and \"Say goodnight\" by Beth Neilsen Chapman at the end of season 1 when Dawson and Joey kiss. Overall I had not heard of 80% of the songs on the cd. Even though I am a hardcore show fanatic, I opted not to buy the so-called \"soundtrack\" Scott Engle, 14 Belleville, KS   \n",
       "\n",
       "                                                                                                                                                                                                                                                                                                                                                                                                                                                                                                                                                                                                             text TokenTag  \\\n",
       "0                                                                                                                                                                                                                                                                                                                                          [(I, PRP), (was, VBD), (disappointed, VBN), (in, IN), (the, DT), (condition, NN), (of, IN), (this, DT), (book, NN), (It, PRP), (has, VBZ), (mildew, VBN), (on, IN), (the, DT), (pages, NNS), (and, CC), (has, VBZ), (been, VBN), (wet, VBN), (at, IN), (some, DT), (point, NN)]   \n",
       "1  [(Conveniences, NNS), (Exporting, VBG), (maps, NNS), (to, TO), (PDA, VB), (It, PRP), (s, PRP), (there, RB), (when, WRB), (the, DT), (internet, NN), (goes, VBZ), (down, RB), (Inconveniences, NNP), (Major, NNP), (roads, NNS), (are, VBP), (often, RB), (only, RB), (listed, VBN), (at, IN), (SR, NNP), (23423, CD), (or, CC), (some, DT), (other, JJ), (technical, JJ), (name, NN), (While, IN), (this, DT), (might, MD), (be, VB), (cartologically, RB), (indisputable, JJ), (the, DT), (rest, NN), (of, IN), (the, DT), (world, NN), (including, VBG), (businesses, NNS), (street, NN), (signs, NNS), (and, CC),...   \n",
       "2                                                                                                                                                               [(For, IN), (the, DT), (price, NN), (its, PRP$), (unbelievable, JJ), (I, PRP), (usually, RB), (have, VBP), (it, PRP), (on, IN), (low, JJ), (so, RB), (its, PRP$), (not, RB), (too, RB), (noisy, JJ), (but, CC), (high, JJ), (isn, NN), (t, NN), (that, WDT), (noisy, VBZ), (either, CC), (Kinda, NNP), (wish, VB), (it, PRP), (had, VBD), (a, DT), (medium, NN), (setting, VBG), (but, CC), (all, DT), (in, IN), (all, DT), (VERY, NNP), (satisfied, VBD)]   \n",
       "3  [(I, PRP), (was, VBD), (very, RB), (disappointed, JJ), (when, WRB), (I, PRP), (read, VBP), (this, DT), (book, NN), (I, PRP), (was, VBD), (hoping, VBG), (to, TO), (read, VB), (cutting, VBG), (edge, JJ), (research, NN), (on, IN), (leadership, NN), (supported, VBN), (by, IN), (personal, JJ), (experiences, NNS), (However, RB), (what, WP), (I, PRP), (got, VBD), (was, VBD), (a, DT), (book, NN), (full, JJ), (of, IN), (personal, JJ), (anecdotes, NNS), (Do, VBP), (I, PRP), (really, RB), (need, VBP), (to, TO), (pay, VB), (someone, NN), (25, CD), (to, TO), (tell, VB), (me, PRP), (to, TO), (build, VB)...   \n",
       "4                                    [(This, DT), (album, NN), (is, VBZ), (OK, JJ), (if, IN), (you, PRP), (like, VBP), (jazzy, JJ), (60, CD), (s, JJ), (very, RB), (perky, JJ), (lounge, NN), (group, NN), (vocals, NNS), (like, IN), (Lambert, NNP), (Hendricks, NNP), (and, CC), (Ross, NNP), (and, CC), (the, DT), (groups, NNS), (one, CD), (used, VBN), (to, TO), (hear, VB), (on, IN), (60, CD), (s, JJ), (TV, NN), (variety, NN), (shows, NNS), (but, CC), (it, PRP), (is, VBZ), (very, RB), (definately, RB), (not, RB), (like, IN), (the, DT), (Salvador, NNP), (of, IN), (Chambre, NNP), (avec, FW), (Vue, NNP)]   \n",
       "5  [(Lock, NNP), (Stock, NNP), (and, CC), (Two, CD), (Smoking, NNP), (Barrels, NNP), (is, VBZ), (a, DT), (British, JJ), (crime, NN), (fiction, NN), (film, NN), (and, CC), (is, VBZ), (a, DT), (breakout, NN), (offering, NN), (by, IN), (Director, NNP), (Guy, NNP), (Ritchie, NNP), (The, DT), (narrative, JJ), (is, VBZ), (cleverly, RB), (constructed, VBN), (and, CC), (whilst, JJ), (groups, NNS), (of, IN), (protagonists, NNS), (at, IN), (first, JJ), (appear, VBP), (to, TO), (standalone, VB), (their, PRP$), (interaction, NN), (creates, VBZ), (a, DT), (fantastic, JJ), (series, NN), (of, IN), (events, ...   \n",
       "6  [(I, PRP), (usually, RB), (don, VBP), (t, JJ), (read, VBP), (mythology, NN), (books, NNS), (straight, VBD), (through, IN), (rather, RB), (use, VB), (them, PRP), (as, IN), (reference, NN), (As, IN), (such, JJ), (this, DT), (book, NN), (is, VBZ), (easy, JJ), (to, TO), (use, VB), (With, IN), (Joseph, NNP), (Campbell, NNP), (as, IN), (the, DT), (editor, NN), (I, PRP), (feel, VBP), (assured, VBD), (that, IN), (it, PRP), (is, VBZ), (a, DT), (good, JJ), (rendition, NN), (of, IN), (the, DT), (myths, NNS), (I, PRP), (found, VBD), (it, PRP), (relevant, JJ), (to, TO), (specific, JJ), (images, NNS), (...   \n",
       "7  [(the, DT), (cleaner, NN), (works, VBZ), (fine, JJ), (but, CC), (the, DT), (jar, NN), (it, PRP), (comes, VBZ), (in, IN), (is, VBZ), (not, RB), (well, RB), (made, VBN), (and, CC), (it, PRP), (is, VBZ), (difficult, JJ), (to, TO), (open, VB), (and, CC), (close, VB), (It, PRP), (makes, VBZ), (a, DT), (mess, NN), (every, DT), (time, NN), (I, PRP), (use, VBP), (it, PRP), (The, DT), (last, JJ), (jar, NN), (I, PRP), (had, VBD), (was, VBD), (made, VBN), (from, IN), (better, JJR), (material, NN), (but, CC), (this, DT), (is, VBZ), (just, RB), (junk, NN), (I, PRP), (will, MD), (not, RB), (purchase, VB...   \n",
       "8                        [(The, DT), (book, NN), (was, VBD), (great, JJ), (but, CC), (the, DT), (movie, NN), (was, VBD), (quite, RB), (disappointing, JJ), (Really, RB), (glad, JJ), (I, PRP), (read, VBP), (the, DT), (book, NN), (first, RB), (Maybe, RB), (I, PRP), (just, RB), (expected, VBD), (too, RB), (much, JJ), (Really, RB), (tired, VBN), (of, IN), (good, JJ), (books, NNS), (being, VBG), (made, VBN), (into, IN), (poor, JJ), (movies, NNS), (Another, DT), (example, NN), (is, VBZ), (Eragon, NNP), (Highly, NNP), (recommend, VBP), (the, DT), (book, NN), (but, CC), (not, RB), (the, DT), (movie, NN)]   \n",
       "9  [(I, PRP), (really, RB), (was, VBD), (suprised, VBN), (that, IN), (my, PRP$), (favorite, JJ), (songs, NNS), (from, IN), (the, DT), (key, JJ), (moments, NNS), (of, IN), (the, DT), (show, NN), (were, VBD), (missing, VBG), (Like, IN), (Kiss, NNP), (the, DT), (rain, NN), (by, IN), (Billie, NNP), (Myers, NNP), (when, WRB), (Dawson, NNP), (and, CC), (Joey, NNP), (make, VBP), (up, RP), (and, CC), (Say, NNP), (goodnight, NN), (by, IN), (Beth, NNP), (Neilsen, NNP), (Chapman, NNP), (at, IN), (the, DT), (end, NN), (of, IN), (season, NN), (1, CD), (when, WRB), (Dawson, NNP), (and, CC), (Joey, NNP), (k...   \n",
       "\n",
       "                                                                                                                                            adjetives  \\\n",
       "0                                                                                                                         [Review no tiene adjetivos]   \n",
       "1    [(other, JJ), (technical, JJ), (indisputable, JJ), (unusable, JJ), (certain, JJ), (downright, JJ), (useless, JJ), (reasonable, JJ), (local, JJ)]   \n",
       "2                                                                                            [(unbelievable, JJ), (low, JJ), (noisy, JJ), (high, JJ)]   \n",
       "3                                                          [(disappointed, JJ), (edge, JJ), (personal, JJ), (full, JJ), (personal, JJ), (common, JJ)]   \n",
       "4                                                                                              [(OK, JJ), (jazzy, JJ), (s, JJ), (perky, JJ), (s, JJ)]   \n",
       "5  [(British, JJ), (narrative, JJ), (whilst, JJ), (first, JJ), (fantastic, JJ), (terrific, JJ), (many, JJ), (such, JJ), (many, JJ), (Australian, JJ)]   \n",
       "6                                                      [(t, JJ), (such, JJ), (easy, JJ), (good, JJ), (relevant, JJ), (specific, JJ), (Excellent, JJ)]   \n",
       "7                                                                                                           [(fine, JJ), (difficult, JJ), (last, JJ)]   \n",
       "8                                                                  [(great, JJ), (disappointing, JJ), (glad, JJ), (much, JJ), (good, JJ), (poor, JJ)]   \n",
       "9                                                                             [(favorite, JJ), (key, JJ), (Overall, JJ), (fanatic, JJ), (called, JJ)]   \n",
       "\n",
       "                                                                                                                                                                                                                                                                                                                                                                                                                                                                                                                                                                      valencias  \\\n",
       "0                                                                                                                                                                                                                                                                                                                                                                                                                                                                                                                       [{'neg': 0.0, 'neu': 0.0, 'pos': 0.0, 'compound': 0.0}]   \n",
       "1                                                        [{'neg': 0.0, 'neu': 1.0, 'pos': 0.0, 'compound': 0.0}, {'neg': 0.0, 'neu': 1.0, 'pos': 0.0, 'compound': 0.0}, {'neg': 0.0, 'neu': 1.0, 'pos': 0.0, 'compound': 0.0}, {'neg': 0.0, 'neu': 1.0, 'pos': 0.0, 'compound': 0.0}, {'neg': 0.0, 'neu': 0.0, 'pos': 1.0, 'compound': 0.2732}, {'neg': 0.0, 'neu': 1.0, 'pos': 0.0, 'compound': 0.0}, {'neg': 1.0, 'neu': 0.0, 'pos': 0.0, 'compound': -0.4215}, {'neg': 0.0, 'neu': 1.0, 'pos': 0.0, 'compound': 0.0}, {'neg': 0.0, 'neu': 1.0, 'pos': 0.0, 'compound': 0.0}]   \n",
       "2                                                                                                                                                                                                                                                                                                                                       [{'neg': 0.0, 'neu': 0.0, 'pos': 1.0, 'compound': 0.2023}, {'neg': 1.0, 'neu': 0.0, 'pos': 0.0, 'compound': -0.2732}, {'neg': 1.0, 'neu': 0.0, 'pos': 0.0, 'compound': -0.1779}, {'neg': 0.0, 'neu': 1.0, 'pos': 0.0, 'compound': 0.0}]   \n",
       "3                                                                                                                                                                                                                                [{'neg': 1.0, 'neu': 0.0, 'pos': 0.0, 'compound': -0.4767}, {'neg': 0.0, 'neu': 1.0, 'pos': 0.0, 'compound': 0.0}, {'neg': 0.0, 'neu': 1.0, 'pos': 0.0, 'compound': 0.0}, {'neg': 0.0, 'neu': 1.0, 'pos': 0.0, 'compound': 0.0}, {'neg': 0.0, 'neu': 1.0, 'pos': 0.0, 'compound': 0.0}, {'neg': 0.0, 'neu': 1.0, 'pos': 0.0, 'compound': 0.0}]   \n",
       "4                                                                                                                                                                                                                                                                                         [{'neg': 0.0, 'neu': 0.0, 'pos': 1.0, 'compound': 0.296}, {'neg': 0.0, 'neu': 1.0, 'pos': 0.0, 'compound': 0.0}, {'neg': 0.0, 'neu': 0.0, 'pos': 0.0, 'compound': 0.0}, {'neg': 0.0, 'neu': 1.0, 'pos': 0.0, 'compound': 0.0}, {'neg': 0.0, 'neu': 0.0, 'pos': 0.0, 'compound': 0.0}]   \n",
       "5  [{'neg': 0.0, 'neu': 1.0, 'pos': 0.0, 'compound': 0.0}, {'neg': 0.0, 'neu': 1.0, 'pos': 0.0, 'compound': 0.0}, {'neg': 0.0, 'neu': 1.0, 'pos': 0.0, 'compound': 0.0}, {'neg': 0.0, 'neu': 1.0, 'pos': 0.0, 'compound': 0.0}, {'neg': 0.0, 'neu': 0.0, 'pos': 1.0, 'compound': 0.5574}, {'neg': 0.0, 'neu': 0.0, 'pos': 1.0, 'compound': 0.4767}, {'neg': 0.0, 'neu': 1.0, 'pos': 0.0, 'compound': 0.0}, {'neg': 0.0, 'neu': 1.0, 'pos': 0.0, 'compound': 0.0}, {'neg': 0.0, 'neu': 1.0, 'pos': 0.0, 'compound': 0.0}, {'neg': 0.0, 'neu': 1.0, 'pos': 0.0, 'compound': 0.0}]   \n",
       "6                                                                                                                                                                    [{'neg': 0.0, 'neu': 0.0, 'pos': 0.0, 'compound': 0.0}, {'neg': 0.0, 'neu': 1.0, 'pos': 0.0, 'compound': 0.0}, {'neg': 0.0, 'neu': 0.0, 'pos': 1.0, 'compound': 0.4404}, {'neg': 0.0, 'neu': 0.0, 'pos': 1.0, 'compound': 0.4404}, {'neg': 0.0, 'neu': 1.0, 'pos': 0.0, 'compound': 0.0}, {'neg': 0.0, 'neu': 1.0, 'pos': 0.0, 'compound': 0.0}, {'neg': 0.0, 'neu': 0.0, 'pos': 1.0, 'compound': 0.5719}]   \n",
       "7                                                                                                                                                                                                                                                                                                                                                                                                  [{'neg': 0.0, 'neu': 0.0, 'pos': 1.0, 'compound': 0.2023}, {'neg': 1.0, 'neu': 0.0, 'pos': 0.0, 'compound': -0.3612}, {'neg': 0.0, 'neu': 1.0, 'pos': 0.0, 'compound': 0.0}]   \n",
       "8                                                                                                                                                                                                                   [{'neg': 0.0, 'neu': 0.0, 'pos': 1.0, 'compound': 0.6249}, {'neg': 1.0, 'neu': 0.0, 'pos': 0.0, 'compound': -0.4939}, {'neg': 0.0, 'neu': 0.0, 'pos': 1.0, 'compound': 0.4588}, {'neg': 0.0, 'neu': 1.0, 'pos': 0.0, 'compound': 0.0}, {'neg': 0.0, 'neu': 0.0, 'pos': 1.0, 'compound': 0.4404}, {'neg': 1.0, 'neu': 0.0, 'pos': 0.0, 'compound': -0.4767}]   \n",
       "9                                                                                                                                                                                                                                                                                        [{'neg': 0.0, 'neu': 0.0, 'pos': 1.0, 'compound': 0.4588}, {'neg': 0.0, 'neu': 1.0, 'pos': 0.0, 'compound': 0.0}, {'neg': 0.0, 'neu': 1.0, 'pos': 0.0, 'compound': 0.0}, {'neg': 0.0, 'neu': 1.0, 'pos': 0.0, 'compound': 0.0}, {'neg': 0.0, 'neu': 1.0, 'pos': 0.0, 'compound': 0.0}]   \n",
       "\n",
       "   sum compound            class       star class  \n",
       "0        0.0000  {'Negativo': 0}  {'Negativo': 0}  \n",
       "1       -0.1483  {'Negativo': 0}  {'Negativo': 0}  \n",
       "2       -0.2488  {'Negativo': 0}  {'Positivo': 1}  \n",
       "3       -0.4767  {'Negativo': 0}  {'Negativo': 0}  \n",
       "4        0.2960  {'Positivo': 1}  {'Negativo': 0}  \n",
       "5        1.0341  {'Positivo': 1}  {'Positivo': 1}  \n",
       "6        1.4527  {'Positivo': 1}  {'Positivo': 1}  \n",
       "7       -0.1589  {'Negativo': 0}  {'Negativo': 0}  \n",
       "8        0.5535  {'Positivo': 1}  {'Negativo': 0}  \n",
       "9        0.4588  {'Positivo': 1}  {'Negativo': 0}  "
      ]
     },
     "execution_count": 47,
     "metadata": {},
     "output_type": "execute_result"
    }
   ],
   "source": [
    "amazon_sample_3000.head(10)"
   ]
  },
  {
   "cell_type": "markdown",
   "metadata": {},
   "source": [
    "## Calcular el Accuracy"
   ]
  },
  {
   "cell_type": "markdown",
   "metadata": {},
   "source": [
    "La exactitud (en inglés accuracy) es una métrica para evaluar modelos de clasificación. Informalmente, la exactitud es la fracción de predicciones que el modelo realizó correctamente. Formalmente, la exactitud tiene la siguiente definición:\n",
    "\n",
    "$Exactitud = \\frac{Numero de Predicciones Correctas}{Numero Total de Predicciones}$\n",
    "\n",
    "En la clasificación binaria, la exactitud también se puede calcular en términos de positivos y negativos de la siguiente manera:\n",
    "\n",
    "$Exactitud = \\frac{VP + VN}{VP + VN + FP + FN}$\n",
    "\n",
    "Donde VP = Verdaderos positivos, VN = Verdaderos negativos, FP = Falsos positivos y FN = Falsos negativos."
   ]
  },
  {
   "cell_type": "code",
   "execution_count": 48,
   "metadata": {},
   "outputs": [
    {
     "data": {
      "text/plain": [
       "([0, 0, 1, 0, 0, 1, 1, 0, 0, 0], [0, 0, 0, 0, 1, 1, 1, 0, 1, 1])"
      ]
     },
     "execution_count": 48,
     "metadata": {},
     "output_type": "execute_result"
    }
   ],
   "source": [
    "from sklearn.metrics import accuracy_score\n",
    "\n",
    "y_true= [list(i.values())[0] for i in amazon_sample_3000['star class']]\n",
    "y_pred= [list(i.values())[0] for i in amazon_sample_3000['class']]\n",
    "y_true[:10], y_pred[:10]"
   ]
  },
  {
   "cell_type": "code",
   "execution_count": 49,
   "metadata": {},
   "outputs": [
    {
     "data": {
      "text/plain": [
       "0.57"
      ]
     },
     "execution_count": 49,
     "metadata": {},
     "output_type": "execute_result"
    }
   ],
   "source": [
    "round(accuracy_score(y_true, y_pred),3)"
   ]
  },
  {
   "cell_type": "markdown",
   "metadata": {},
   "source": [
    "## Calcular Precision"
   ]
  },
  {
   "cell_type": "markdown",
   "metadata": {},
   "source": [
    "La precisión es la relación $\\frac{VP}{VP + FP}$ donde VP es el número de verdaderos positivos y FP el número de falsos positivos. La precisión es intuitivamente la capacidad del clasificador de no etiquetar como positiva una muestra que es negativa."
   ]
  },
  {
   "cell_type": "code",
   "execution_count": 50,
   "metadata": {},
   "outputs": [
    {
     "data": {
      "text/plain": [
       "0.476"
      ]
     },
     "execution_count": 50,
     "metadata": {},
     "output_type": "execute_result"
    }
   ],
   "source": [
    "from sklearn.metrics import precision_score\n",
    "\n",
    "round(precision_score(y_true, y_pred),3)"
   ]
  },
  {
   "cell_type": "markdown",
   "metadata": {},
   "source": [
    "## Calcular Recall"
   ]
  },
  {
   "cell_type": "markdown",
   "metadata": {},
   "source": [
    "El recall es la relación $\\frac{VP}{VP + FN}$ donde VP es el número de verdaderos positivos y FN el número de falsos negativos. El recall es intuitivamente la capacidad del clasificador de encontrar todas las muestras positivas.\n",
    "\n",
    "El mejor valor es 1 y el peor valor es 0."
   ]
  },
  {
   "cell_type": "code",
   "execution_count": 51,
   "metadata": {},
   "outputs": [
    {
     "data": {
      "text/plain": [
       "0.759"
      ]
     },
     "execution_count": 51,
     "metadata": {},
     "output_type": "execute_result"
    }
   ],
   "source": [
    "from sklearn.metrics import recall_score\n",
    "\n",
    "round(recall_score(y_true, y_pred),3)"
   ]
  },
  {
   "cell_type": "markdown",
   "metadata": {},
   "source": [
    "# Visualizaciones"
   ]
  },
  {
   "cell_type": "code",
   "execution_count": 52,
   "metadata": {},
   "outputs": [],
   "source": [
    "corpus_adjectives = [row[0] for row in amazon_sample_3000['adjetives'] if row[0]!= 'Review no tiene adjetivos']"
   ]
  },
  {
   "cell_type": "code",
   "execution_count": 53,
   "metadata": {},
   "outputs": [
    {
     "data": {
      "text/plain": [
       "2929"
      ]
     },
     "execution_count": 53,
     "metadata": {},
     "output_type": "execute_result"
    }
   ],
   "source": [
    "len(corpus_adjectives)"
   ]
  },
  {
   "cell_type": "code",
   "execution_count": 54,
   "metadata": {},
   "outputs": [
    {
     "data": {
      "text/plain": [
       "[('other', 'JJ'),\n",
       " ('unbelievable', 'JJ'),\n",
       " ('disappointed', 'JJ'),\n",
       " ('OK', 'JJ'),\n",
       " ('British', 'JJ'),\n",
       " ('t', 'JJ'),\n",
       " ('fine', 'JJ'),\n",
       " ('great', 'JJ'),\n",
       " ('favorite', 'JJ'),\n",
       " ('first', 'JJ')]"
      ]
     },
     "execution_count": 54,
     "metadata": {},
     "output_type": "execute_result"
    }
   ],
   "source": [
    "corpus_adjectives[:10]"
   ]
  },
  {
   "cell_type": "markdown",
   "metadata": {},
   "source": [
    "### Contabilizar adjetivos"
   ]
  },
  {
   "cell_type": "code",
   "execution_count": 55,
   "metadata": {},
   "outputs": [],
   "source": [
    "from collections import Counter\n",
    "\n",
    "counts_adj = dict(Counter([i[0] for i in corpus_adjectives]))\n",
    "counts_adj = {k: v for k, v in sorted(counts_adj.items(), key=lambda item: item[1], reverse=True)}"
   ]
  },
  {
   "cell_type": "code",
   "execution_count": 56,
   "metadata": {},
   "outputs": [
    {
     "data": {
      "text/plain": [
       "905"
      ]
     },
     "execution_count": 56,
     "metadata": {},
     "output_type": "execute_result"
    }
   ],
   "source": [
    "len(counts_adj)"
   ]
  },
  {
   "cell_type": "code",
   "execution_count": 57,
   "metadata": {},
   "outputs": [
    {
     "data": {
      "text/plain": [
       "['good', 'great', 't', 'first', 'old']"
      ]
     },
     "execution_count": 57,
     "metadata": {},
     "output_type": "execute_result"
    }
   ],
   "source": [
    "labels = list(counts_adj.keys())\n",
    "labels[:5]"
   ]
  },
  {
   "cell_type": "code",
   "execution_count": 58,
   "metadata": {},
   "outputs": [
    {
     "data": {
      "text/plain": [
       "[159, 154, 85, 73, 60]"
      ]
     },
     "execution_count": 58,
     "metadata": {},
     "output_type": "execute_result"
    }
   ],
   "source": [
    "values = list(counts_adj.values())\n",
    "values[:5]"
   ]
  },
  {
   "cell_type": "markdown",
   "metadata": {},
   "source": [
    "## b) Gráficar"
   ]
  },
  {
   "cell_type": "code",
   "execution_count": 59,
   "metadata": {},
   "outputs": [],
   "source": [
    "import matplotlib\n",
    "import matplotlib.pyplot as plt\n",
    "import squarify"
   ]
  },
  {
   "cell_type": "markdown",
   "metadata": {},
   "source": [
    "## Treemap"
   ]
  },
  {
   "cell_type": "code",
   "execution_count": 60,
   "metadata": {},
   "outputs": [
    {
     "data": {
      "image/png": "[encoded data removed]",
      "text/plain": [
       "<Figure size 1152x684 with 1 Axes>"
      ]
     },
     "metadata": {
      "needs_background": "light"
     },
     "output_type": "display_data"
    }
   ],
   "source": [
    "cmap1 = matplotlib.cm.Blues\n",
    "\n",
    "mini=min(values)\n",
    "maxi=max(values)\n",
    "\n",
    "norm = matplotlib.colors.Normalize(vmin=mini, vmax=maxi)\n",
    "colors = [cmap1(norm(value)) for value in values]\n",
    " \n",
    "fig = plt.gcf()\n",
    "ax = fig.add_subplot()\n",
    "fig.set_size_inches(16, 9.5)\n",
    "\n",
    "squarify.plot(sizes=values[:25], label=labels[:25], color = colors,alpha = .7) #transparencia\n",
    "plt.title(\"Adjetives Treemap\",fontsize=23,fontweight=\"bold\")\n",
    "plt.axis('off')\n",
    "plt.show()"
   ]
  },
  {
   "cell_type": "markdown",
   "metadata": {},
   "source": [
    "# Conclusión y trabajo futuro"
   ]
  },
  {
   "cell_type": "markdown",
   "metadata": {},
   "source": [
    "Metric | Score \n",
    "-- | -- \n",
    "Accuracy | 57%\n",
    "Precision | 47.6%\n",
    "Recall | 75.9%"
   ]
  },
  {
   "cell_type": "markdown",
   "metadata": {},
   "source": [
    "- Mejorar el modelo podría traer mejores resultados, yo creo que SI, pero sería una tarea más detallada y exhaustiva.\n",
    "- Una mejor dorma de evaluer el modelo\n",
    "- Lo ideal sería tener un score de precision bueno, ya que nos importa no etiquetar como positiva una muestra que es negativa.\n",
    "- Otras visualizaciones"
   ]
  }
 ],
 "metadata": {
  "accelerator": "GPU",
  "colab": {
   "collapsed_sections": [],
   "name": "amazon_reviews_classification_awd.ipynb",
   "provenance": []
  },
  "kernelspec": {
   "display_name": "Python 3",
   "language": "python",
   "name": "python3"
  },
  "language_info": {
   "codemirror_mode": {
    "name": "ipython",
    "version": 3
   },
   "file_extension": ".py",
   "mimetype": "text/x-python",
   "name": "python",
   "nbconvert_exporter": "python",
   "pygments_lexer": "ipython3",
   "version": "3.6.9"
  }
 },
 "nbformat": 4,
 "nbformat_minor": 4
}
